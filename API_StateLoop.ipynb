{
 "cells": [
  {
   "cell_type": "code",
   "execution_count": 1,
   "metadata": {},
   "outputs": [],
   "source": [
    "# v0.10\n",
    "# Dependencies: OpenSSL installed (to handle https/SSL), requests module\n",
    "# Notes: The requests module handles most of the heavy lifting\n",
    "#       This will loop through all results in a query, 50 at a time,\n",
    "#       saving individual JSON files to the same directory as the script\n",
    "\n",
    "import requests\n",
    "from requests.auth import HTTPBasicAuth\n",
    "from datetime import datetime  # used to name json files\n",
    "from time import sleep\n",
    "import json"
   ]
  },
  {
   "cell_type": "code",
   "execution_count": 14,
   "metadata": {},
   "outputs": [
    {
     "name": "stdout",
     "output_type": "stream",
     "text": [
      "[\"Location eq 'VVM' or Location eq 'VVMtQUw' or Location eq 'VVMtQUs' or Location eq 'VVMtQVo' or Location eq 'VVMtQVI' or Location eq 'VVMtQ0E' or Location eq 'VVMtQ08' or Location eq 'VVMtQ1Q' or Location eq 'VVMtREM' or Location eq 'VVMtRkw'\", \"Location eq 'VVMtR0E' or Location eq 'VVMtSUQ' or Location eq 'VVMtSUw' or Location eq 'VVMtSU4' or Location eq 'VVMtSUE' or Location eq 'VVMtS1Mg' or Location eq 'VVMtS1k' or Location eq 'VVMtTEE' or Location eq 'VVMtTUU' or Location eq 'VVMtTUQg'\", \"Location eq 'VVMtTUE' or Location eq 'VVMtTUk' or Location eq 'VVMtTU4g' or Location eq 'VVMtTVM' or Location eq 'VVMtTU8' or Location eq 'VVMtTkU' or Location eq 'VVMtTlY' or Location eq 'VVMtTko' or Location eq 'VVMtTk0' or Location eq 'VVMtTlk'\", \"Location eq 'VVMtTkM' or Location eq 'VVMtTkQ' or Location eq 'VVMtT0g' or Location eq 'VVMtT0s' or Location eq 'VVMtT1Ig' or Location eq 'VVMtUEE' or Location eq 'VVMtUkk' or Location eq 'VVMtU0M' or Location eq 'VVMtVE4' or Location eq 'VVMtVFg'\", \"Location eq 'VVMtVVQ' or Location eq 'VVMtVkE' or Location eq 'VVMtV0E' or Location eq 'VVMtV1Y' or Location eq 'VVMtV0k' or Location eq 'VVMtV1kg'\"]\n"
     ]
    }
   ],
   "source": [
    "# put all states (base64) into a list, 10 per element. \n",
    "Location_filter = [\"Location eq 'VVM' or Location eq 'VVMtQUw' or Location eq 'VVMtQUs' or Location eq 'VVMtQVo' or Location eq 'VVMtQVI' or Location eq 'VVMtQ0E' or Location eq 'VVMtQ08' or Location eq 'VVMtQ1Q' or Location eq 'VVMtREM' or Location eq 'VVMtRkw'\",\"Location eq 'VVMtR0E' or Location eq 'VVMtSUQ' or Location eq 'VVMtSUw' or Location eq 'VVMtSU4' or Location eq 'VVMtSUE' or Location eq 'VVMtS1Mg' or Location eq 'VVMtS1k' or Location eq 'VVMtTEE' or Location eq 'VVMtTUU' or Location eq 'VVMtTUQg'\", \"Location eq 'VVMtTUE' or Location eq 'VVMtTUk' or Location eq 'VVMtTU4g' or Location eq 'VVMtTVM' or Location eq 'VVMtTU8' or Location eq 'VVMtTkU' or Location eq 'VVMtTlY' or Location eq 'VVMtTko' or Location eq 'VVMtTk0' or Location eq 'VVMtTlk'\", \"Location eq 'VVMtTkM' or Location eq 'VVMtTkQ' or Location eq 'VVMtT0g' or Location eq 'VVMtT0s' or Location eq 'VVMtT1Ig' or Location eq 'VVMtUEE' or Location eq 'VVMtUkk' or Location eq 'VVMtU0M' or Location eq 'VVMtVE4' or Location eq 'VVMtVFg'\", \"Location eq 'VVMtVVQ' or Location eq 'VVMtVkE' or Location eq 'VVMtV0E' or Location eq 'VVMtV1Y' or Location eq 'VVMtV0k' or Location eq 'VVMtV1kg'\"]\n",
    "#5 Elements in total for 46 states.\n",
    "query = 'recession and date > 2006 and date < 2010' \n",
    "#Place entire query string inside these quotes. (e.g. \"'Edwin Willers'\")"
   ]
  },
  {
   "cell_type": "code",
   "execution_count": null,
   "metadata": {},
   "outputs": [],
   "source": [
    "client_id = 'F8PT8FS9PXXRBR78RMZFJ25J8T526P'  # real Client ID\n",
    "secret = 'FPMJP84Q772GWHZ727M2STGPQ84MJ69MNPKS983H'  #  real Secret"
   ]
  },
  {
   "cell_type": "code",
   "execution_count": null,
   "metadata": {},
   "outputs": [],
   "source": [
    "############# Begin Function Definitions #############\n",
    "\n",
    "def get_token(client_id, secret):\n",
    "    \"\"\"Gets Authorizaton token to use in other requests.\"\"\"\n",
    "    auth_url = 'https://auth-api.lexisnexis.com/oauth/v2/token'\n",
    "    payload = ('grant_type=client_credentials&scope=http%3a%2f%2f'\n",
    "                'oauth.lexisnexis.com%2fall')\n",
    "    headers = {'Content-Type': 'application/x-www-form-urlencoded'}\n",
    "    r = requests.post(\n",
    "            auth_url,\n",
    "            auth=HTTPBasicAuth(client_id, secret),\n",
    "            headers=headers,\n",
    "            data=payload)\n",
    "    json_data = r.json()\n",
    "    return json_data['access_token']\n",
    "\n",
    "\n",
    "def build_url(content='News', query='', skip=0, expand='Document', top=50, filter=filter):\n",
    "    \"\"\"Builds the URL part of the request to Web Services API.\"\"\"\n",
    "    if filter != None:  # Filter is an optional parameter\n",
    "        api_url = ('https://services-api.lexisnexis.com/v1/' + content +\n",
    "                    '?$expand=' + expand + '&$search=' + query +\n",
    "                    '&$skip=' + str(skip) + '&$top=' + str(top) +\n",
    "                    '&$filter=' + filter)\n",
    "    else:\n",
    "        api_url = ('https://services-api.lexisnexis.com/v1/' + content +\n",
    "                    '?$expand=' + expand + '&$search=' + query +\n",
    "                    '&$skip=' + str(skip) + '&$top=' + str(top))\n",
    "    return api_url\n",
    "\n",
    "\n",
    "def build_header(token):\n",
    "    \"\"\"Builds the headers part of the request to Web Services API.\"\"\"\n",
    "    headers = {'Accept': 'application/json;odata.metadata=minimal',\n",
    "                'Connection': 'Keep-Alive',\n",
    "                'Host': 'services-api.lexisnexis.com'}\n",
    "    headers['Authorization'] = 'Bearer ' + token\n",
    "    return headers\n",
    "\n",
    "\n",
    "def get_result_count(json_data):\n",
    "    \"\"\"Gets the number of results from @odata.count in the response\"\"\"\n",
    "    return json_data['@odata.count']\n",
    "\n",
    "\n",
    "def time_now():\n",
    "    \"\"\"Gets current time to the second.\"\"\"\n",
    "    now = datetime.now()\n",
    "    return now.strftime('%Y-%m-%d-%H%M%S')\n",
    "\n",
    "############# End Function Defnitions #############"
   ]
  },
  {
   "cell_type": "code",
   "execution_count": 15,
   "metadata": {},
   "outputs": [
    {
     "name": "stdout",
     "output_type": "stream",
     "text": [
      "5\n",
      "SearchType eq LexisNexis.ServicesApi.SearchType'Boolean' and (PublicationType eq 'SW5kdXN0cnkgVHJhZGUgUHJlc3M' or PublicationType eq 'TmV3c3dpcmVzICYgUHJlc3MgUmVsZWFzZXM'or PublicationType eq 'TmV3c3BhcGVycw' or PublicationType eq 'TWFnYXppbmVzICYgSm91cm5hbHM') and Language eq LexisNexis.ServicesApi.Language'English' and GroupDuplicates eq LexisNexis.ServicesApi.GroupDuplicates'ModerateSimilarity' and (Location eq 'VVM' or Location eq 'VVMtQUw' or Location eq 'VVMtQUs' or Location eq 'VVMtQVo' or Location eq 'VVMtQVI' or Location eq 'VVMtQ0E' or Location eq 'VVMtQ08' or Location eq 'VVMtQ1Q' or Location eq 'VVMtREM' or Location eq 'VVMtRkw')\n",
      "SearchType eq LexisNexis.ServicesApi.SearchType'Boolean' and (PublicationType eq 'SW5kdXN0cnkgVHJhZGUgUHJlc3M' or PublicationType eq 'TmV3c3dpcmVzICYgUHJlc3MgUmVsZWFzZXM'or PublicationType eq 'TmV3c3BhcGVycw' or PublicationType eq 'TWFnYXppbmVzICYgSm91cm5hbHM') and Language eq LexisNexis.ServicesApi.Language'English' and GroupDuplicates eq LexisNexis.ServicesApi.GroupDuplicates'ModerateSimilarity' and (Location eq 'VVMtR0E' or Location eq 'VVMtSUQ' or Location eq 'VVMtSUw' or Location eq 'VVMtSU4' or Location eq 'VVMtSUE' or Location eq 'VVMtS1Mg' or Location eq 'VVMtS1k' or Location eq 'VVMtTEE' or Location eq 'VVMtTUU' or Location eq 'VVMtTUQg')\n",
      "SearchType eq LexisNexis.ServicesApi.SearchType'Boolean' and (PublicationType eq 'SW5kdXN0cnkgVHJhZGUgUHJlc3M' or PublicationType eq 'TmV3c3dpcmVzICYgUHJlc3MgUmVsZWFzZXM'or PublicationType eq 'TmV3c3BhcGVycw' or PublicationType eq 'TWFnYXppbmVzICYgSm91cm5hbHM') and Language eq LexisNexis.ServicesApi.Language'English' and GroupDuplicates eq LexisNexis.ServicesApi.GroupDuplicates'ModerateSimilarity' and (Location eq 'VVMtTUE' or Location eq 'VVMtTUk' or Location eq 'VVMtTU4g' or Location eq 'VVMtTVM' or Location eq 'VVMtTU8' or Location eq 'VVMtTkU' or Location eq 'VVMtTlY' or Location eq 'VVMtTko' or Location eq 'VVMtTk0' or Location eq 'VVMtTlk')\n",
      "SearchType eq LexisNexis.ServicesApi.SearchType'Boolean' and (PublicationType eq 'SW5kdXN0cnkgVHJhZGUgUHJlc3M' or PublicationType eq 'TmV3c3dpcmVzICYgUHJlc3MgUmVsZWFzZXM'or PublicationType eq 'TmV3c3BhcGVycw' or PublicationType eq 'TWFnYXppbmVzICYgSm91cm5hbHM') and Language eq LexisNexis.ServicesApi.Language'English' and GroupDuplicates eq LexisNexis.ServicesApi.GroupDuplicates'ModerateSimilarity' and (Location eq 'VVMtTkM' or Location eq 'VVMtTkQ' or Location eq 'VVMtT0g' or Location eq 'VVMtT0s' or Location eq 'VVMtT1Ig' or Location eq 'VVMtUEE' or Location eq 'VVMtUkk' or Location eq 'VVMtU0M' or Location eq 'VVMtVE4' or Location eq 'VVMtVFg')\n",
      "SearchType eq LexisNexis.ServicesApi.SearchType'Boolean' and (PublicationType eq 'SW5kdXN0cnkgVHJhZGUgUHJlc3M' or PublicationType eq 'TmV3c3dpcmVzICYgUHJlc3MgUmVsZWFzZXM'or PublicationType eq 'TmV3c3BhcGVycw' or PublicationType eq 'TWFnYXppbmVzICYgSm91cm5hbHM') and Language eq LexisNexis.ServicesApi.Language'English' and GroupDuplicates eq LexisNexis.ServicesApi.GroupDuplicates'ModerateSimilarity' and (Location eq 'VVMtVVQ' or Location eq 'VVMtVkE' or Location eq 'VVMtV0E' or Location eq 'VVMtV1Y' or Location eq 'VVMtV0k' or Location eq 'VVMtV1kg')\n"
     ]
    }
   ],
   "source": [
    "############# Begin business logic #############\n",
    "\n",
    "token = get_token(client_id, secret)  # 1 token will work for multiple requests\n",
    "request_headers = build_header(token)\n",
    "skip_value = 0  # Sets starting skip\n",
    "top = 50  # Adjusts the number of results to return\n",
    "\n",
    "#Place entire query string inside these quotes. (e.g. \"SearchType eq LexisNexis.ServicesApi.SearchType'Boolean' and PublicationType eq 'TmV3c3BhcGVycw' and Language eq LexisNexis.ServicesApi.Language'English'\") #### filter key is base64. e.g. US-OH is VVMtT0g\n",
    "# loops through all states, 10 states at a time, to avoid reaching node limit\n",
    "for i in range(len(Location_filter)):\n",
    "        filter = \"SearchType eq LexisNexis.ServicesApi.SearchType'Boolean' and (PublicationType eq 'SW5kdXN0cnkgVHJhZGUgUHJlc3M' or PublicationType eq 'TmV3c3dpcmVzICYgUHJlc3MgUmVsZWFzZXM'or PublicationType eq 'TmV3c3BhcGVycw' or PublicationType eq 'TWFnYXppbmVzICYgSm91cm5hbHM') and Language eq LexisNexis.ServicesApi.Language'English' and GroupDuplicates eq LexisNexis.ServicesApi.GroupDuplicates'ModerateSimilarity' and (\" + Location_filter[i] +\")\"\n",
    "        while True:\n",
    "            request_url = build_url(content='News', query=query, skip=skip_value, expand='Document', top=top, filter=filter)  # Filter is set to filter=None here. Change to filter=filter to use the filter specified above\n",
    "            r = requests.get(request_url, headers=request_headers)\n",
    "            \n",
    "            with open(str(time_now()) + '.json', 'w') as f_out:  # Creates a file with the current time as the file name.\n",
    "                f_out.write(r.text)\n",
    "                \n",
    "            skip_value = (skip_value + top)\n",
    "            json_data = r.json()\n",
    "            if skip_value > get_result_count(json_data):  # Check to see if all the results have been looped through\n",
    "                break\n",
    "            sleep(12)  # Limit 5 requests per minute (every 12 seconds)\n",
    "        "
   ]
  },
  {
   "cell_type": "code",
   "execution_count": null,
   "metadata": {},
   "outputs": [],
   "source": []
  }
 ],
 "metadata": {
  "kernelspec": {
   "display_name": "Python 3",
   "language": "python",
   "name": "python3"
  },
  "language_info": {
   "codemirror_mode": {
    "name": "ipython",
    "version": 3
   },
   "file_extension": ".py",
   "mimetype": "text/x-python",
   "name": "python",
   "nbconvert_exporter": "python",
   "pygments_lexer": "ipython3",
   "version": "3.7.6"
  }
 },
 "nbformat": 4,
 "nbformat_minor": 4
}
