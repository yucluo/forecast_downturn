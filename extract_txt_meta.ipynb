{
 "cells": [
  {
   "cell_type": "markdown",
   "metadata": {},
   "source": [
    "# separate texts from meta"
   ]
  },
  {
   "cell_type": "code",
   "execution_count": 24,
   "metadata": {},
   "outputs": [],
   "source": [
    "import json\n",
    "import urllib.parse\n",
    "import ssl\n",
    "import os\n",
    "import csv"
   ]
  },
  {
   "cell_type": "markdown",
   "metadata": {},
   "source": [
    "Loop through all JSONs to retrieve each result"
   ]
  },
  {
   "cell_type": "code",
   "execution_count": 42,
   "metadata": {},
   "outputs": [],
   "source": [
    "fh = []\n",
    "directory = os.getcwd()\n",
    "\n",
    "for filename in os.listdir(directory):\n",
    "    if filename.endswith(\"json\"):\n",
    "        fh.append(filename)\n",
    "    else:\n",
    "        continue\n",
    "\n",
    "results = []\n",
    "\n",
    "for filename in fh:\n",
    "    f = open(filename)\n",
    "    try:\n",
    "        data = json.load(f)\n",
    "        value = data['value']# exclude JSON that have the error or throttle msg\n",
    "    except:\n",
    "        continue\n",
    "    for i in range(len(value)):\n",
    "        results.append(value[i])"
   ]
  },
  {
   "cell_type": "code",
   "execution_count": 64,
   "metadata": {},
   "outputs": [
    {
     "name": "stdout",
     "output_type": "stream",
     "text": [
      "Please enter the search term: recession\n"
     ]
    }
   ],
   "source": [
    "txt_path = '/Users/yuchenluo/Desktop/forecast_downturn/txt'\n",
    "search_term = input(\"Please enter the search term: \")\n",
    "for result in results:\n",
    "#     id = result[\"ResultId\"]\n",
    "#     filename = id + \".\" + \"txt\"\n",
    "#     try:\n",
    "#        text = result[\"Document\"][\"Content\"]\n",
    "#     except:\n",
    "#         continue\n",
    "#   completeName = os.path.join(txt_path, filename)         \n",
    "#     file1 = open(completeName, \"w\")\n",
    "#     file1.write(text)\n",
    "#     file1.close()\n",
    "### wrtie meta data (everything except for text) to one csv file\n",
    "    result.update({\"SearchTerm\": search_term}) #add search term to each result\n",
    "    try:\n",
    "        result[\"Document\"].pop(\"Content\") # delete the text content\n",
    "    except:\n",
    "        continue"
   ]
  },
  {
   "cell_type": "code",
   "execution_count": 67,
   "metadata": {},
   "outputs": [],
   "source": [
    "with open('meta.csv', 'w') as f:  \n",
    "    w = csv.DictWriter(f, results[0].keys())\n",
    "    w.writeheader()\n",
    "    w.writerows(results)\n",
    "    \n",
    "    \n",
    "    \n",
    "    "
   ]
  },
  {
   "cell_type": "markdown",
   "metadata": {},
   "source": [
    "Nested categories \n",
    "1. Extracts - Type, SummaryText\n",
    "2. Source - Id, Name, ContentType, Jurisdiction, Publisher, AlphaCategory "
   ]
  },
  {
   "cell_type": "code",
   "execution_count": 65,
   "metadata": {},
   "outputs": [
    {
     "name": "stdout",
     "output_type": "stream",
     "text": [
      "recession\n"
     ]
    }
   ],
   "source": [
    "print(results[0][\"SearchTerm\"])\n"
   ]
  },
  {
   "cell_type": "code",
   "execution_count": 66,
   "metadata": {},
   "outputs": [
    {
     "name": "stdout",
     "output_type": "stream",
     "text": [
      "{'ResultId': 'urn:contentItem:4TX6-36Y0-TW84-P0JY-00000-00', 'Jurisdiction': 'International', 'Location': None, 'ContentType': 'News', 'Byline': 'Andrew Taylor', 'WordLength': 226, 'WebNewsUrl': None, 'Geography': None, 'NegativeNews': None, 'Language': None, 'Industry': None, 'People': None, 'Subject': None, 'Section': 'NATIONAL NEWS - UNEMPLOYMENT; Pg. 3', 'Company': None, 'PublicationType': None, 'Publisher': None, 'GroupDuplicates': None, 'InternationalLocation': None, 'SearchType': 'Boolean', 'Date': '2008-11-13T00:00:00Z', 'Keyword': None, 'Title': 'Longer-term concerns', 'DocumentContent@odata.mediaReadLink': \"Documents(DocumentId='%2fshared%2fdocument%2fnews%2furn%3acontentItem%3a4TX6-36Y0-TW84-P0JY-00000-00',DocumentIdType='DocFullPath')/$value\", 'DocumentContent@odata.mediaContentType': 'application/atom+xml', 'Overview': 'Financial Times (London, England), NATIONAL NEWS - UNEMPLOYMENT; Pg. 3, 226words', 'Extracts': [], 'IsCitationMatch': False, 'Document': {'DocumentId': '/shared/document/news/urn:contentItem:4TX6-36Y0-TW84-P0JY-00000-00', 'DocumentIdType': 'DocFullPath', 'Citation': ''}, 'Source': {'Id': '', 'Name': 'Financial Times (London, England)', 'ContentType': '', 'Jurisdiction': None, 'Publisher': None, 'AlphaCategory': None}, 'SearchTerm': 'recession'}\n"
     ]
    }
   ],
   "source": [
    "print(results[0])"
   ]
  },
  {
   "cell_type": "code",
   "execution_count": null,
   "metadata": {},
   "outputs": [],
   "source": []
  }
 ],
 "metadata": {
  "kernelspec": {
   "display_name": "Python 3",
   "language": "python",
   "name": "python3"
  },
  "language_info": {
   "codemirror_mode": {
    "name": "ipython",
    "version": 3
   },
   "file_extension": ".py",
   "mimetype": "text/x-python",
   "name": "python",
   "nbconvert_exporter": "python",
   "pygments_lexer": "ipython3",
   "version": "3.7.6"
  }
 },
 "nbformat": 4,
 "nbformat_minor": 4
}
