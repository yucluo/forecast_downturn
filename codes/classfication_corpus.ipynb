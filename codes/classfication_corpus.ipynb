{
 "cells": [
  {
   "cell_type": "code",
   "execution_count": 145,
   "metadata": {},
   "outputs": [],
   "source": [
    "from gensim.models.doc2vec import Doc2Vec, TaggedDocument\n",
    "from gensim.models.deprecated.doc2vec import LabeledSentence\n",
    "from gensim.models.word2vec import Word2Vec\n",
    "from gensim.models.phrases import Phraser, Phrases\n",
    "from gensim.parsing.porter import PorterStemmer\n",
    "from gensim.parsing.preprocessing import STOPWORDS\n",
    "from string import digits\n",
    "\n",
    "import pandas as pd\n",
    "import numpy as np\n",
    "import string\n",
    "import re\n",
    "import random \n",
    "import os\n",
    "import csv\n",
    "\n",
    "from sklearn.ensemble import GradientBoostingClassifier, RandomForestClassifier\n",
    "from sklearn.model_selection import train_test_split, KFold, cross_val_score, GridSearchCV\n",
    "from sklearn import metrics\n",
    "from sklearn.calibration import CalibratedClassifierCV\n",
    "from sklearn.metrics import confusion_matrix, precision_recall_curve\n",
    "from sklearn.metrics import plot_precision_recall_curve\n",
    "from sklearn.feature_extraction.text import CountVectorizer\n",
    "from sklearn.utils.multiclass import unique_labels\n",
    "from sklearn.metrics import auc\n",
    "from sklearn.model_selection import cross_val_score\n",
    "from sklearn.model_selection import cross_validate\n",
    "from sklearn.model_selection import RepeatedStratifiedKFold\n",
    "from sklearn.metrics import precision_score\n",
    "from sklearn.metrics import recall_score\n",
    "\n",
    "from modAL.models import ActiveLearner\n",
    "from modAL.uncertainty import uncertainty_sampling\n",
    "from modAL.uncertainty import entropy_sampling\n",
    "from modAL.density import information_density\n",
    "\n",
    "from scipy.stats import entropy\n",
    "from matplotlib import pyplot as plt\n",
    "%matplotlib inline"
   ]
  },
  {
   "cell_type": "markdown",
   "metadata": {},
   "source": [
    "# Load Data and Clean"
   ]
  },
  {
   "cell_type": "code",
   "execution_count": 151,
   "metadata": {},
   "outputs": [],
   "source": [
    "dat = pd.read_csv(\"all_text.csv\")"
   ]
  },
  {
   "cell_type": "code",
   "execution_count": 3,
   "metadata": {},
   "outputs": [],
   "source": [
    "# preprocessing (remove punctuation, numbers, lowercase)\n",
    "punctuation_dictionary = {s:None for s in list(string.punctuation)}\n",
    "\n",
    "punctuation_translator = str.maketrans(punctuation_dictionary)\n",
    "\n",
    "def text_cleaner(text, punctuation_translator):\n",
    "    text = text.replace('c(\"', '')\n",
    "    text = str(text).translate(punctuation_translator)\n",
    "    text = text.lower()\n",
    "    remove_digits = str.maketrans('', '', digits)\n",
    "    text = text.translate(remove_digits)\n",
    "    return(text)\n",
    "\n",
    "dat[\"clean_text\"] = dat[\"text\"].apply(lambda x: text_cleaner(x, punctuation_translator))"
   ]
  },
  {
   "cell_type": "code",
   "execution_count": 8,
   "metadata": {},
   "outputs": [],
   "source": [
    "# find phrases\n",
    "phrases1 = Phrases(map(lambda x: x.split(), dat[\"clean_text\"].tolist())) #bigram\n",
    "phrases2 = Phrases(phrases1[map(lambda x: x.split(), dat[\"clean_text\"].tolist())]) #trigram\n",
    "dat[\"phrased_text\"] = dat[\"clean_text\"].apply(lambda x: \" \".join(phrases2[phrases1[x.split()]]))"
   ]
  },
  {
   "cell_type": "code",
   "execution_count": 91,
   "metadata": {},
   "outputs": [
    {
     "data": {
      "text/html": [
       "<div>\n",
       "<style scoped>\n",
       "    .dataframe tbody tr th:only-of-type {\n",
       "        vertical-align: middle;\n",
       "    }\n",
       "\n",
       "    .dataframe tbody tr th {\n",
       "        vertical-align: top;\n",
       "    }\n",
       "\n",
       "    .dataframe thead th {\n",
       "        text-align: right;\n",
       "    }\n",
       "</style>\n",
       "<table border=\"1\" class=\"dataframe\">\n",
       "  <thead>\n",
       "    <tr style=\"text-align: right;\">\n",
       "      <th></th>\n",
       "      <th>id</th>\n",
       "      <th>text</th>\n",
       "      <th>clean_text</th>\n",
       "      <th>phrased_text</th>\n",
       "    </tr>\n",
       "  </thead>\n",
       "  <tbody>\n",
       "    <tr>\n",
       "      <th>0</th>\n",
       "      <td>7VS1-X791-2R2Y-70SK-00000-00.txt</td>\n",
       "      <td>c(\"May 23--Record demand for area food pantry ...</td>\n",
       "      <td>may record demand for area food pantry program...</td>\n",
       "      <td>may record demand for area food_pantry program...</td>\n",
       "    </tr>\n",
       "    <tr>\n",
       "      <th>1</th>\n",
       "      <td>4VGG-NH20-TX12-N12V-00000-00.txt</td>\n",
       "      <td>c(\"Jan. 28--STOCKTON -- All but six of the 189...</td>\n",
       "      <td>jan stockton  all but six of the  units in the...</td>\n",
       "      <td>jan_stockton all but six of the units in the v...</td>\n",
       "    </tr>\n",
       "    <tr>\n",
       "      <th>2</th>\n",
       "      <td>7VTR-NPY0-Y9J0-Y26V-00000-00.txt</td>\n",
       "      <td>c(\"May 31--It's a simple question: What are yo...</td>\n",
       "      <td>may its a simple question what are you being c...</td>\n",
       "      <td>may its a simple_question what are you being c...</td>\n",
       "    </tr>\n",
       "    <tr>\n",
       "      <th>3</th>\n",
       "      <td>4VG1-37N0-TX12-N0MF-00000-00.txt</td>\n",
       "      <td>c(\"Jan. 25--This is the best time for buying p...</td>\n",
       "      <td>jan this is the best time for buying propertie...</td>\n",
       "      <td>jan this is the best time for buying propertie...</td>\n",
       "    </tr>\n",
       "    <tr>\n",
       "      <th>4</th>\n",
       "      <td>7WDR-PFY0-Y9J0-Y03G-00000-00.txt</td>\n",
       "      <td>c(\"Aug. 17--GLENS FALLS -- The Glens Falls Far...</td>\n",
       "      <td>aug glens falls  the glens falls farmers marke...</td>\n",
       "      <td>aug glens_falls the glens_falls farmers_market...</td>\n",
       "    </tr>\n",
       "    <tr>\n",
       "      <th>...</th>\n",
       "      <td>...</td>\n",
       "      <td>...</td>\n",
       "      <td>...</td>\n",
       "      <td>...</td>\n",
       "    </tr>\n",
       "    <tr>\n",
       "      <th>214539</th>\n",
       "      <td>5P1D-JB81-DYY9-J17B-00000-00.txt</td>\n",
       "      <td>\"Change\" has been President-elect Barack Obama...</td>\n",
       "      <td>change has been presidentelect barack obamas m...</td>\n",
       "      <td>change has_been presidentelect_barack_obamas m...</td>\n",
       "    </tr>\n",
       "    <tr>\n",
       "      <th>214540</th>\n",
       "      <td>4V23-HR00-TXJ7-F169-00000-00.txt</td>\n",
       "      <td>As banks race to cover all of their payments b...</td>\n",
       "      <td>as banks race to cover all of their payments b...</td>\n",
       "      <td>as banks race to cover all of their payments b...</td>\n",
       "    </tr>\n",
       "    <tr>\n",
       "      <th>214541</th>\n",
       "      <td>4TKS-1W10-TX2Y-F076-00000-00.txt</td>\n",
       "      <td>Media stocks might be depressed amid the curre...</td>\n",
       "      <td>media stocks might be depressed amid the curre...</td>\n",
       "      <td>media stocks might be depressed amid the curre...</td>\n",
       "    </tr>\n",
       "    <tr>\n",
       "      <th>214542</th>\n",
       "      <td>7WKK-W2D0-Y9S8-W524-00000-00.txt</td>\n",
       "      <td>Party leaders from both sides have condemned h...</td>\n",
       "      <td>party leaders from both sides have condemned h...</td>\n",
       "      <td>party_leaders from both_sides have condemned h...</td>\n",
       "    </tr>\n",
       "    <tr>\n",
       "      <th>214543</th>\n",
       "      <td>4TW4-7600-TX7B-K0HM-00000-00.txt</td>\n",
       "      <td>Supporters of a major boost in federal transpo...</td>\n",
       "      <td>supporters of a major boost in federal transpo...</td>\n",
       "      <td>supporters of a major boost in federal transpo...</td>\n",
       "    </tr>\n",
       "  </tbody>\n",
       "</table>\n",
       "<p>214544 rows × 4 columns</p>\n",
       "</div>"
      ],
      "text/plain": [
       "                                      id  \\\n",
       "0       7VS1-X791-2R2Y-70SK-00000-00.txt   \n",
       "1       4VGG-NH20-TX12-N12V-00000-00.txt   \n",
       "2       7VTR-NPY0-Y9J0-Y26V-00000-00.txt   \n",
       "3       4VG1-37N0-TX12-N0MF-00000-00.txt   \n",
       "4       7WDR-PFY0-Y9J0-Y03G-00000-00.txt   \n",
       "...                                  ...   \n",
       "214539  5P1D-JB81-DYY9-J17B-00000-00.txt   \n",
       "214540  4V23-HR00-TXJ7-F169-00000-00.txt   \n",
       "214541  4TKS-1W10-TX2Y-F076-00000-00.txt   \n",
       "214542  7WKK-W2D0-Y9S8-W524-00000-00.txt   \n",
       "214543  4TW4-7600-TX7B-K0HM-00000-00.txt   \n",
       "\n",
       "                                                     text  \\\n",
       "0       c(\"May 23--Record demand for area food pantry ...   \n",
       "1       c(\"Jan. 28--STOCKTON -- All but six of the 189...   \n",
       "2       c(\"May 31--It's a simple question: What are yo...   \n",
       "3       c(\"Jan. 25--This is the best time for buying p...   \n",
       "4       c(\"Aug. 17--GLENS FALLS -- The Glens Falls Far...   \n",
       "...                                                   ...   \n",
       "214539  \"Change\" has been President-elect Barack Obama...   \n",
       "214540  As banks race to cover all of their payments b...   \n",
       "214541  Media stocks might be depressed amid the curre...   \n",
       "214542  Party leaders from both sides have condemned h...   \n",
       "214543  Supporters of a major boost in federal transpo...   \n",
       "\n",
       "                                               clean_text  \\\n",
       "0       may record demand for area food pantry program...   \n",
       "1       jan stockton  all but six of the  units in the...   \n",
       "2       may its a simple question what are you being c...   \n",
       "3       jan this is the best time for buying propertie...   \n",
       "4       aug glens falls  the glens falls farmers marke...   \n",
       "...                                                   ...   \n",
       "214539  change has been presidentelect barack obamas m...   \n",
       "214540  as banks race to cover all of their payments b...   \n",
       "214541  media stocks might be depressed amid the curre...   \n",
       "214542  party leaders from both sides have condemned h...   \n",
       "214543  supporters of a major boost in federal transpo...   \n",
       "\n",
       "                                             phrased_text  \n",
       "0       may record demand for area food_pantry program...  \n",
       "1       jan_stockton all but six of the units in the v...  \n",
       "2       may its a simple_question what are you being c...  \n",
       "3       jan this is the best time for buying propertie...  \n",
       "4       aug glens_falls the glens_falls farmers_market...  \n",
       "...                                                   ...  \n",
       "214539  change has_been presidentelect_barack_obamas m...  \n",
       "214540  as banks race to cover all of their payments b...  \n",
       "214541  media stocks might be depressed amid the curre...  \n",
       "214542  party_leaders from both_sides have condemned h...  \n",
       "214543  supporters of a major boost in federal transpo...  \n",
       "\n",
       "[214544 rows x 4 columns]"
      ]
     },
     "execution_count": 91,
     "metadata": {},
     "output_type": "execute_result"
    }
   ],
   "source": [
    "#dat"
   ]
  },
  {
   "cell_type": "markdown",
   "metadata": {},
   "source": [
    "# doc2vec"
   ]
  },
  {
   "cell_type": "code",
   "execution_count": 93,
   "metadata": {},
   "outputs": [],
   "source": [
    "docs = list(zip(dat[\"phrased_text\"].tolist(), dat[\"id\"].tolist()))\n",
    "\n",
    "\n",
    "## Define an iterator to feed documents and tags to Doc2Vec\n",
    "class Sentences(object):\n",
    "    def __init__(self, docs):\n",
    "        self.docs = docs\n",
    "    def __iter__(self):\n",
    "        for doc in self.docs:\n",
    "            yield TaggedDocument(words=str(doc[0]).split(), tags=[doc[1]])\n",
    "\n",
    "## Train and save models\n",
    "model = Doc2Vec(Sentences(docs), vector_size=100, window=10, min_count=100, negative=10, epochs=10, dm=0, dbow_words=1)"
   ]
  },
  {
   "cell_type": "code",
   "execution_count": 94,
   "metadata": {},
   "outputs": [
    {
     "name": "stdout",
     "output_type": "stream",
     "text": [
      "214544\n",
      "214544\n",
      "214544\n"
     ]
    }
   ],
   "source": [
    "print(len(model.docvecs))\n",
    "model.save(\"doc2vec_wordvecs.model\")\n",
    "print(len(docs))\n",
    "print(len(dat))\n",
    "\n"
   ]
  },
  {
   "cell_type": "code",
   "execution_count": 95,
   "metadata": {},
   "outputs": [
    {
     "data": {
      "text/plain": [
       "[('deep_recession', 0.8328547477722168),\n",
       " ('economic_slump', 0.823676347732544),\n",
       " ('severe_recession', 0.8173205852508545),\n",
       " ('recessionbut', 0.7941799163818359),\n",
       " ('current_downturn', 0.7936395406723022),\n",
       " ('recessionand', 0.7841596007347107),\n",
       " ('recessionary', 0.7790869474411011),\n",
       " ('prolonged_recession', 0.7782836556434631),\n",
       " ('downturn', 0.7760612964630127),\n",
       " ('recessionit', 0.7659202814102173)]"
      ]
     },
     "execution_count": 95,
     "metadata": {},
     "output_type": "execute_result"
    }
   ],
   "source": [
    "model.wv.most_similar('recession') #check the model"
   ]
  },
  {
   "cell_type": "code",
   "execution_count": 41,
   "metadata": {},
   "outputs": [],
   "source": [
    "# load model\n",
    "model = Word2Vec.load(\"doc2vec_wordvecs.model\") "
   ]
  },
  {
   "cell_type": "markdown",
   "metadata": {},
   "source": [
    "# Random Forest"
   ]
  },
  {
   "cell_type": "code",
   "execution_count": 152,
   "metadata": {},
   "outputs": [],
   "source": [
    "## load labelled data\n",
    "clas_dat1 = pd.read_csv(\"random_sample_CRK_YL-6-7-21.csv\")\n",
    "# keep relavant rows and columns\n",
    "clas_dat1 = clas_dat1[['id', 'text', 'final_code']]\n",
    "clas_dat2 = pd.read_csv(\"random_sample3_CRK.csv\")\n",
    "clas_dat2 = clas_dat2[['id', 'text',\"include\"]]\n",
    "clas_dat2.columns = clas_dat1.columns\n",
    "clas_dat3 = pd.read_csv(\"random_sample2_YL.csv\")\n",
    "clas_dat3 = clas_dat3[['id', 'text',\"match_yl\"]]\n",
    "clas_dat3.columns = clas_dat1.columns\n",
    "clas_dat = clas_dat1.append([clas_dat2, clas_dat3])\n",
    "# ## generate test and training set \n",
    "# clas_dat['test'] = np.random.choice([0, 1], size = len(clas_dat['id']), p = [0.8,0.2])\n",
    "# merge with the total dataframe\n",
    "dat = dat.merge(clas_dat[[\"id\", \"final_code\"]], how = \"left\", on = \"id\")\n",
    "X = np.asarray([model.docvecs[i] for i in dat[dat['id'].isin(clas_dat['id'])].index.tolist()])\n",
    "y = clas_dat['final_code']"
   ]
  },
  {
   "cell_type": "code",
   "execution_count": 142,
   "metadata": {},
   "outputs": [
    {
     "data": {
      "text/plain": [
       "array([1, 0])"
      ]
     },
     "execution_count": 142,
     "metadata": {},
     "output_type": "execute_result"
    }
   ],
   "source": [
    "y.unique()"
   ]
  },
  {
   "cell_type": "code",
   "execution_count": 153,
   "metadata": {},
   "outputs": [
    {
     "data": {
      "text/html": [
       "<div>\n",
       "<style scoped>\n",
       "    .dataframe tbody tr th:only-of-type {\n",
       "        vertical-align: middle;\n",
       "    }\n",
       "\n",
       "    .dataframe tbody tr th {\n",
       "        vertical-align: top;\n",
       "    }\n",
       "\n",
       "    .dataframe thead th {\n",
       "        text-align: right;\n",
       "    }\n",
       "</style>\n",
       "<table border=\"1\" class=\"dataframe\">\n",
       "  <thead>\n",
       "    <tr style=\"text-align: right;\">\n",
       "      <th></th>\n",
       "      <th>id</th>\n",
       "      <th>text</th>\n",
       "      <th>final_code</th>\n",
       "    </tr>\n",
       "  </thead>\n",
       "  <tbody>\n",
       "    <tr>\n",
       "      <th>0</th>\n",
       "      <td>7WP8-9XG1-2R2Y-71SP-00000-00.txt</td>\n",
       "      <td>c(\"sep. 23--at a time when a lot of industries are struggling with the ***recession**, monterey county farmers are holding their own.\\\"agriculture tends to be noncyclical,\\\" said steve seldomridge, a senior vice president of wells fargo bank in monterey.the gross value of monterey county agriculture products was up in 2008 by one tenth of a percent, a year after a 9.5 percent increase.\\\"we suffer more when we overproduce\\\" and prices go down, said john hillen, a vice president of rabobank in salinas. \\\"we have a lot of good, stable production here.\\\"the rising fuel prices that hit their peak last year made things tough on farmers. fuel is one-quarter to one-third of a farmer's cost, seldomridge said.even with fuel prices down substantially from a year ago, farmers are looking for ways to conserve fuel, hillen said.consumers shifted their food-buying habits during the ***recession**. that has meant more sales of fresh, unprocessed foods and fewer high-priced items.both bankers say monterey county winemakers and grape growers have seen a decline in sales for higher-priced wines.\\\"people aren't drinking less wine,\\\" seldomridge said.while farmers are holding their own, they're generally not putting money into expansion.\\\"there's a lot of caution out there,\\\" seldomridge said.hillen of rabobank said there's more land for sale now.a few years ago, seldomridge of wells fargo said, growers sometimes had trouble finding enough workers. but when the economyis down, he said, there's not a shortage of workers.to see more of the monterey county herald, or to subscribe to the newspaper, go to http://www.montereyherald.com. copyright (c) 2009, the monterey county herald, calif. distributed by mcclatchy-tribune information services. for reprints, email tmsreprints@permissionsgroup.com, call 800-374-7985 or 847-635-6550, send a fax to 847-635-6968, or write to the permissions group inc., 1247 milwaukee ave., suite 303, glenview, il 60025, usa.\", \\n\"distributed by mcclatchy-tribune business news\")</td>\n",
       "      <td>1</td>\n",
       "    </tr>\n",
       "    <tr>\n",
       "      <th>1</th>\n",
       "      <td>7XCN-V6H1-2R2Y-72P9-00000-00.txt</td>\n",
       "      <td>c(\"dec. 23--a st. louis-based business bank quietly entered the east valley earlier this month by acquiring valley capital bank in mesa.on dec. 11, valley capital bank, national association, mesa, was closed by the office of the comptroller of the currency, which appointed the federal deposit insurance corp.as receiver. the fdic then entered into a purchase and assumption agreement with enterprise bank &amp;amp; trust to assume all of valley capital's deposits.valley capital, a business bank, opened in 2007 near stapley drive and baseline road in mesa. as of sept. 30, it had about $40.3 million in total assets and about $41.3 million in deposits.valley capital was struggling because of significant losses in its acquisition, development and construction portfolio, said greg hernandez, fdic spokesman.\\\"you couple that with a weak real estate market and the bank failed,\\\" he said. \\\"the bank was put on the fdic's problem institution list in january and became insolvent as of sept. 30.\\\"enterprise bank &amp;amp; trust paid the fdic a 2 percent premium for the right to assume all of valley capital's deposits. in addition, it agreed to purchase all of the failed bank's assets.enterprise bank &amp;amp; trust focuses on middle-market, family-owned businesses. its holding company has $2.2 billion in assets and its wealth management segment has more than $1 billion under management.\\\"all of the deposits that we acquired at valley capital bank ... are safe and secured,\\\" said jack barry, arizona market president for enterprise bank &amp;amp; trust. \\\"despite the downturn, we're very bullish on arizona and the southwest, and in particular the metro phoenix area, and we think it offers a lot of opportunity for growth. hopefully, we'll be in a position to maximize that opportunity.\\\"enterprise bank &amp;amp; trust opened a loan production office two years ago in phoenix, and originally was pursuing a de novo charter from the fdic to open a full-service bank in arizona, he said. a de novo charter is a license to open a bank.\\\"but with the ***economic downturn**, basically the fdic had really stopped issuing de novo charters, and subsequent to that we then set about trying to find an entry point to get a bank charter because you have to obtain a local bank charter in order to do full banking business,\\\" barry said. \\\"our criteria was to find a relatively low-risk acquisition ... and just recently we were presented with this opportunity by the fdic. we did it a little different than originally planned, but we got to the same objective.\\\"valley capital's business was \\\"heavily commercial real estate oriented,\\\" while enterprise bank &amp;amp; trust strikes \\\"more of a balance between real estate and commercial/industrial operating companies,\\\" he said.\\\"they were relatively young ... and i think unfortunately they just kind of walked right into a significant real estate turn,\\\" barry said.the mesa bank is now enterprise bank &amp;amp; trust, and it's business as usual for its customers, he said.\\\"we are examining our opportunities to open other branches,\\\" barry said. \\\"in the near term, we will look to expand with other branches in the central phoenix area on the camelback corridor and also in the far west valley area.\\\"to see more of the tribune, or to subscribe to the newspaper, go to http://www.eastvalleytribune.com. copyright (c) 2009, the tribune, mesa, ariz. distributed by mcclatchy-tribune information services. for reprints, email tmsreprints@permissionsgroup.com, call 800-374-7985 or 847-635-6550, send a fax to 847-635-6968, or write to the permissions group inc., 1247 milwaukee ave., suite 303, glenview, il 60025, usa.\", \\n\"distributed by mcclatchy-tribune business news\")</td>\n",
       "      <td>0</td>\n",
       "    </tr>\n",
       "    <tr>\n",
       "      <th>2</th>\n",
       "      <td>7X27-9C40-Y8T5-Y4FR-00000-00.txt</td>\n",
       "      <td>for people lacking health insurance in the washington region, where they live can make all the difference in getting affordable health care.the district makes it easy, with its taxpayer-funded health insurance for everyone  within generous income restrictions. but about 10 percent of eligible adults remain uninsured, and the city wants to find and enroll them.at the other end of the spectrum is prince george's county, where recent census bureau statistics show that one in five working-age adults is uninsured. many are the working poor, who have to choose between getting a checkup and buying groceries. five free clinics in the county  treated 6,000  people last year, a small fraction of the uninsured.the census statistics underscore wide regional differences in how many people are uninsured. health-care professionals say there also are gaps in health, measured by such data as how many people are tested for serious diseases and how many children are born prematurely. a report this spring by the metropolitan washington council of governments found that average life expectancy ranged from 72 in the district to 81 in montgomery county.a lack of health insurance is not the only factor determining whether people have access to care. but many clinics that provide free or low-cost health care to low-income residents say they are flooded with people who have let their health slide, often for years, because they have no insurance.\"free clinics are not adequate to address the need,\" said kelley woodward, medical director of the alexandria health department and the lead doctor for  cog's report on community health status indicators. \"there's a huge shortage of services for people without health insurance. the clinics are all overwhelmed.\"of particular concern are adults 18 to 64. children can be covered under federal and state programs, and seniors get medicare. most adults get no help. clinics report a sharp increase during the ***recession** in the working poor and unemployed patients.\"they're people who had really good jobs and who have lost really everything,\" said michelle schuler, executive director of the free clinic in prince william county, where 17 percent of working-age adults are uninsured. \"it's humbling for them to have to ask for help. they think the situation is going to change, and so they go without their medications for hypertension or diabetes. by the time they realize things aren't turning around and they come to us, they're very sick.\"some of the area's most affluent counties have relatively high numbers of uninsured residents. in montgomery, 16 percent of working-age adults lack insurance, according to the census estimates. in fairfax, it's 13 percent.prince george's has the most. donald shell, head of the health department, estimates that 150,000 of the county's 820,000 residents, including children and the elderly, are uninsured.\"prince george's is in a quagmire,\" shell said. \"many residents, though they are employed, have incomes too high to qualify for medicaid.\" so some go without insurance.residents earning more than $27,562 for a family of four do not qualify for care at one of the five clinics run in the county by greater baden medical services, a nonprofit group. \"so many people are, like, a dollar over the cutoff,\" said sarah leonard, executive director of greater baden. \"we have a lot of people struggling to get by in an area where living costs are high, and they're not able to get coverage. so they just don't get care at all.\"shell said the county is considering opening a primary-care clinic at the county hospital, where the uninsured could seek care for one-fifth the cost of going to the emergency room.costs have waylaid many a plan.only an infusion of $1.2 million in federal stimulus money kept the prince william community health center from closing its doors. the center served 6,000 people last year, director liz sykes said. many are jobless or uninsured working poor who have part-time or entry-level jobs. at the free clinic, which is open two nights a week, schuler said she has seen more homeless patients in the past seven months than in the previous 15 years.montgomery set an ambitious goal of caring for 40,000 uninsured residents -- half the estimated total -- at a network of \"safety net\" clinics. five years later, the county is halfway there and the clinics have waiting lists.county council member george leventhal (d-at large), who heads the panel's health and human services committee, said most of the uninsured are working-class people and recent immigrants. council member duchy trachtenberg (d-at large) said a growing number are divorced women 55 to 64. many forgo health insurance in the face of more pressing needs.\"the cost of living is so high,\" leventhal said. \"if you're making discretionary decisions, you pay the rent or groceries or health insurance.\"the district boasts the most comprehensive health coverage in the region -- and some of the biggest health challenges. it has the region's highest rates of low birth  weights, premature births, breast cancer, heart disease and aids, for example.julie hudman, head of the city's health care finance department, said the district has fewer uninsured adults because of its high eligibility levels. its healthcare alliance program covers almost 55,000 adults who make up to 200 percent of the federal poverty level, or $36,620 for a family of three. fully a third of the adults in the city are covered under alliance or medicaid.under alliance, patients have no premiums and no cost sharing. prescription drugs cost the patient $1. everyone is eligible, including newly arrived and undocumented immigrants.\"our goal is to have everyone covered,\" hudman said. a survey is being done to determine why some people haven't enrolled.woodward, who headed the cog study, said hospitals are providing a lot of primary care that the clinics cannot handle, particularly in emergency rooms.\"having a fifth of adults without health insurance is a huge problem,\" he said. \"having people in our community who don't have the health care they need while others readily have access to it is not a comfortable thing for me as a physician.\"</td>\n",
       "      <td>0</td>\n",
       "    </tr>\n",
       "    <tr>\n",
       "      <th>3</th>\n",
       "      <td>4SKJ-MNP0-TWX3-K0WW-00000-00.txt</td>\n",
       "      <td>what would it take to stop the madness of rising oil prices? shocking increases in crude-oil costs - which spiked above $135 a barrel at one point last week - are now pushing airlines and truckers to the brink, forcing many consumers to say they are staying home this holiday weekend, and recharging fears of ***recession** in the face of $4-a-gallon gasoline. it's a supply-demand problem on steroids. here are five possible solutions, along with the outlook for each. solution no. 1:  reduce world demand for oil. outlook: very unlikely. but oil supplies haven't changed much over the last five years, so why not simply throttle back demand? well, who isn't trying? hybrid cars and fluorescent bulbs help. but as the saying goes, the genie is out of the bottle. oil demand, particularly from china, continues to skyrocket. at the same time, efforts to switch to alternative fuels continue to stumble - and are short-term losers. converting corn to ethanol is making food more expensive, and scarce, some experts say. building more nuclear power stations would take years. solar and wind power? planners are just waking up to the huge amounts of real estate the current technologies would consume to reach meaningful outputs. solution no. 2: pump more  oil out of the ground. outlook: not likely for decades. the international energy agency, which is based in paris, said last week that oil companies might be incapable of keeping up with demand for the next 20 years. the opec oil cartel is disinclined to try harder, and some of its officials even question whether there is a supply shortage. on thursday, opec secretary-general abdullah al-badri pointed a finger at market speculation and the weak dollar to explain high crude prices. \"even if we increase output tomorrow, the prices will not come down, because of speculation and because of a weak dollar,\" he said. \"when we see there is a shortage of supply, we will act.\" solution no. 3: pop the speculation bubble. outlook: try changing human nature. if wild speculation is the problem, let's round up those naughty traders and bus them to chester and bensalem to bet the slots and ponies instead of the price of a barrel of crude. but then what? speculators, who never intend to take possession of a barrel of oil, are simply paying what they think that barrel will be worth at some future date. they're taking into account all the same fundamental factors that have propelled the price of oil up for the last six years. solution no. 4: strengthen the weak dollar. outlook: this could happen in coming months. the federal reserve has signaled that it doesn't see further interest-rate cuts for now, and opec president chakib khelil told reuters last week that a 10 percent gain in the dollar probably would result in a 40 percent drop in oil prices. this is largely because oil futures are traded in dollars, and a weak dollar makes oil less expensive to buyers dealing in other currencies. meanwhile, the price of oil has tended to slip on any day that the dollar strengthens against the euro. economists still disagree, though, on how best to shore up the dollar and about what effect that would have on the overall economy. instead, the fed has been trying to stave off ***recession** and solve a credit crisis by lowering key interest rates. solution no. 5:  a big, bad ***recession**. outlook: sadly, this could happen, regardless of the efforts of the fed, stimulus checks and anything else. and it is oil that could finally tip the economy into ***recession**. experts say gasoline prices have yet to catch up with the spike in crude, and $200-a-barrel oil, which some officials say is possible in the next two years, could cost $6 per gallon at the gas pump. chances are, that'll do the trick. contact staff writer reid kanaley at 215-854-5114 or rkanaley@phillynews.com.</td>\n",
       "      <td>0</td>\n",
       "    </tr>\n",
       "    <tr>\n",
       "      <th>4</th>\n",
       "      <td>7VCC-C621-2R2Y-71V4-00000-00.txt</td>\n",
       "      <td>c(\"apr. 2--the red river has crested -- at least for the first time -- in grand forks-east grand forks.the river hit its peak of 49.5 feet between 11 a.m. and noon wednesday, the grand forks emergency operations center said.the national weather service's latest official forecast had been that the red would crest thursday at about 50 feet. flood stage is 28 feet.the river gauge near applebee's in east grand forks indicated a level of 48.98 at 9 p.m. thursday.\\\"it looks like it might be going down,\\\" mike lukes, service hydrologist at the weather service's office in grand forks, said thursday. \\\"it's preliminary. there might be some fluctuations because of the ice, but it looks good.\\\"trees in floodwaters downtown on the north dakota side showed wet lines 3 to 5 inches wide late thursday morning, visible from the county parking ramp on south third street and apparently indicating a drop in the river's level.if wednesday's level of 49.5 feet does become the official crest, it would be the third-highest ever; well below the record 54.35 feet in 1997. the second-highest crest was 50.20 feet in 1897.grand forks' flood protection is built to 60 feet.'going down pretty good'the red river has been dropping at halstad, minn., 45 miles south of grand forks, since cresting at 40.56 feet monday. at 9 p.m. thursday, the reading was 39.84 feet. flood stage in halstad is 26 feet.\\\"halstad seems to be going down pretty good, in a slow ***recession**,\\\" lukes said. \\\"basically, it looks like we're probably going to be good. it's a possibility it could be bouncing up and down, though.\\\"while the red may have crested in grand forks, officials are keeping a close watch on conditions to the north of the city.the weather service is warning of possibly severe flooding on the red river at pembina in coming days.the red in pembina was at 47.1 feet at 9 p.m. thursday. it is forecast to crest from 52 to 55 feet in mid-april. the weather service's seven-day forecast shows the river hitting about 52 feet on april 8 or 9.the red also is nearing crests in two other communities north of grand forks.in oslo, minn., the river hit 38.22 feet at 9:30 a.m. wednesday and was falling thursday. it was at 37.98 at 9 p.m. thursday. the weather service has predicted a crest of 38.22 feet over the next couple of days.in drayton, n.d., the red was at 42.66 feet at 9 p.m. thursday, with a predicted crest of 43.5 feet sunday or monday.large ice jams were continuing on the red river near oslo, where the river reportedly was up to about 7 miles wide in some areas on thursday. the weather service said the ice jams will cause river levels to \\\"fluctuate and aggravate overland flooding.\\\"the overland flooding has isolated an estimated 40 to 45 farmsteads in rural walsh county.the weather service is forecasting secondary crests throughout the red river valley through mid- to late-april, as snow melts in the upper basin and water from the sheyenne river basin reaches the red.meanwhile, flood warnings continue until further notice along tributaries of the red river where initial crests already have been recorded, including:- wild rice river at hendrum, minn., where the river was 32.32 feet at 8 p.m. thursday. flood stage is 20 feet. a crest of 33.58 feet was recorded monday.- marsh river at shelly, minn., where the river was at 19.93 feet at 9:15 9.m. thursday. flood stage is 14 feet. a crest of 20.99 feet was recorded monday.- sand hill at climax, minn., where the river was at 33.0 feet at 7 a.m. thursday. flood stage is 20 feet. a crest of 33.29 feet was recorded tuesday.reach bonham at (701) 780-1110; (800) 477-6572, ext. 110; or send e-mail to kbonham@gfherald.comto see more of the grand forks herald, or to subscribe to the newspaper, go to http://www.grandforks.com. copyright (c) 2009, grand forks herald, n.d. distributed by mcclatchy-tribune information services. for reprints, email tmsreprints@permissionsgroup.com, call 800-374-7985 or 847-635-6550, send a fax to 847-635-6968, or write to the permissions group inc., 1247 milwaukee ave., suite 303, glenview, il 60025, usa.\", \\n\"distributed by mcclatchy-tribune business news\")</td>\n",
       "      <td>0</td>\n",
       "    </tr>\n",
       "    <tr>\n",
       "      <th>...</th>\n",
       "      <td>...</td>\n",
       "      <td>...</td>\n",
       "      <td>...</td>\n",
       "    </tr>\n",
       "    <tr>\n",
       "      <th>295</th>\n",
       "      <td>7VDV-38B1-2PVM-F0KH-00000-00.txt</td>\n",
       "      <td>c(\"Mortgage crisis? What ***mortgage crisis**? That may as well be the slogan for Mortech, a Lincoln-based provider of mortgage rate quote software. Despite hundreds of billions of dollars in bad mortgages that have demanded a government bailout, and a housing market that is depressed just about everywhere in the country, Mortech is not only surviving, it's thriving. Founder and owner Don Kracl said there are a couple of reasons. For one, Kracl said Mortech did very little business with subprime lenders who issue risky mortgages to people with questionable credit and who largely have been responsible for the country's mortgage troubles. \\\"The implosion of the subprime business has been a plus for us,\\\" Kracl said. \\\"The prime market is really our space.\\\" The prime market - more traditional, fixedrate mortgages - is the other big reason for Mortech's continued success.Because of all the mortgage defaults and foreclosures, lending standards have tightened significantly over the past year, leading to new sets of requirements for lenders.\\\"The business has just become much more fluid and complex even though there are fewer (mortgage) products,\\\" Kracl saidThat has led to a demand for Mortech's products, which allow lenders to plug dozens or even hundreds of variables into a computer and receive an accurate rate quote in seconds.Kracl said Mortech's annual growth rate over the past few years has been about 40 percent, a number the company is on track to hit again this year.In the past year, he said his staff has grown from 15 to 25, and the company is putting the finishing touches on a renovation and expansion of its building in the Lincoln Trade Center that will give it room to grow to about 50 people.Much of Mortech's growth has been spurred by its deal with well-known online lender LendingTree.As part of the deal, signed last October, Mortech provided LendingTree clients access to one of its software programs, called Marksman.Initially, the deal only involved LendingTree customers that were already Mortech customers, but at the time Kracl said he was optimistic about growing the number of users.Renee Harvey, Mortech's marketing director, said the company has grown its LendingTree customer base by more than 450 percent.There's a reason for that, said Allen Cravello, president of American Capital Corp. in El Segundo, Calif., a longtime Mortech customer and more recent client of LendingTree.\\\"The increase in Mortech's client base is directly related to its commitment of upholding its promises to new and old customers alike,\\\" Cravello said. \\\"Mortech isn't just talking about what they can do, they're actually doing it.\\\"Among the things the company has done recently is create a couple of new products for LendingTree and introduce a mobile version of its Marksman software.Kracl said one of the reasons Mortech has been so successful with LendingTree is the nature of Internet lending.Customers aren't going into an office during business hours to get a mortgage quote. Instead they are going online late at night or on weekends, he said.\\\"It would be too expensive for you to have personnel available to respond to offer requests at 3 in the morning,\\\" Kracl said.Sylvia Yanes, LendingTree manager at AmericaHomeKey Inc. in Dallas, said the firm was searching for a solution to do some work and allow employees to concentrate on borrowers.After becoming a Marksman customer, \\\"we've had more time to focus on our customers and have seen increases in the number of deals we're closing,\\\" she said.It's not just customers that have been happy with Mortech's products.\\\"Over the past years, Mortech has simplified the loan closing process for our network lenders who choose to use Mortech,\\\" said Loudoun Emswiler, senior director of lender technology for LendingTree. \\\"They have delivered a complete solution, all while consistently providing quality service.\\\"LendingTree has been so happy, in fact, that earlier this month it presented Mortech with an award that is given out only sparingly.At the 10th annual LendingTree Partner Summit at the company's corporate headquarters in Charlotte, N.C., Chairman and CEO Doug Lebda presented Mortech with the Rick Stiegler Innovator of the Year award, named for the company's founding chief technology officer and one of its first employees. Lebda died in 2004.\\\"The Innovator of the Year award is an important way for us to recognize a partner whose hard work and determination follow the same suit as Rick's,\\\" Lebda said. \\\"Mortech jumped at the opportunity to create a new technology that helps our lender partners improve their business efficiency and accuracy ...\\\"Kracl said the award, which LendingTree doesn't give out every year, was a complete surprise.\\\"I was speechless,\\\" he said. \\\"And everybody here will tell you that's a rarity.\\\"Reach Matt Olberding at 473-2647 or molberding@journalstar.com\", \\n\"Mortech, a Lincoln company, won a LendingTree award named for LendingTree's founding chief technology officer Rick Stiegler, who died in 2004. In a story on Page 1E of Sunday's Journal Star, the deceased was misidentified as LendingTree CEO Doug Lebda, who is still alive.\")</td>\n",
       "      <td>1</td>\n",
       "    </tr>\n",
       "    <tr>\n",
       "      <th>296</th>\n",
       "      <td>4NX2-RSW0-TWSR-V390-00000-00.txt</td>\n",
       "      <td>Most Spokane County residents will receive tax assessment notifications in today's mail. Look for a postcard, not a letter, unless you own more than one piece of real estate, Assessor Ralph Baker advised. Baker said his office will save about $20,000 by substituting postcards for letters. \"We'll see how the public takes it, but it seems to be going fine,\" he said Friday. Assessed values are up about 14 percent throughout the county, compared with an increase of approximately 16 percent last year, Baker said. \"I don't know that you'd even call it a slowdown,\" he said. \"That's not much difference.\" The county's economy remains \"vibrant,\" with no slowdown in home sales and only a slight reduction in building permits, Baker said. He speculated that the amount of value added to the county's tax base will be more like the $779 million added in 2005 than last year's $1 billion, but he noted this year's final calculation hadn't been made. Property values are rising throughout the county, he added. The increases don't necessarily mean individual property tax bills will be going up. Assessed values are just one factor in tax bills. Other factors are the amount of government spending and the number of people splitting the tab. Baker urged residents who want more information about how tax bills are computed to read his Web site at  www.spokanecounty.org/assessor. The site has a wealth of information, including advice on how to improve your chances of winning an appeal if you disagree with your assessment, he said. \"It's that transparency-in-government thing,\" Baker said. \"We want to make sure you see what we're doing.\" As a new feature, the site contains almost all the sketches and other information from the now-archived field books that appraisers used in the past to record their observations. Other online information - searchable by address or parcel number - includes current appraisal and tax information for each property as well as a photograph. For those who don't receive or who lose their assessment notices, a digital copy is available online. The cards have contact information for the appraisers who handled the property in question, and the Web site adds a direct e-mail link to the appraiser. Baker said he encourages people who have questions or concerns about their appraisals to get in touch with their appraiser, or with him if the appraiser doesn't respond within five days. \"The best way is by e-mail because that way we have a written record,\" Baker said.</td>\n",
       "      <td>0</td>\n",
       "    </tr>\n",
       "    <tr>\n",
       "      <th>297</th>\n",
       "      <td>7VTR-NPY0-Y9J0-Y2J1-00000-00.txt</td>\n",
       "      <td>c(\"May 31--For the first time in the past several years, the Woodward city budget will shrink.Woodward City Commissioners participated in a budget workshop with City Financial Officer Doug Haines and City Manager Alan Riffel Tuesday night to review a proposed of $38.6 million for Fiscal Year 2009-2010.If approved during Monday's city commission meeting, this 2009-2010 budget will represent an almost 13 percent decrease from the current city budget which was approved at $44.2 million a year ago.\\\"A very frugal budget has been proposed with a limited impact on reserves,\\\" Riffel said.Beyond not impacting reserves, he said another positive is that the budget was designed in a way \\\"not to impact employees negatively.\\\"The city manager said the budget does not include any layoffs or even benefit decreases.Haines added that the budget even includes \\\"cost of living increases for police and fire\\\" as the result of a two-year agreement with the local police and fire unions.However, he said \\\"they will be getting increases where the rest of the city employees will not.\\\"Not giving any raises other than those required by the union agreements, is just one of the ways that Haines said he was able to develop the \\\"frugal\\\" budget and not dip too far into reserves.Other ways Haines achieved the budget was to scale back on various capital purchases, such as not funding various vehicle purchases other than what is absolutely necessary.Riffel explained that the city's usual policy with vehicles, such as the police units, is to replace them whenever they accumulate approximately 100,000 miles. But this year, instead of budgeting to replace a couple of units that already have around 90,000 miles, the city is asking that the departments put a few more miles on them, he said.Another way Haines has created savings in next year's budget is by \\\"push(ing) a few things back into this year's budget,\\\" which he said the city has been \\\"in the habit of doing the past few years.\\\"Haines and Riffel explained that when the ***economic crisis** began to reach a head this past fall, they shut down capital purchases throughout city departments in order to save what money they could for the coming year.This is something that the city typically does every year about nine months into the Fiscal Year, Riffel said, noting that this year it was done only five to six months in.By doing it so early, they not only created resources for next year, but there is still some revenue available to the various departments to make important purchases this year.In addition to being frugal as far as expenses, Haines noted that the FY 2009-2010 budget also takes a frugal stance with regard to income.He explained that the budget has been based on an anticipated five percent decrease in tax revenue.This could be a positive or a negative, he said, because if the economy improves and sales tax receipts begin to increase again, that would mean more money for the city to work with. However, he said if the city actually experiences a 10 percent decrease in tax revenue, the budget would have to be readjusted to be even more frugal and perhaps dip farther into reserves.Nevertheless, both Haines and Riffel remained optimistic about the budget and noted that Woodward is in a better budgetary circumstance than other cities throughout the state and even the state itself.For example, Riffel noted that Tulsa is making layoffs and handing out furloughs, while \\\"the state is facing a $600 million deduction and that's with stimulus money.\\\"However, in the next year Woodward should continue to see progress through ongoing work at Crystal Beach and beginning work on the new conference center, the city manager said.In fact, city commissioners are expected to consider service agreements related to the conference center during their regular meeting Monday evening.However, the budget will be the major item for consideration during the meeting. But before the commissioners vote on whether to approve the budget, a public hearing will be held to allow for public comment about the budget.Also on the agenda for both the public hearing and the city commission meeting is discussion about the possible demolition of a building at 1001 8th St. which was damaged by the late spring snow and which the owners have yet to do anything about despite letters from code enforcement.The public hearing will begin at 7 p.m. Monday in the Commission Room of City Hall with the city commission meeting to immediately follow.To see more of The Woodward News or to subscribe to the newspaper, go to http://woodwardnews.net. Copyright (c) 2009, The Woodward News, Okla. Distributed by McClatchy-Tribune Information Services. For reprints, email tmsreprints@permissionsgroup.com, call 800-374-7985 or 847-635-6550, send a fax to 847-635-6968, or write to The Permissions Group Inc., 1247 Milwaukee Ave., Suite 303, Glenview, IL 60025, USA.\", \\n\"Distributed by McClatchy-Tribune Business News\")</td>\n",
       "      <td>1</td>\n",
       "    </tr>\n",
       "    <tr>\n",
       "      <th>298</th>\n",
       "      <td>4T2S-8RB0-TX12-N193-00000-00.txt</td>\n",
       "      <td>c(\"Jul. 25--Sales of new vehicles in San Diego County and across California took a turn for the worse in the first half of 2008 with pickup trucks and SUVs taking a particularly severe beating, according to the California New Car Dealers Association.In San Diego, just 24,200 were sold in the first six months of the year, down 26 percent from the first half of 2007. Pickups and SUVs go about 18 miles on a gallon of gasoline, on average, compared to about 23 miles per gallon for passenger cars, according to the U.S. Environmental Protection Agency.Sales of passenger cars fell 9 percent in the same period, to 33,400, the dealers group reported.Car sales help to indicate the health of an area's economy because they represent the largest purchase that many people make in the course of the year, and are second only to home purchases for many others. They also account for more than a quarter of sales tax revenue in cities that have sizeable clusters of dealerships, such as Carlsbad, Escondido and Temecula.Dealers have blamed the downturn partly on increased caution by lenders and a deflating real estate bubble. Car sales across Southern California boomed from 2003 into 2006 as homeowners borrowed against swiftly rising home equity. A series of incentives by car manufacturers' incentives helped, too. But real estate markets reversed sharply in late 2006, and billion-dollar losses in the subprime mortgage market have made other lenders skittish.To see more of the North County Times, or to subscribe to the newspaper, go to http://www.nctimes.com. Copyright (c) 2008, North County Times, Escondido, Calif. Distributed by McClatchy-Tribune Information Services. For reprints, email tmsreprints@permissionsgroup.com, call 800-374-7985 or 847-635-6550, send a fax to 847-635-6968, or write to The Permissions Group Inc., 1247 Milwaukee Ave., Suite 303, Glenview, IL 60025, USA.\", \\n\"Distributed by McClatchy-Tribune Business News\")</td>\n",
       "      <td>0</td>\n",
       "    </tr>\n",
       "    <tr>\n",
       "      <th>299</th>\n",
       "      <td>7Y8B-29W0-YBKJ-B1N8-00000-00.txt</td>\n",
       "      <td>(RTTNews) - The Taiwan stock market has finished lower in three of five trading days since the end of the five-day winning streak in which it had gathered more than 250 points or 3.2 percent on its way to a 17-month closing high. The Taiwan Stock Exchange ended just below the 7,760-point plateau, and now investors are anticipating continued weakness at the opening of trade on Friday.The global forecast for the Asian markets is soft, thanks to continued selling pressure among the technology and financial stocks. Commodities are also under pressure, with oil stocks expected to ease and gold stocks may see profit taking after hitting another fresh record high. The European and U.S. markets finished sharply lower, and the Asian bourses are also expected to track to the downside.The TSE finished slightly lower on Thursday, thanks to weakness from the food, textile, cement and financial sectors - although the technology and construction shares provided strong support.For the day, the index eased 6.71 points or 0.9 percent to finish at 7,759.98 after trading between 7,797.41 and 7,751.06 on turnover of 138.01 billion Taiwan dollars. There were 1,361 decliners and 1,263 gainers, with 264 stocks finishing unchanged.The lead from Wall Street is firmly negative as stocks moved considerably lower on Thursday, with some disappointing economic data prompting traders to cash in on the recent strength in the markets. The major averages all closed in negative territory, backing further off of the one-year highs set on Tuesday.Before the start of trading, the Labor Department reported that first-time jobless claims in the week ended November 14th came in at 505,000, unchanged from the previous week&amp;amp;apos;s revised figure. Economists had been expecting jobless claims to edge up to 504,000 from the 502,000 originally reported for the previous week. With jobless claims unchanged, they remained above the 500,000 level, pointing to continued weakness in the labor market. Jobless claims have not been below 500,000 since coming in at 488,000 in the week ended January 3rd.Separately, the Conference Board reported a continued increase in its leading economic indicators index in the month of October, although the increase by the index was slightly smaller than economists had been anticipating. The leading indicators index rose 0.3 percent in October following a 1.0 percent gain in September and a 0.4 percent increase in August. While the index rose for the seventh consecutive month, economists had been expecting a 0.4 percent increase.Meanwhile, the Federal Reserve Bank of Philadelphia provided one of the few bright spots on the day, releasing a report showing that activity in the mid-Atlantic region&amp;amp;apos;s manufacturing sector picked up in November by much more than economists had expected. The Philly Fed said its index of regional activity in the manufacturing sector rose to 16.7 in November from 11.5 in October, with a positive reading indicating growth in the sector. Economists had been expecting a much more modest increase by the index to 12.2.In other news, Treasury Secretary Timothy Geithner said that the U.S. has a long way to go to ensure a full economic recovery and guarantee that last year&amp;amp;apos;s financial collapse will not happen again in the future. Speaking before the congressional Joint Economic Committee on Capitol Hill earlier today, Geithner said that the regulatory regime that is currently in place is the same regime that failed to prevent the ***financial crisis**, filled with too many agencies and too many regulatory gaps.The major averages ended the session firmly in negative territory, although well off their worst levels of the day. The Dow fell by 93.87 points or 0.9 percent to 10,332.44, the NASDAQ dropped by 36.32 points or 1.7 percent to 2,156.82 and the S&amp;amp;amp;P 500 closed down by 14.90 points or 1.3 percent at 1,094.90.In economic news, Taiwan will on Friday announce current account data for the third quarter of 2009. Analysts are expecting a surplus of $8.54 billion after the $9.92 billion surplus in the previous three months.For comments and feedback: contact editorial@rttnews.comCopyright(c) 2009 RTTNews.com, Inc. All Rights Reserved</td>\n",
       "      <td>1</td>\n",
       "    </tr>\n",
       "  </tbody>\n",
       "</table>\n",
       "<p>900 rows × 3 columns</p>\n",
       "</div>"
      ],
      "text/plain": [
       "                                   id  \\\n",
       "0    7WP8-9XG1-2R2Y-71SP-00000-00.txt   \n",
       "1    7XCN-V6H1-2R2Y-72P9-00000-00.txt   \n",
       "2    7X27-9C40-Y8T5-Y4FR-00000-00.txt   \n",
       "3    4SKJ-MNP0-TWX3-K0WW-00000-00.txt   \n",
       "4    7VCC-C621-2R2Y-71V4-00000-00.txt   \n",
       "..                                ...   \n",
       "295  7VDV-38B1-2PVM-F0KH-00000-00.txt   \n",
       "296  4NX2-RSW0-TWSR-V390-00000-00.txt   \n",
       "297  7VTR-NPY0-Y9J0-Y2J1-00000-00.txt   \n",
       "298  4T2S-8RB0-TX12-N193-00000-00.txt   \n",
       "299  7Y8B-29W0-YBKJ-B1N8-00000-00.txt   \n",
       "\n",
       "                                                                                                                                                                                                                                                                                                                                                                                                                                                                                                                                                                                                                                                                                                                                                                                                                                                                                                                                                                                                                                                                                                                                                                                                                                                                                                                                                                                                                                                                                                                                                                                                                                                                                                                                                                                                                                                                                                                                                                                                                                                                                                                                                                                                                                                                                                                                                                                                                                                                                                                                                                                                                                                                                                                                                                                                                                                                                                                                                                                                                                                                                                                                                                                                                                                                                                                                                                                                                                                                                                                                                                                                                                                                                                                                                                                                                                                                                                                                                                                                                                                                                                                                                                                                                                                                                                                                                                                                                                                                                                                                                                                                                                                                                                                                                                                                                                                                                                                                                                                                                                                                                                                                                                                                                                                                                                                                                                                                                                                                                                                                                                                                                                                                                                                                                                                                                                                                                                                                                                                                                                                                                                                                                                                                                                                                                                                                                                                                                                                   text  \\\n",
       "0                                                                                                                                                                                                                                                                                                                                                                                                                                                                                                                                                                                                                                                                                                                                                                                                                                                                                                                                                                                                                                                                                                                                                                                                                                                                                                                                                                                                                                                                                                                                                                                                                                                                                                                                                                                                                                                                                                                                                                                                                                                                                                                                                                                                                                                                                                                                                                                                                                                                                                                                                                                                                                                                                                                                                                                                                                                                                                                                                                                                                                                                                                                                                                                                                                                                                                                                                                                                                                                                                                                                                                                                                                                                                                                                                                                                                                                                                                                                                                                                                                                                                                                                                                                                                                                                                                                                                       c(\"sep. 23--at a time when a lot of industries are struggling with the ***recession**, monterey county farmers are holding their own.\\\"agriculture tends to be noncyclical,\\\" said steve seldomridge, a senior vice president of wells fargo bank in monterey.the gross value of monterey county agriculture products was up in 2008 by one tenth of a percent, a year after a 9.5 percent increase.\\\"we suffer more when we overproduce\\\" and prices go down, said john hillen, a vice president of rabobank in salinas. \\\"we have a lot of good, stable production here.\\\"the rising fuel prices that hit their peak last year made things tough on farmers. fuel is one-quarter to one-third of a farmer's cost, seldomridge said.even with fuel prices down substantially from a year ago, farmers are looking for ways to conserve fuel, hillen said.consumers shifted their food-buying habits during the ***recession**. that has meant more sales of fresh, unprocessed foods and fewer high-priced items.both bankers say monterey county winemakers and grape growers have seen a decline in sales for higher-priced wines.\\\"people aren't drinking less wine,\\\" seldomridge said.while farmers are holding their own, they're generally not putting money into expansion.\\\"there's a lot of caution out there,\\\" seldomridge said.hillen of rabobank said there's more land for sale now.a few years ago, seldomridge of wells fargo said, growers sometimes had trouble finding enough workers. but when the economyis down, he said, there's not a shortage of workers.to see more of the monterey county herald, or to subscribe to the newspaper, go to http://www.montereyherald.com. copyright (c) 2009, the monterey county herald, calif. distributed by mcclatchy-tribune information services. for reprints, email tmsreprints@permissionsgroup.com, call 800-374-7985 or 847-635-6550, send a fax to 847-635-6968, or write to the permissions group inc., 1247 milwaukee ave., suite 303, glenview, il 60025, usa.\", \\n\"distributed by mcclatchy-tribune business news\")   \n",
       "1                                                                                                                                                                                                                                                                                                                                                                                                                                                                                                                                                                                                                                                                                                                                                                                                                                                                                                                                                                                                                                                                                                                                                                                                                                                                                                                                                                                                                                                                                                                                                                                                                                                                                                                                                                                                                                                                                                                                                                                                                                                                                                                                                                                                                                                                                                                                                                                                                                                                                                                                                                                              c(\"dec. 23--a st. louis-based business bank quietly entered the east valley earlier this month by acquiring valley capital bank in mesa.on dec. 11, valley capital bank, national association, mesa, was closed by the office of the comptroller of the currency, which appointed the federal deposit insurance corp.as receiver. the fdic then entered into a purchase and assumption agreement with enterprise bank &amp; trust to assume all of valley capital's deposits.valley capital, a business bank, opened in 2007 near stapley drive and baseline road in mesa. as of sept. 30, it had about $40.3 million in total assets and about $41.3 million in deposits.valley capital was struggling because of significant losses in its acquisition, development and construction portfolio, said greg hernandez, fdic spokesman.\\\"you couple that with a weak real estate market and the bank failed,\\\" he said. \\\"the bank was put on the fdic's problem institution list in january and became insolvent as of sept. 30.\\\"enterprise bank &amp; trust paid the fdic a 2 percent premium for the right to assume all of valley capital's deposits. in addition, it agreed to purchase all of the failed bank's assets.enterprise bank &amp; trust focuses on middle-market, family-owned businesses. its holding company has $2.2 billion in assets and its wealth management segment has more than $1 billion under management.\\\"all of the deposits that we acquired at valley capital bank ... are safe and secured,\\\" said jack barry, arizona market president for enterprise bank &amp; trust. \\\"despite the downturn, we're very bullish on arizona and the southwest, and in particular the metro phoenix area, and we think it offers a lot of opportunity for growth. hopefully, we'll be in a position to maximize that opportunity.\\\"enterprise bank &amp; trust opened a loan production office two years ago in phoenix, and originally was pursuing a de novo charter from the fdic to open a full-service bank in arizona, he said. a de novo charter is a license to open a bank.\\\"but with the ***economic downturn**, basically the fdic had really stopped issuing de novo charters, and subsequent to that we then set about trying to find an entry point to get a bank charter because you have to obtain a local bank charter in order to do full banking business,\\\" barry said. \\\"our criteria was to find a relatively low-risk acquisition ... and just recently we were presented with this opportunity by the fdic. we did it a little different than originally planned, but we got to the same objective.\\\"valley capital's business was \\\"heavily commercial real estate oriented,\\\" while enterprise bank &amp; trust strikes \\\"more of a balance between real estate and commercial/industrial operating companies,\\\" he said.\\\"they were relatively young ... and i think unfortunately they just kind of walked right into a significant real estate turn,\\\" barry said.the mesa bank is now enterprise bank &amp; trust, and it's business as usual for its customers, he said.\\\"we are examining our opportunities to open other branches,\\\" barry said. \\\"in the near term, we will look to expand with other branches in the central phoenix area on the camelback corridor and also in the far west valley area.\\\"to see more of the tribune, or to subscribe to the newspaper, go to http://www.eastvalleytribune.com. copyright (c) 2009, the tribune, mesa, ariz. distributed by mcclatchy-tribune information services. for reprints, email tmsreprints@permissionsgroup.com, call 800-374-7985 or 847-635-6550, send a fax to 847-635-6968, or write to the permissions group inc., 1247 milwaukee ave., suite 303, glenview, il 60025, usa.\", \\n\"distributed by mcclatchy-tribune business news\")   \n",
       "2    for people lacking health insurance in the washington region, where they live can make all the difference in getting affordable health care.the district makes it easy, with its taxpayer-funded health insurance for everyone  within generous income restrictions. but about 10 percent of eligible adults remain uninsured, and the city wants to find and enroll them.at the other end of the spectrum is prince george's county, where recent census bureau statistics show that one in five working-age adults is uninsured. many are the working poor, who have to choose between getting a checkup and buying groceries. five free clinics in the county  treated 6,000  people last year, a small fraction of the uninsured.the census statistics underscore wide regional differences in how many people are uninsured. health-care professionals say there also are gaps in health, measured by such data as how many people are tested for serious diseases and how many children are born prematurely. a report this spring by the metropolitan washington council of governments found that average life expectancy ranged from 72 in the district to 81 in montgomery county.a lack of health insurance is not the only factor determining whether people have access to care. but many clinics that provide free or low-cost health care to low-income residents say they are flooded with people who have let their health slide, often for years, because they have no insurance.\"free clinics are not adequate to address the need,\" said kelley woodward, medical director of the alexandria health department and the lead doctor for  cog's report on community health status indicators. \"there's a huge shortage of services for people without health insurance. the clinics are all overwhelmed.\"of particular concern are adults 18 to 64. children can be covered under federal and state programs, and seniors get medicare. most adults get no help. clinics report a sharp increase during the ***recession** in the working poor and unemployed patients.\"they're people who had really good jobs and who have lost really everything,\" said michelle schuler, executive director of the free clinic in prince william county, where 17 percent of working-age adults are uninsured. \"it's humbling for them to have to ask for help. they think the situation is going to change, and so they go without their medications for hypertension or diabetes. by the time they realize things aren't turning around and they come to us, they're very sick.\"some of the area's most affluent counties have relatively high numbers of uninsured residents. in montgomery, 16 percent of working-age adults lack insurance, according to the census estimates. in fairfax, it's 13 percent.prince george's has the most. donald shell, head of the health department, estimates that 150,000 of the county's 820,000 residents, including children and the elderly, are uninsured.\"prince george's is in a quagmire,\" shell said. \"many residents, though they are employed, have incomes too high to qualify for medicaid.\" so some go without insurance.residents earning more than $27,562 for a family of four do not qualify for care at one of the five clinics run in the county by greater baden medical services, a nonprofit group. \"so many people are, like, a dollar over the cutoff,\" said sarah leonard, executive director of greater baden. \"we have a lot of people struggling to get by in an area where living costs are high, and they're not able to get coverage. so they just don't get care at all.\"shell said the county is considering opening a primary-care clinic at the county hospital, where the uninsured could seek care for one-fifth the cost of going to the emergency room.costs have waylaid many a plan.only an infusion of $1.2 million in federal stimulus money kept the prince william community health center from closing its doors. the center served 6,000 people last year, director liz sykes said. many are jobless or uninsured working poor who have part-time or entry-level jobs. at the free clinic, which is open two nights a week, schuler said she has seen more homeless patients in the past seven months than in the previous 15 years.montgomery set an ambitious goal of caring for 40,000 uninsured residents -- half the estimated total -- at a network of \"safety net\" clinics. five years later, the county is halfway there and the clinics have waiting lists.county council member george leventhal (d-at large), who heads the panel's health and human services committee, said most of the uninsured are working-class people and recent immigrants. council member duchy trachtenberg (d-at large) said a growing number are divorced women 55 to 64. many forgo health insurance in the face of more pressing needs.\"the cost of living is so high,\" leventhal said. \"if you're making discretionary decisions, you pay the rent or groceries or health insurance.\"the district boasts the most comprehensive health coverage in the region -- and some of the biggest health challenges. it has the region's highest rates of low birth  weights, premature births, breast cancer, heart disease and aids, for example.julie hudman, head of the city's health care finance department, said the district has fewer uninsured adults because of its high eligibility levels. its healthcare alliance program covers almost 55,000 adults who make up to 200 percent of the federal poverty level, or $36,620 for a family of three. fully a third of the adults in the city are covered under alliance or medicaid.under alliance, patients have no premiums and no cost sharing. prescription drugs cost the patient $1. everyone is eligible, including newly arrived and undocumented immigrants.\"our goal is to have everyone covered,\" hudman said. a survey is being done to determine why some people haven't enrolled.woodward, who headed the cog study, said hospitals are providing a lot of primary care that the clinics cannot handle, particularly in emergency rooms.\"having a fifth of adults without health insurance is a huge problem,\" he said. \"having people in our community who don't have the health care they need while others readily have access to it is not a comfortable thing for me as a physician.\"   \n",
       "3                                                                                                                                                                                                                                                                                                                                                                                                                                                                                                                                                                                                                                                                                                                                                                                                                                                                                                                                                                                                                                                                                                                                                                                                                                                                                                                                                                                                                                                                                                                                                                                                                                                                                                                                                                                                                                                                                                                                                                                                                                                                                                                                                                                                                                                                                                                                                                                                                                                       what would it take to stop the madness of rising oil prices? shocking increases in crude-oil costs - which spiked above $135 a barrel at one point last week - are now pushing airlines and truckers to the brink, forcing many consumers to say they are staying home this holiday weekend, and recharging fears of ***recession** in the face of $4-a-gallon gasoline. it's a supply-demand problem on steroids. here are five possible solutions, along with the outlook for each. solution no. 1:  reduce world demand for oil. outlook: very unlikely. but oil supplies haven't changed much over the last five years, so why not simply throttle back demand? well, who isn't trying? hybrid cars and fluorescent bulbs help. but as the saying goes, the genie is out of the bottle. oil demand, particularly from china, continues to skyrocket. at the same time, efforts to switch to alternative fuels continue to stumble - and are short-term losers. converting corn to ethanol is making food more expensive, and scarce, some experts say. building more nuclear power stations would take years. solar and wind power? planners are just waking up to the huge amounts of real estate the current technologies would consume to reach meaningful outputs. solution no. 2: pump more  oil out of the ground. outlook: not likely for decades. the international energy agency, which is based in paris, said last week that oil companies might be incapable of keeping up with demand for the next 20 years. the opec oil cartel is disinclined to try harder, and some of its officials even question whether there is a supply shortage. on thursday, opec secretary-general abdullah al-badri pointed a finger at market speculation and the weak dollar to explain high crude prices. \"even if we increase output tomorrow, the prices will not come down, because of speculation and because of a weak dollar,\" he said. \"when we see there is a shortage of supply, we will act.\" solution no. 3: pop the speculation bubble. outlook: try changing human nature. if wild speculation is the problem, let's round up those naughty traders and bus them to chester and bensalem to bet the slots and ponies instead of the price of a barrel of crude. but then what? speculators, who never intend to take possession of a barrel of oil, are simply paying what they think that barrel will be worth at some future date. they're taking into account all the same fundamental factors that have propelled the price of oil up for the last six years. solution no. 4: strengthen the weak dollar. outlook: this could happen in coming months. the federal reserve has signaled that it doesn't see further interest-rate cuts for now, and opec president chakib khelil told reuters last week that a 10 percent gain in the dollar probably would result in a 40 percent drop in oil prices. this is largely because oil futures are traded in dollars, and a weak dollar makes oil less expensive to buyers dealing in other currencies. meanwhile, the price of oil has tended to slip on any day that the dollar strengthens against the euro. economists still disagree, though, on how best to shore up the dollar and about what effect that would have on the overall economy. instead, the fed has been trying to stave off ***recession** and solve a credit crisis by lowering key interest rates. solution no. 5:  a big, bad ***recession**. outlook: sadly, this could happen, regardless of the efforts of the fed, stimulus checks and anything else. and it is oil that could finally tip the economy into ***recession**. experts say gasoline prices have yet to catch up with the spike in crude, and $200-a-barrel oil, which some officials say is possible in the next two years, could cost $6 per gallon at the gas pump. chances are, that'll do the trick. contact staff writer reid kanaley at 215-854-5114 or rkanaley@phillynews.com.    \n",
       "4                                                                                                                                                                                                                                                                                                                                                                                                                                                                                                                                                                                                                                                                                                                                                                                                                                                                                                                                                                                                                                                                                                                                                                                                                                                                                                                                                                                                                                                                                                                                                                                                                                                                                                                                                                                                                                                                                                                                                                                                                                                                                                                             c(\"apr. 2--the red river has crested -- at least for the first time -- in grand forks-east grand forks.the river hit its peak of 49.5 feet between 11 a.m. and noon wednesday, the grand forks emergency operations center said.the national weather service's latest official forecast had been that the red would crest thursday at about 50 feet. flood stage is 28 feet.the river gauge near applebee's in east grand forks indicated a level of 48.98 at 9 p.m. thursday.\\\"it looks like it might be going down,\\\" mike lukes, service hydrologist at the weather service's office in grand forks, said thursday. \\\"it's preliminary. there might be some fluctuations because of the ice, but it looks good.\\\"trees in floodwaters downtown on the north dakota side showed wet lines 3 to 5 inches wide late thursday morning, visible from the county parking ramp on south third street and apparently indicating a drop in the river's level.if wednesday's level of 49.5 feet does become the official crest, it would be the third-highest ever; well below the record 54.35 feet in 1997. the second-highest crest was 50.20 feet in 1897.grand forks' flood protection is built to 60 feet.'going down pretty good'the red river has been dropping at halstad, minn., 45 miles south of grand forks, since cresting at 40.56 feet monday. at 9 p.m. thursday, the reading was 39.84 feet. flood stage in halstad is 26 feet.\\\"halstad seems to be going down pretty good, in a slow ***recession**,\\\" lukes said. \\\"basically, it looks like we're probably going to be good. it's a possibility it could be bouncing up and down, though.\\\"while the red may have crested in grand forks, officials are keeping a close watch on conditions to the north of the city.the weather service is warning of possibly severe flooding on the red river at pembina in coming days.the red in pembina was at 47.1 feet at 9 p.m. thursday. it is forecast to crest from 52 to 55 feet in mid-april. the weather service's seven-day forecast shows the river hitting about 52 feet on april 8 or 9.the red also is nearing crests in two other communities north of grand forks.in oslo, minn., the river hit 38.22 feet at 9:30 a.m. wednesday and was falling thursday. it was at 37.98 at 9 p.m. thursday. the weather service has predicted a crest of 38.22 feet over the next couple of days.in drayton, n.d., the red was at 42.66 feet at 9 p.m. thursday, with a predicted crest of 43.5 feet sunday or monday.large ice jams were continuing on the red river near oslo, where the river reportedly was up to about 7 miles wide in some areas on thursday. the weather service said the ice jams will cause river levels to \\\"fluctuate and aggravate overland flooding.\\\"the overland flooding has isolated an estimated 40 to 45 farmsteads in rural walsh county.the weather service is forecasting secondary crests throughout the red river valley through mid- to late-april, as snow melts in the upper basin and water from the sheyenne river basin reaches the red.meanwhile, flood warnings continue until further notice along tributaries of the red river where initial crests already have been recorded, including:- wild rice river at hendrum, minn., where the river was 32.32 feet at 8 p.m. thursday. flood stage is 20 feet. a crest of 33.58 feet was recorded monday.- marsh river at shelly, minn., where the river was at 19.93 feet at 9:15 9.m. thursday. flood stage is 14 feet. a crest of 20.99 feet was recorded monday.- sand hill at climax, minn., where the river was at 33.0 feet at 7 a.m. thursday. flood stage is 20 feet. a crest of 33.29 feet was recorded tuesday.reach bonham at (701) 780-1110; (800) 477-6572, ext. 110; or send e-mail to kbonham@gfherald.comto see more of the grand forks herald, or to subscribe to the newspaper, go to http://www.grandforks.com. copyright (c) 2009, grand forks herald, n.d. distributed by mcclatchy-tribune information services. for reprints, email tmsreprints@permissionsgroup.com, call 800-374-7985 or 847-635-6550, send a fax to 847-635-6968, or write to the permissions group inc., 1247 milwaukee ave., suite 303, glenview, il 60025, usa.\", \\n\"distributed by mcclatchy-tribune business news\")   \n",
       "..                                                                                                                                                                                                                                                                                                                                                                                                                                                                                                                                                                                                                                                                                                                                                                                                                                                                                                                                                                                                                                                                                                                                                                                                                                                                                                                                                                                                                                                                                                                                                                                                                                                                                                                                                                                                                                                                                                                                                                                                                                                                                                                                                                                                                                                                                                                                                                                                                                                                                                                                                                                                                                                                                                                                                                                                                                                                                                                                                                                                                                                                                                                                                                                                                                                                                                                                                                                                                                                                                                                                                                                                                                                                                                                                                                                                                                                                                                                                                                                                                                                                                                                                                                                                                                                                                                                                                                                                                                                                                                                                                                                                                                                                                                                                                                                                                                                                                                                                                                                                                                                                                                                                                                                                                                                                                                                                                                                                                                                                                                                                                                                                                                                                                                                                                                                                                                                                                                                                                                                                                                                                                                                                                                                                                                                                                                                                                                                                                                                  ...   \n",
       "295                                                                                                                                                                                                                                                                                                                                                                                                                                                                                                                                                                                                                                                                                                                                                                                                                                                                                                                                                                                                                                                        c(\"Mortgage crisis? What ***mortgage crisis**? That may as well be the slogan for Mortech, a Lincoln-based provider of mortgage rate quote software. Despite hundreds of billions of dollars in bad mortgages that have demanded a government bailout, and a housing market that is depressed just about everywhere in the country, Mortech is not only surviving, it's thriving. Founder and owner Don Kracl said there are a couple of reasons. For one, Kracl said Mortech did very little business with subprime lenders who issue risky mortgages to people with questionable credit and who largely have been responsible for the country's mortgage troubles. \\\"The implosion of the subprime business has been a plus for us,\\\" Kracl said. \\\"The prime market is really our space.\\\" The prime market - more traditional, fixedrate mortgages - is the other big reason for Mortech's continued success.Because of all the mortgage defaults and foreclosures, lending standards have tightened significantly over the past year, leading to new sets of requirements for lenders.\\\"The business has just become much more fluid and complex even though there are fewer (mortgage) products,\\\" Kracl saidThat has led to a demand for Mortech's products, which allow lenders to plug dozens or even hundreds of variables into a computer and receive an accurate rate quote in seconds.Kracl said Mortech's annual growth rate over the past few years has been about 40 percent, a number the company is on track to hit again this year.In the past year, he said his staff has grown from 15 to 25, and the company is putting the finishing touches on a renovation and expansion of its building in the Lincoln Trade Center that will give it room to grow to about 50 people.Much of Mortech's growth has been spurred by its deal with well-known online lender LendingTree.As part of the deal, signed last October, Mortech provided LendingTree clients access to one of its software programs, called Marksman.Initially, the deal only involved LendingTree customers that were already Mortech customers, but at the time Kracl said he was optimistic about growing the number of users.Renee Harvey, Mortech's marketing director, said the company has grown its LendingTree customer base by more than 450 percent.There's a reason for that, said Allen Cravello, president of American Capital Corp. in El Segundo, Calif., a longtime Mortech customer and more recent client of LendingTree.\\\"The increase in Mortech's client base is directly related to its commitment of upholding its promises to new and old customers alike,\\\" Cravello said. \\\"Mortech isn't just talking about what they can do, they're actually doing it.\\\"Among the things the company has done recently is create a couple of new products for LendingTree and introduce a mobile version of its Marksman software.Kracl said one of the reasons Mortech has been so successful with LendingTree is the nature of Internet lending.Customers aren't going into an office during business hours to get a mortgage quote. Instead they are going online late at night or on weekends, he said.\\\"It would be too expensive for you to have personnel available to respond to offer requests at 3 in the morning,\\\" Kracl said.Sylvia Yanes, LendingTree manager at AmericaHomeKey Inc. in Dallas, said the firm was searching for a solution to do some work and allow employees to concentrate on borrowers.After becoming a Marksman customer, \\\"we've had more time to focus on our customers and have seen increases in the number of deals we're closing,\\\" she said.It's not just customers that have been happy with Mortech's products.\\\"Over the past years, Mortech has simplified the loan closing process for our network lenders who choose to use Mortech,\\\" said Loudoun Emswiler, senior director of lender technology for LendingTree. \\\"They have delivered a complete solution, all while consistently providing quality service.\\\"LendingTree has been so happy, in fact, that earlier this month it presented Mortech with an award that is given out only sparingly.At the 10th annual LendingTree Partner Summit at the company's corporate headquarters in Charlotte, N.C., Chairman and CEO Doug Lebda presented Mortech with the Rick Stiegler Innovator of the Year award, named for the company's founding chief technology officer and one of its first employees. Lebda died in 2004.\\\"The Innovator of the Year award is an important way for us to recognize a partner whose hard work and determination follow the same suit as Rick's,\\\" Lebda said. \\\"Mortech jumped at the opportunity to create a new technology that helps our lender partners improve their business efficiency and accuracy ...\\\"Kracl said the award, which LendingTree doesn't give out every year, was a complete surprise.\\\"I was speechless,\\\" he said. \\\"And everybody here will tell you that's a rarity.\\\"Reach Matt Olberding at 473-2647 or molberding@journalstar.com\", \\n\"Mortech, a Lincoln company, won a LendingTree award named for LendingTree's founding chief technology officer Rick Stiegler, who died in 2004. In a story on Page 1E of Sunday's Journal Star, the deceased was misidentified as LendingTree CEO Doug Lebda, who is still alive.\")   \n",
       "296                                                                                                                                                                                                                                                                                                                                                                                                                                                                                                                                                                                                                                                                                                                                                                                                                                                                                                                                                                                                                                                                                                                                                                                                                                                                                                                                                                                                                                                                                                                                                                                                                                                                                                                                                                                                                                                                                                                                                                                                                                                                                                                                                                                                                                                                                                                                                                                                                                                                                                                                                                                                                                                                                                                                                                                                                                                                                                                                                                                                                                                                                                                                                                                                                                                                                                                                                                                                                                                                                                                                                                                                                                                                                                                                                                                                                                                    Most Spokane County residents will receive tax assessment notifications in today's mail. Look for a postcard, not a letter, unless you own more than one piece of real estate, Assessor Ralph Baker advised. Baker said his office will save about $20,000 by substituting postcards for letters. \"We'll see how the public takes it, but it seems to be going fine,\" he said Friday. Assessed values are up about 14 percent throughout the county, compared with an increase of approximately 16 percent last year, Baker said. \"I don't know that you'd even call it a slowdown,\" he said. \"That's not much difference.\" The county's economy remains \"vibrant,\" with no slowdown in home sales and only a slight reduction in building permits, Baker said. He speculated that the amount of value added to the county's tax base will be more like the $779 million added in 2005 than last year's $1 billion, but he noted this year's final calculation hadn't been made. Property values are rising throughout the county, he added. The increases don't necessarily mean individual property tax bills will be going up. Assessed values are just one factor in tax bills. Other factors are the amount of government spending and the number of people splitting the tab. Baker urged residents who want more information about how tax bills are computed to read his Web site at  www.spokanecounty.org/assessor. The site has a wealth of information, including advice on how to improve your chances of winning an appeal if you disagree with your assessment, he said. \"It's that transparency-in-government thing,\" Baker said. \"We want to make sure you see what we're doing.\" As a new feature, the site contains almost all the sketches and other information from the now-archived field books that appraisers used in the past to record their observations. Other online information - searchable by address or parcel number - includes current appraisal and tax information for each property as well as a photograph. For those who don't receive or who lose their assessment notices, a digital copy is available online. The cards have contact information for the appraisers who handled the property in question, and the Web site adds a direct e-mail link to the appraiser. Baker said he encourages people who have questions or concerns about their appraisals to get in touch with their appraiser, or with him if the appraiser doesn't respond within five days. \"The best way is by e-mail because that way we have a written record,\" Baker said.   \n",
       "297                                                                                                                                                                                                                                                                                                                                                                                                                                                                                                                                                                                                                                                                                                                                                                                                                                                                                                                                                                                                                                                                                                                                                                                                                                                                          c(\"May 31--For the first time in the past several years, the Woodward city budget will shrink.Woodward City Commissioners participated in a budget workshop with City Financial Officer Doug Haines and City Manager Alan Riffel Tuesday night to review a proposed of $38.6 million for Fiscal Year 2009-2010.If approved during Monday's city commission meeting, this 2009-2010 budget will represent an almost 13 percent decrease from the current city budget which was approved at $44.2 million a year ago.\\\"A very frugal budget has been proposed with a limited impact on reserves,\\\" Riffel said.Beyond not impacting reserves, he said another positive is that the budget was designed in a way \\\"not to impact employees negatively.\\\"The city manager said the budget does not include any layoffs or even benefit decreases.Haines added that the budget even includes \\\"cost of living increases for police and fire\\\" as the result of a two-year agreement with the local police and fire unions.However, he said \\\"they will be getting increases where the rest of the city employees will not.\\\"Not giving any raises other than those required by the union agreements, is just one of the ways that Haines said he was able to develop the \\\"frugal\\\" budget and not dip too far into reserves.Other ways Haines achieved the budget was to scale back on various capital purchases, such as not funding various vehicle purchases other than what is absolutely necessary.Riffel explained that the city's usual policy with vehicles, such as the police units, is to replace them whenever they accumulate approximately 100,000 miles. But this year, instead of budgeting to replace a couple of units that already have around 90,000 miles, the city is asking that the departments put a few more miles on them, he said.Another way Haines has created savings in next year's budget is by \\\"push(ing) a few things back into this year's budget,\\\" which he said the city has been \\\"in the habit of doing the past few years.\\\"Haines and Riffel explained that when the ***economic crisis** began to reach a head this past fall, they shut down capital purchases throughout city departments in order to save what money they could for the coming year.This is something that the city typically does every year about nine months into the Fiscal Year, Riffel said, noting that this year it was done only five to six months in.By doing it so early, they not only created resources for next year, but there is still some revenue available to the various departments to make important purchases this year.In addition to being frugal as far as expenses, Haines noted that the FY 2009-2010 budget also takes a frugal stance with regard to income.He explained that the budget has been based on an anticipated five percent decrease in tax revenue.This could be a positive or a negative, he said, because if the economy improves and sales tax receipts begin to increase again, that would mean more money for the city to work with. However, he said if the city actually experiences a 10 percent decrease in tax revenue, the budget would have to be readjusted to be even more frugal and perhaps dip farther into reserves.Nevertheless, both Haines and Riffel remained optimistic about the budget and noted that Woodward is in a better budgetary circumstance than other cities throughout the state and even the state itself.For example, Riffel noted that Tulsa is making layoffs and handing out furloughs, while \\\"the state is facing a $600 million deduction and that's with stimulus money.\\\"However, in the next year Woodward should continue to see progress through ongoing work at Crystal Beach and beginning work on the new conference center, the city manager said.In fact, city commissioners are expected to consider service agreements related to the conference center during their regular meeting Monday evening.However, the budget will be the major item for consideration during the meeting. But before the commissioners vote on whether to approve the budget, a public hearing will be held to allow for public comment about the budget.Also on the agenda for both the public hearing and the city commission meeting is discussion about the possible demolition of a building at 1001 8th St. which was damaged by the late spring snow and which the owners have yet to do anything about despite letters from code enforcement.The public hearing will begin at 7 p.m. Monday in the Commission Room of City Hall with the city commission meeting to immediately follow.To see more of The Woodward News or to subscribe to the newspaper, go to http://woodwardnews.net. Copyright (c) 2009, The Woodward News, Okla. Distributed by McClatchy-Tribune Information Services. For reprints, email tmsreprints@permissionsgroup.com, call 800-374-7985 or 847-635-6550, send a fax to 847-635-6968, or write to The Permissions Group Inc., 1247 Milwaukee Ave., Suite 303, Glenview, IL 60025, USA.\", \\n\"Distributed by McClatchy-Tribune Business News\")   \n",
       "298                                                                                                                                                                                                                                                                                                                                                                                                                                                                                                                                                                                                                                                                                                                                                                                                                                                                                                                                                                                                                                                                                                                                                                                                                                                                                                                                                                                                                                                                                                                                                                                                                                                                                                                                                                                                                                                                                                                                                                                                                                                                                                                                                                                                                                                                                                                                                                                                                                                                                                                                                                                                                                                                                                                                                                                                                                                                                                                                                                                                                                                                                                                                                                                                                                                                                                                                                                                                                                                                                                                                                                                                                                                                                                                                                                                                                                                                                                                                                                                                                                                                                                                                                                                                                                                                                                                                                                                                                             c(\"Jul. 25--Sales of new vehicles in San Diego County and across California took a turn for the worse in the first half of 2008 with pickup trucks and SUVs taking a particularly severe beating, according to the California New Car Dealers Association.In San Diego, just 24,200 were sold in the first six months of the year, down 26 percent from the first half of 2007. Pickups and SUVs go about 18 miles on a gallon of gasoline, on average, compared to about 23 miles per gallon for passenger cars, according to the U.S. Environmental Protection Agency.Sales of passenger cars fell 9 percent in the same period, to 33,400, the dealers group reported.Car sales help to indicate the health of an area's economy because they represent the largest purchase that many people make in the course of the year, and are second only to home purchases for many others. They also account for more than a quarter of sales tax revenue in cities that have sizeable clusters of dealerships, such as Carlsbad, Escondido and Temecula.Dealers have blamed the downturn partly on increased caution by lenders and a deflating real estate bubble. Car sales across Southern California boomed from 2003 into 2006 as homeowners borrowed against swiftly rising home equity. A series of incentives by car manufacturers' incentives helped, too. But real estate markets reversed sharply in late 2006, and billion-dollar losses in the subprime mortgage market have made other lenders skittish.To see more of the North County Times, or to subscribe to the newspaper, go to http://www.nctimes.com. Copyright (c) 2008, North County Times, Escondido, Calif. Distributed by McClatchy-Tribune Information Services. For reprints, email tmsreprints@permissionsgroup.com, call 800-374-7985 or 847-635-6550, send a fax to 847-635-6968, or write to The Permissions Group Inc., 1247 Milwaukee Ave., Suite 303, Glenview, IL 60025, USA.\", \\n\"Distributed by McClatchy-Tribune Business News\")   \n",
       "299                                                                                                                                                                                                                                                                                                                                                                                                                                                                                                                                                                                                                                                                                                                                                                                                                                                                                                                                                                                                                                                                                                                                                                                                                                                                                                                                                                                                                                                                                                                                                                                                                                                                                                                                                                                                                                                                                                                                                                                                                                              (RTTNews) - The Taiwan stock market has finished lower in three of five trading days since the end of the five-day winning streak in which it had gathered more than 250 points or 3.2 percent on its way to a 17-month closing high. The Taiwan Stock Exchange ended just below the 7,760-point plateau, and now investors are anticipating continued weakness at the opening of trade on Friday.The global forecast for the Asian markets is soft, thanks to continued selling pressure among the technology and financial stocks. Commodities are also under pressure, with oil stocks expected to ease and gold stocks may see profit taking after hitting another fresh record high. The European and U.S. markets finished sharply lower, and the Asian bourses are also expected to track to the downside.The TSE finished slightly lower on Thursday, thanks to weakness from the food, textile, cement and financial sectors - although the technology and construction shares provided strong support.For the day, the index eased 6.71 points or 0.9 percent to finish at 7,759.98 after trading between 7,797.41 and 7,751.06 on turnover of 138.01 billion Taiwan dollars. There were 1,361 decliners and 1,263 gainers, with 264 stocks finishing unchanged.The lead from Wall Street is firmly negative as stocks moved considerably lower on Thursday, with some disappointing economic data prompting traders to cash in on the recent strength in the markets. The major averages all closed in negative territory, backing further off of the one-year highs set on Tuesday.Before the start of trading, the Labor Department reported that first-time jobless claims in the week ended November 14th came in at 505,000, unchanged from the previous week&amp;apos;s revised figure. Economists had been expecting jobless claims to edge up to 504,000 from the 502,000 originally reported for the previous week. With jobless claims unchanged, they remained above the 500,000 level, pointing to continued weakness in the labor market. Jobless claims have not been below 500,000 since coming in at 488,000 in the week ended January 3rd.Separately, the Conference Board reported a continued increase in its leading economic indicators index in the month of October, although the increase by the index was slightly smaller than economists had been anticipating. The leading indicators index rose 0.3 percent in October following a 1.0 percent gain in September and a 0.4 percent increase in August. While the index rose for the seventh consecutive month, economists had been expecting a 0.4 percent increase.Meanwhile, the Federal Reserve Bank of Philadelphia provided one of the few bright spots on the day, releasing a report showing that activity in the mid-Atlantic region&amp;apos;s manufacturing sector picked up in November by much more than economists had expected. The Philly Fed said its index of regional activity in the manufacturing sector rose to 16.7 in November from 11.5 in October, with a positive reading indicating growth in the sector. Economists had been expecting a much more modest increase by the index to 12.2.In other news, Treasury Secretary Timothy Geithner said that the U.S. has a long way to go to ensure a full economic recovery and guarantee that last year&amp;apos;s financial collapse will not happen again in the future. Speaking before the congressional Joint Economic Committee on Capitol Hill earlier today, Geithner said that the regulatory regime that is currently in place is the same regime that failed to prevent the ***financial crisis**, filled with too many agencies and too many regulatory gaps.The major averages ended the session firmly in negative territory, although well off their worst levels of the day. The Dow fell by 93.87 points or 0.9 percent to 10,332.44, the NASDAQ dropped by 36.32 points or 1.7 percent to 2,156.82 and the S&amp;amp;P 500 closed down by 14.90 points or 1.3 percent at 1,094.90.In economic news, Taiwan will on Friday announce current account data for the third quarter of 2009. Analysts are expecting a surplus of $8.54 billion after the $9.92 billion surplus in the previous three months.For comments and feedback: contact editorial@rttnews.comCopyright(c) 2009 RTTNews.com, Inc. All Rights Reserved   \n",
       "\n",
       "     final_code  \n",
       "0             1  \n",
       "1             0  \n",
       "2             0  \n",
       "3             0  \n",
       "4             0  \n",
       "..          ...  \n",
       "295           1  \n",
       "296           0  \n",
       "297           1  \n",
       "298           0  \n",
       "299           1  \n",
       "\n",
       "[900 rows x 3 columns]"
      ]
     },
     "execution_count": 153,
     "metadata": {},
     "output_type": "execute_result"
    }
   ],
   "source": [
    "clas_dat"
   ]
  },
  {
   "cell_type": "code",
   "execution_count": 154,
   "metadata": {},
   "outputs": [],
   "source": [
    "# split into training and testing \n",
    "from sklearn.model_selection import train_test_split\n",
    "X_train, X_test, y_train, y_test = train_test_split(X, y, test_size=0.2)\n",
    "# tuning for RFC\n",
    "# parameters = {'n_estimators':[500, 1000, 5000], 'max_depth':[3, 5, 10], \"max_features\": [\"sqrt\", 0.2, 0.5]}\n",
    "# rfc = RandomForestClassifier()\n",
    "# clf = GridSearchCV(rfc, parameters)\n",
    "# clf.fit(X_train, y_train)\n",
    "# print(clf.best_params_) "
   ]
  },
  {
   "cell_type": "code",
   "execution_count": 155,
   "metadata": {},
   "outputs": [
    {
     "data": {
      "text/plain": [
       "array([0, 1])"
      ]
     },
     "execution_count": 155,
     "metadata": {},
     "output_type": "execute_result"
    }
   ],
   "source": [
    "y_test.unique()"
   ]
  },
  {
   "cell_type": "code",
   "execution_count": 156,
   "metadata": {},
   "outputs": [
    {
     "name": "stdout",
     "output_type": "stream",
     "text": [
      "0.4640819202144156\n",
      "[[42 49]\n",
      " [44 45]]\n",
      "0.48333333333333334\n"
     ]
    }
   ],
   "source": [
    "# test RFC\n",
    "rfc = RandomForestClassifier(n_estimators=5000, max_depth = 3, max_features =\"sqrt\")\n",
    "## Fit the model to the training set\n",
    "rfc.fit(X_train, y_train)\n",
    "#PR AUC\n",
    "preds = rfc.predict_proba(X_test)\n",
    "lr_precision, lr_recall, _= precision_recall_curve(y_test.tolist(),  preds[:,1].tolist())\n",
    "lr_auc = auc(lr_recall, lr_precision)\n",
    "print(lr_auc)\n",
    "confusion = confusion_matrix(y_test, rfc.predict(X_test))\n",
    "print(confusion)\n",
    "print(metrics.accuracy_score(y_test, rfc.predict(X_test)))"
   ]
  },
  {
   "cell_type": "code",
   "execution_count": 146,
   "metadata": {},
   "outputs": [
    {
     "name": "stdout",
     "output_type": "stream",
     "text": [
      "[[49  9]\n",
      " [41 21]]\n",
      "Precision: 0.700000\n",
      "Recall: 0.338710\n",
      "[[40 23]\n",
      " [36 21]]\n",
      "Precision: 0.477273\n",
      "Recall: 0.368421\n",
      "[[43 16]\n",
      " [44 17]]\n",
      "Precision: 0.515152\n",
      "Recall: 0.278689\n",
      "[[45 22]\n",
      " [32 21]]\n",
      "Precision: 0.488372\n",
      "Recall: 0.396226\n",
      "[[48  5]\n",
      " [51 16]]\n",
      "Precision: 0.761905\n",
      "Recall: 0.238806\n",
      "[[50 19]\n",
      " [29 22]]\n",
      "Precision: 0.536585\n",
      "Recall: 0.431373\n",
      "[[48 10]\n",
      " [46 16]]\n",
      "Precision: 0.615385\n",
      "Recall: 0.258065\n",
      "[[49 14]\n",
      " [37 20]]\n",
      "Precision: 0.588235\n",
      "Recall: 0.350877\n",
      "[[37 28]\n",
      " [30 25]]\n",
      "Precision: 0.471698\n",
      "Recall: 0.454545\n",
      "[[48 10]\n",
      " [48 14]]\n",
      "Precision: 0.583333\n",
      "Recall: 0.225806\n",
      "Mean Accuracy: 0.5416666666666666\n",
      "Average precision: 0.5737937819249062\n",
      "Average recall: 0.3341517804174145\n"
     ]
    }
   ],
   "source": [
    "# for robust results, bootstrap the process\n",
    "accuracy_scores= []\n",
    "precision_scores = []\n",
    "recall_scores = []\n",
    "\n",
    "for i in range(0,10):\n",
    "    ## load the test set \n",
    "    X_train, X_test, y_train, y_test = train_test_split(X, y, test_size=0.2)\n",
    "    classifier = RandomForestClassifier(n_estimators=1000, random_state=0)\n",
    "    classifier.fit(X_train, y_train) \n",
    "    y_pred = classifier.predict(X_test)\n",
    "    print(confusion_matrix(y_test,y_pred))\n",
    "    ## Predict out-of-sample on the test set and compute accuracy\n",
    "    accuracy_scores= accuracy_scores+ [accuracy_score(y_test, y_pred)]\n",
    "    # precision tp / (tp + fp)\n",
    "    precision = precision_score(y_test, y_pred)\n",
    "    precision_scores= precision_scores+ [precision]\n",
    "    print('Precision: %f' % precision)\n",
    "    # recall: tp / (tp + fn)\n",
    "    recall = recall_score(y_test, y_pred)\n",
    "    recall_scores= recall_scores+ [recall]\n",
    "    print('Recall: %f' % recall)\n",
    "\n",
    "print(\"Mean Accuracy: \" + str(np.mean(accuracy_scores)))\n",
    "print(\"Average precision: \" + str(np.mean(precision_scores)))\n",
    "print(\"Average recall: \" + str(np.mean(recall_scores)))"
   ]
  },
  {
   "cell_type": "markdown",
   "metadata": {},
   "source": [
    "# bag of words + tfidf"
   ]
  },
  {
   "cell_type": "code",
   "execution_count": 157,
   "metadata": {},
   "outputs": [
    {
     "name": "stdout",
     "output_type": "stream",
     "text": [
      "Accuracy: 0.6277777777777778\n"
     ]
    }
   ],
   "source": [
    "# clean the labeled text the same way\n",
    "clas_dat[\"clean_text\"] = clas_dat[\"text\"].apply(lambda x: text_cleaner(x, punctuation_translator))\n",
    "phrases1 = Phrases(map(lambda x: x.split(), clas_dat[\"clean_text\"].tolist())) #bigram\n",
    "phrases2 = Phrases(phrases1[map(lambda x: x.split(), clas_dat[\"clean_text\"].tolist())]) #trigram\n",
    "clas_dat[\"phrased_text\"] = clas_dat[\"clean_text\"].apply(lambda x: \" \".join(phrases2[phrases1[x.split()]]))\n",
    "\n",
    "from sklearn.feature_extraction.text import CountVectorizer\n",
    "vectorizer = CountVectorizer(max_features=500, min_df=5, max_df=0.7)\n",
    "X = vectorizer.fit_transform(clas_dat[\"phrased_text\"]).toarray()\n",
    "\n",
    "from sklearn.feature_extraction.text import TfidfTransformer\n",
    "from sklearn.metrics import classification_report, confusion_matrix, accuracy_score\n",
    "tfidfconverter = TfidfTransformer()\n",
    "X = tfidfconverter.fit_transform(X).toarray()\n",
    "\n",
    "y = np.array(clas_dat['final_code'])\n",
    "\n",
    "X_train, X_test, y_train, y_test = train_test_split(X, y, test_size=0.2)\n",
    "classifier = RandomForestClassifier(n_estimators=1000,  max_depth = 3, max_features =0.5,random_state=0)\n",
    "classifier.fit(X_train, y_train) \n",
    "y_pred = classifier.predict(X_test)\n",
    "\n",
    "print(\"Accuracy: \" + str(accuracy_score(y_test, y_pred)))\n",
    "\n"
   ]
  },
  {
   "cell_type": "code",
   "execution_count": 163,
   "metadata": {},
   "outputs": [
    {
     "name": "stdout",
     "output_type": "stream",
     "text": [
      "[[57 35]\n",
      " [27 61]]\n",
      "Precision: 0.635417\n",
      "Recall: 0.693182\n",
      "[[52 40]\n",
      " [24 64]]\n",
      "Precision: 0.615385\n",
      "Recall: 0.727273\n",
      "[[54 24]\n",
      " [27 75]]\n",
      "Precision: 0.757576\n",
      "Recall: 0.735294\n",
      "[[65 21]\n",
      " [30 64]]\n",
      "Precision: 0.752941\n",
      "Recall: 0.680851\n",
      "[[66 29]\n",
      " [25 60]]\n",
      "Precision: 0.674157\n",
      "Recall: 0.705882\n",
      "[[62 25]\n",
      " [33 60]]\n",
      "Precision: 0.705882\n",
      "Recall: 0.645161\n",
      "[[63 28]\n",
      " [35 54]]\n",
      "Precision: 0.658537\n",
      "Recall: 0.606742\n",
      "[[69 17]\n",
      " [37 57]]\n",
      "Precision: 0.770270\n",
      "Recall: 0.606383\n",
      "[[60 26]\n",
      " [34 60]]\n",
      "Precision: 0.697674\n",
      "Recall: 0.638298\n",
      "[[60 26]\n",
      " [35 59]]\n",
      "Precision: 0.694118\n",
      "Recall: 0.627660\n",
      "Mean Accuracy: 0.678888888888889\n",
      "Average precision: 0.696195679370919\n",
      "Average recall: 0.6666725368760771\n"
     ]
    }
   ],
   "source": [
    "# for robust results, bootstrap the process\n",
    "accuracy_scores= []\n",
    "precision_scores = []\n",
    "recall_scores = []\n",
    "\n",
    "for i in range(0,10):\n",
    "    ## load the test set \n",
    "    X_train, X_test, y_train, y_test = train_test_split(X, y, test_size=0.2)\n",
    "    classifier = RandomForestClassifier(n_estimators=1000, random_state=0)\n",
    "    classifier.fit(X_train, y_train) \n",
    "    y_pred = classifier.predict(X_test)\n",
    "    print(confusion_matrix(y_test,y_pred))\n",
    "    ## Predict out-of-sample on the test set and compute accuracy\n",
    "    accuracy_scores= accuracy_scores+ [accuracy_score(y_test, y_pred)]\n",
    "    # precision tp / (tp + fp)\n",
    "    precision = precision_score(y_test, y_pred)\n",
    "    precision_scores= precision_scores+ [precision]\n",
    "    print('Precision: %f' % precision)\n",
    "    # recall: tp / (tp + fn)\n",
    "    recall = recall_score(y_test, y_pred)\n",
    "    recall_scores= recall_scores+ [recall]\n",
    "    print('Recall: %f' % recall)\n",
    "\n",
    "print(\"Mean Accuracy: \" + str(np.mean(accuracy_scores)))\n",
    "print(\"Average precision: \" + str(np.mean(precision_scores)))\n",
    "print(\"Average recall: \" + str(np.mean(recall_scores)))"
   ]
  },
  {
   "cell_type": "markdown",
   "metadata": {},
   "source": [
    "# Logistic Regression Classifier (BOW+ Tf-Idf)"
   ]
  },
  {
   "cell_type": "code",
   "execution_count": 166,
   "metadata": {},
   "outputs": [
    {
     "name": "stdout",
     "output_type": "stream",
     "text": [
      "[[70 18]\n",
      " [33 59]]\n",
      "Precision: 0.766234\n",
      "Recall: 0.641304\n",
      "[[65 27]\n",
      " [23 65]]\n",
      "Precision: 0.706522\n",
      "Recall: 0.738636\n",
      "[[72 20]\n",
      " [19 69]]\n",
      "Precision: 0.775281\n",
      "Recall: 0.784091\n",
      "[[59 30]\n",
      " [28 63]]\n",
      "Precision: 0.677419\n",
      "Recall: 0.692308\n",
      "[[62 25]\n",
      " [35 58]]\n",
      "Precision: 0.698795\n",
      "Recall: 0.623656\n",
      "[[68 27]\n",
      " [31 54]]\n",
      "Precision: 0.666667\n",
      "Recall: 0.635294\n",
      "[[63 25]\n",
      " [31 61]]\n",
      "Precision: 0.709302\n",
      "Recall: 0.663043\n",
      "[[67 24]\n",
      " [21 68]]\n",
      "Precision: 0.739130\n",
      "Recall: 0.764045\n",
      "[[65 24]\n",
      " [29 62]]\n",
      "Precision: 0.720930\n",
      "Recall: 0.681319\n",
      "[[75 18]\n",
      " [28 59]]\n",
      "Precision: 0.766234\n",
      "Recall: 0.678161\n",
      "Mean Accuracy: 0.7133333333333334\n",
      "Average precision: 0.7226514365624783\n",
      "Average recall: 0.690185736742661\n"
     ]
    }
   ],
   "source": [
    "from sklearn.linear_model import LogisticRegression\n",
    "\n",
    "# for robust results, bootstrap the process\n",
    "accuracy_scores= []\n",
    "precision_scores = []\n",
    "recall_scores = []\n",
    "\n",
    "for i in range(0,10):\n",
    "    ## load the test set \n",
    "    X_train, X_test, y_train, y_test = train_test_split(X, y, test_size=0.2)\n",
    "    classifier = LogisticRegression(random_state=0).fit(X_train, y_train)\n",
    "    y_pred = classifier.predict(X_test)\n",
    "    print(confusion_matrix(y_test,y_pred))\n",
    "    ## Predict out-of-sample on the test set and compute accuracy\n",
    "    accuracy_scores= accuracy_scores+ [accuracy_score(y_test, y_pred)]\n",
    "    # precision tp / (tp + fp)\n",
    "    precision = precision_score(y_test, y_pred)\n",
    "    precision_scores= precision_scores+ [precision]\n",
    "    print('Precision: %f' % precision)\n",
    "    # recall: tp / (tp + fn)\n",
    "    recall = recall_score(y_test, y_pred)\n",
    "    recall_scores= recall_scores+ [recall]\n",
    "    print('Recall: %f' % recall)\n",
    "\n",
    "print(\"Mean Accuracy: \" + str(np.mean(accuracy_scores)))\n",
    "print(\"Average precision: \" + str(np.mean(precision_scores)))\n",
    "print(\"Average recall: \" + str(np.mean(recall_scores)))"
   ]
  },
  {
   "cell_type": "markdown",
   "metadata": {},
   "source": [
    "# Active Learning"
   ]
  },
  {
   "cell_type": "code",
   "execution_count": 32,
   "metadata": {},
   "outputs": [
    {
     "name": "stdout",
     "output_type": "stream",
     "text": [
      "[115166 115198  41270  41234 114807  41141   1099 114682 115213  15511]\n"
     ]
    }
   ],
   "source": [
    "from modAL.models import ActiveLearner\n",
    "from modAL.uncertainty import uncertainty_sampling\n",
    "from modAL.uncertainty import entropy_sampling\n",
    "from modAL.density import information_density\n",
    "\n",
    "# split into training and testing (can't bootstrap here)\n",
    "from sklearn.model_selection import train_test_split\n",
    "X_train, X_test, y_train, y_test = train_test_split(X, y, test_size=0.2)\n",
    "\n",
    "learner = ActiveLearner(\n",
    "    estimator= RandomForestClassifier(n_estimators=1000, random_state=0),\n",
    "    query_strategy=uncertainty_sampling,\n",
    "    X_training=X_train, y_training=y_train\n",
    ")\n",
    "\n",
    "# generate the unlabelled pool\n",
    "unlabelled = dat[((~dat['id'].isin(clas_dat.id)).tolist())]\n",
    "X_pool = vectorizer.fit_transform(unlabelled[\"phrased_text\"]).toarray()\n",
    "\n",
    "tfidfconverter = TfidfTransformer()\n",
    "X_pool = tfidfconverter.fit_transform(X_pool).toarray()\n"
   ]
  },
  {
   "cell_type": "code",
   "execution_count": 33,
   "metadata": {},
   "outputs": [
    {
     "name": "stdout",
     "output_type": "stream",
     "text": [
      "Is it about recession\n",
      "37    gold prices rushed past the perounce mark in early september to hit their highest level since march  thats surprising to peter ricchiuti assistant dean of the ab freeman school of business at tulane universityi find it kind of odd that gold prices have been so strong and the economy is going in the opposite direction ricchiuti saidricchiuti believes the recession ended this summer and he said a rebounding economy traditionally forecasts a drop in gold prices gold is considered one of the safest investments so high prices typically indicate low investor confidence ricchiuti called it the antiinvestment david beahm vice president of economic research at new orleansbased precious metals retailer blanchard and co said  per ounce is a psychological barrier it triggers people to increase their buying habits beahm said any time the price of gold gets to one of these psychological barriers we have an influx of new clients and existing clients looking to buy more beahm said he expects a banner year for gold sales and he attributed the high prices to investor concerns over inflationwhat they are doing is reallocating their portfolios into defensive assets such as gold beahm saidricchiuti thinks this is the wrong move he suggested fear mongering is part of the reason gold prices are so highget a bomb shelter get some gold  its not a way to participate in the recovery ricchiuti said gold is ok as an insurance plan but its basically a useless metal its a rock \n",
      "Name: clean_text, dtype: object\n",
      "1\n",
      "Is it about recession\n",
      "202    special section  week of the nurse  even though the economy is causing a temporary slowdown in hiring nurses susan motley sees nursing as far more recessionproof than many professions  the recession has caused a temporary blip on the radar acknowledged motley ceo of the virginia nurses association  we have heard anecdotally that some recent graduates are having a little harder time finding jobs and that some hospitals have instituted hiring freezes or even in a few instances layoffs need still growing  the need for quality health care however continues to grow as the baby boomer generation ages and needs more healthrelated services nurses play a crucial role in patient health care  the united states is currently fortunate to have the most experienced nursing work force in place in its history observed motley nurses are the gatekeepers to the healthcare system and will play a key role in any federal healthcare reform efforts  since last year the number of nurses retiring from the field dropped slightly temporarily lessening the nursing shortage that has plagued the healthcare industry for the last few years  many are staying in the work force longer said shirley gibson president of the virginia nurses association and interim vice president of nursing at vcu health system also people that were not working are coming back into the work force because their spouses have lost jobs we do feel that this is a shortterm phenomenon  when the economy begins to turn upward there will be a demand for qualified nurses the vna predicts that by  the work force will be short  nurses in virginia that means that one in three citizens of the commonwealth will not have a nurse when they need one training  to  years  we have to keep people in the pipeline by graduating nurses gibson said it takes two to four years for a nurse to get out of school  one of the issues that contribute to the nursing shortage relates to education nursing class sizes are limited because of a lack of faculty motley and gibson are hoping that situation will change  virginia has made progress in increasing education capacity at our nursing schools motley said during the last five years the number of graduates has increased by  total or  percent according to the virginia board of nursing that increase can be attributed to the work of nursing schools and educators as well as the efforts of many groups including the virginia hospital amp health care association and the virginia partnership for nursing  there is no shortage of people who want to become nurses motley said even in light of the substantial increase in nursing school capacity which is something to celebrate virginias nursing schools are still turning away hundreds of qualified applicants a year now tracking nurse data  until now it has been difficult to track the instate workforce impact related to the increase in nursing graduates  we dont know if those nurses have remained in the state gibson said that is why we are fortunate to now have the health care workforce data center the last general assembly passed legislation to allow the commonwealths department of health professions to collect data from the licensed health professions the data will be collected by the health care workforce data center which was created from a workforce investment grant and formed within the last year  this is huge gibson said they will help analyze data from schools the board of nursing and other entities to help us make information out of data it will help us in understanding the nursing shortage and what we need to work on as well as how to make policy decisions joint initiative  also this year virginia was selected to be one of  state teams to participate in the robert wood johnsonaarp center to champion nursing in america because of the states strength in advocating for good healthcare policy the center is a joint initiative working to ensure that americans have the highly skilled nurses needed to provide affordable quality health care now and in the future  the center works to increase the nations capacity to educate and retain nurses explained motley it provides technical assistance and best practices models in a variety of areas to assist states in this arena the vna also works in a support capacity with the magnet consortium whose mission it is to help create an environment of nursing excellence magnet is a designation by the american nurse credentialing center facilities have to meet certain criteria to become magnet virginia has  magnet facilities  we are one of the top  states in the united states for the number of magnet facilities gibson said efforts to retain nurses  another initiative to retain nurses in the work force in virginia is the nurse leadership institute of central virginia the institute provides leadership education for nurse managers with the goal of retaining bedside nurses and improving the quality of care of nursing  its an opportunity to share solutions and values and visions from across the state explained joanne henry the institutes director  the institute had  graduates last year and  this year one graduate reported to henry that two units at her facility that had  percent turnover rates two years ago now have a less than  percent turnover rate  one has a  percent turnover rate which is phenomenal henry said we will have better data as we go forward we will get to see if the improvements are sustained  both gibson and motley are enthusiastic about the progress made in nursing in the last year  i feel that we made substantial gains in terms of establishing a workforce state center motley said i feel good about the fact that we were able to increase nursing education capacity significantly the challenge moving forward will be sustaining that \\n\n",
      "Name: clean_text, dtype: object\n",
      "1\n",
      "Is it about recession\n",
      "45    in this economy we could probably all use a little pampering a massage a facial a pedicure perhaps a nice soak in a hot whirlpool the spa new figures show is one thing were not giving up even if it means opting for a cheaper experience and fewer treatments in june  percent of the  members of the international spa association reported an increase in the number of shorter treatments of  minutes or less and close to half reported a decrease in the amount spent per visit compared with the same time last year the findings show some of the effects the economy is having on the spa industry which has experienced exponential growth in recent years we have certainly seen an effect said susie ellis president of spafinder inc and spafindercom but not as much as hotels she said spas are somewhat recessionresistant ellis added the number one reason people go to spas is to destress and relax while they may not be able to afford it they need it more megan k scott writes for the associated press some spa trends pampering spagoers want to relax and destress but they also want to leave with results said ellis their blood pressure goes down after a week at a destination spa they lose weight or their skin is clearer after a facial organic organic is becoming the buzz word for spas as more offer environmentallyfriendly products and design treatments that use indigenous plants from local environments spagoers also are looking for an experience like a whipped cocoa bath at the spa at the hotel hershey in hershey pa kids the kids want to be pampered too scooops kid spas which resemble retro ice cream parlors are open at  great wolf lodge properties for kids ages  each service has the look feel and smell of an ice cream treat like an ice cream flavored fizz that is placed in the pedicure tub and moisturizing icings for the hands before polish is applied gen xers yers gen yers and xers are going to replace their baby boomer parents as the spa industrys core clientele according to spafinder that means spas are rethinking everything from design and treatment menus to technology and wireless connectivity inside the spa said ellis medical spas is there a doctor in the spa the number of medical spas continues to grow at the fastest rate of all the spa types according to ispa growing  percent since july  while most people arent going for a pedicure people are using them for botox filler treatments and even a script for the new eyelash lengthening drug said ellis healing energy spas are offering healing energy therapies for people who are interested in alternative medicine said ellis canyon ranch in tucson ariz has an energy healing menu that includes acutonics  a sound healing treatment  and a chinese herbal consultation in which a specialist in chinese medicine recommends herbs to treat ailments including pms migraines asthma and arthritis classes its not only about relaxation and wellness you can leave a destination spa knowing how to cook draw even plant a vegetable garden deals if you are looking for a deal this is the time to find one about  percent of agents said spas were offering historically or significantly more aggressive deals than ever before\n",
      "Name: clean_text, dtype: object\n"
     ]
    },
    {
     "name": "stdout",
     "output_type": "stream",
     "text": [
      "1\n",
      "Is it about recession\n",
      "0    may record demand for area food pantry programs is outpacing donations officials with the brazos valley food bank said this weekrequests for assistance from the food pantries have increased  percent in recent months while donations of food and money have steadily decreased said theresa mangapora the brazos valley food banks executive directorthe food bank operates on a  annual budget and provided about  people with a record  million pounds of food last year mangapora said adding that most of the people the agency helps use its services repeatedly throughout the yeararea food pantries rely largely  and sometimes exclusively  on the food bank to stock their shelves and with more people looking for help officials said the food bank is struggling to keep upwe want to fill the shelves of the pantries and the pantries want to fill the shelves of the families mangapora saidmany people are under the impression that brazos county isnt suffering the effects of the national recession because of the economic strength of texas aampm but that simply isnt true mangapora said noting that the food bank has seen a  percent increase each month since november in the amount of food being requested from various food pantriestimothy scott president of the church pantry and a texasaampm university associate dean for undergraduate programs called the food bank a crucial resource for food distributiona food pantry dollar goes five or six times further at the food bank than at a wholesale grocer he saidwere kind of at their mercy in terms of taking from there he said about the availability of supplies at the food bankthe church pantry a coalition of about  area churches that holds drives to collect food for the needy served about  families last year scott said and the group is seeing an  percent increase in requests for help he saidthe church pantry was originally intended to be for emergency situations allowing individuals to come for a weeks worth of food once every three months scott said the members are looking for ways to provide food on a monthly basis he said but it will depend on the availability of volunteers and fundingscott said the church pantry has been successful because of efforts by the food bank to do things the food pantries dont have the time or staff to handle such as requesting federal grants and assistancewhatever we can do to keep them in business benefits every pantry in town scott saiddemand for food and supplies will increase as schools let out said pat schoenemann president of the st vincent de paul society food pantry families that rely on the schools to feed their children will now need more than before she saidthe pantry serves individuals once every six months helping about  to  families a month she said most of the recipients are single mothers with two or three children not large families as most people think she saidthe food pantry spends most of its money on toiletries she said because nobody donates those thingsschoenemann said shed seen an increase in people who are requesting help for the first time many have said their hours had been cut at work making it harder to buy foodthe demand is always greater than we can meet always she saidmangapora said the food bank has to charge the pantries for its services because of its costs such as vehicles staff and equipmentwhen she started at the food bank in  mangapora said most food pantries never ran out of food but now its a struggle to keep the shelves full she saidthough donations have decreased mangapora said the food bank has managed so far because of an increase in federal commoditiesmangapora said its difficult seeing people who have to make a choice between buying food and paying medical billsweve got people who once donated that are now asking for help she saidto see more of the eagle or to subscribe to the newspaper go to httpwwwtheeaglecom copyright c  the eagle bryan texas distributed by mcclatchytribune information services for reprints email tmsreprintspermissionsgroupcom call  or  send a fax to  or write to the permissions group inc  milwaukee ave suite  glenview il  usa \\ndistributed by mcclatchytribune business news\n",
      "Name: clean_text, dtype: object\n",
      "1\n",
      "Is it about recession\n",
      "1523       chairman ben s bernanke and federal reserve policy makers who declared that inflation was their paramount challenge just two weeks ago have been forced to make financialmarket stability the trigger for changes in interest ratesby lowering the discount rate and issuing a statement conceding threats to the economy federal open market committee members effectively ripped up the economicoutlook statement from their aug  meeting some economists describe the aboutface coming after months of assurances that the subprimemortgage rout was contained as bernankes first serious error since taking office last yearit was a rookie mistake said kenneth thomas a lecturer in finance at the university of pennsylvanias wharton school in philadelphia the fed underestimated liquidity needs of investors and the fallout from the housing recession he said adding this demonstrates the difference between booksmart and streetsmartwere getting a nice further look at the new bernanke fed said ethan harris chief us economist at lehman brothers holdings incin new york he definitely wants to use the committee and these more formal directives as opposed to former fed chief greenspans preference for speeches laden with code wordsa former chairman of the economics department at princeton university bernanke has elevated the role of forecasts in fed policy rather than amassing clues from dozens of market indicators as predecessor alan greenspan didthe fed forecasts showed that moderate growth would continue and that inflation remained the biggest danger the credit collapse has undermined that stance and bernanke may cut the benchmark interest rate by at least a quarterpoint at or before the sept  fomc meeting analysts saysometimes the dynamics change very very quickly said former fed governor laurence meyer who voted for the three reductions in  after currencies in asia russia and latin america tumbled bernankes shift tells us how difficult it is to translate financial turbulence into the macroeconomic forecastthe fed on aug  lowered its discount rate  what it charges banks for direct loans  by  percentage point to  percent in an effort to increase liquidity in longerterm loans and bondsthe initial request for the move came from fed district banks in new york and san francisco they are led respectively by timothy geithner and janet yellen both former clinton administration officials who dealt with the  currency crises the feds board of governors in washington is dominated by academicsmeyer vice chairman of macroeconomic advisors llc in washington recommended prior to the aug  fomc meeting that policy makers cease describing inflation as the biggest risk by saying the risks to growth and inflation were roughly equal the central bank would have given itself room to maneuver if markets  already weakening  continued to slidethe committee said in its statement three days ago that the downside risks to growth have increased appreciably because of the tumult in markets officials abandoned the prediction of a moderate expansion and inflation wasnt mentionedwhile leaving the main rate at  percent the panel said it is prepared to act as needed to mitigate the adverse effects on the economythe fed has an easing bias but it is not an easing bias dictated strictly by economic conditions said stephen stanley chief economist at rbs greenwich capital markets in greenwich connecticut this is a financialmarket issue which is then bleeding into the economylast weeks policy shift notwithstanding bernankes moves to resolve the credit crunch so far have been restrained even then and unlike the greenspan era it was the fed doing the talking not any one individualthe fed pumped  billion into the banking system on aug  to free up financing in shortterm credit markets and issued a sixline statement the injection was the feds biggest since the meltdown began by contrast the european central bank added  billion in temporary reserves a day earlier ecb president jeanclaude trichet followed up with media interviews designed to reassure investorslast weeks reduction in the discount rate which is used less than the federal funds rate as a policymaking tool wasnt directed at the broad economy so much as at trying to ease gridlock in credit markets the fed said it would accept everything from homeequity loans to municipal bonds as collateral for discountwindow loans up to  daysthe decision to keep the benchmark overnight lending rate unchanged  for now  may be a sign that the central bank is still wary of bailing out bad bets by financial institutions and investors st louis fed president william poole said in an interview on aug  that only a calamity would justify a rate cut between scheduled fomc meetingsthey knew what they were doing by maintaining the antiinflation bias at their aug  meeting said former dallas fed president robert mcteer i do not agree with it but i think they were trying very hard not to have a bernanke put they were hardpressed to keep that out of it it became unrealisticformer fed officials say its difficult for central bankers to judge when they should abandon their economic outlook often arrived at through months of internal debate and calculationbernanke  is an expert in inflationtargeting and has spent much of his career in academia he is familiar with the history of the fed the policy errors and contributed to great depression research with a  paper he coauthoredbernanke earned the moniker helicopter ben after a  speech in which he indicated that if interest rates fell to zero in a weak economy he would drop money from helicopters into the banking system to keep it going this was in reference to the price phenomenon plaguing japan at the time which sparked concerns that slowing inflation in the us could lead to the same situationit is a team that is new to the challenge but it is a pretty smart group said harristhus bernanke and his colleagues have tiptoed in and are trying to strike the right balance between doing nothing and riding to the rescue said gary schlossberg senior economist at wells fargo capital management in san francisco which oversees  billion in assets theyve left the door open to a fullblown easing of monetary policy the results are mixed so far and early returns suggest were not out of the woods yet\n",
      "Name: clean_text, dtype: object\n"
     ]
    },
    {
     "name": "stdout",
     "output_type": "stream",
     "text": [
      "1\n",
      "Is it about recession\n",
      "855    nov mitchells an upscale clothier based in westport wants to acquire wilkes bashford co a san franciscobased highend department store chain that recently filed for chapter  bankruptcy protectionwe think theres tremendous synergies and the business has a tremendous reputation and iconic brand on the west coast said andrew mitchellnamdar mitchells vice president of marketing and coownerwilkes bashford has a squarefoot sixstory flagship store on san franciscos sutter street and another squarefoot store in palo alto califwilkes bashford which was founded in  and carries pricy labels such as zegna and kiton in the past two months shuttered locations in mill valley and carmel calif after weak sales brought on by the recession since february it has reduced its work force from  employees to mitchells would pay  million under a proposed agreement with the bankruptcy court pending a competitive bid process to allow for other offerswilkes bashford is seeking approval of an expedited sale process under which alternate bidders would submit their bids by nov  for a nov  sale hearing to avoid impacting the holiday season according to court paperswere hopeful itll be acquired said mitchellnamdar adding that mitchells has no plans to change the stores or its staff its too early to tell and we have a conservative track record for growthwere alwaysopen to new opportunities said mitchellnamdar who expects the retail environment to improve were optimistic that things are going to turn aroundhowever mitchells which acare going to turn aroundhowever mitchells which acquired richards of greenwich in  and marshs of huntington ny in  wont immediately pursue other properties until the wilkes bashford deal closes to focus on the california retailers success mitchellnamdar saidmitchells was founded in  by edwin mitchell with his wife norma jack mitchell edwin mitchells son and mitchellnamdars father is the clothiers chief executive officerwilkes bashford is looking forward to joining the mitchells organization said wilkes bashford  the companys namesake founder who will remain with the firmive known and admired the mitchell family for many years said bashford who remembers celebrating the opening of the palo alto store with the mitchell family even if we hadnt run into these economic difficulties i think it would have been a great match for the futurenonetheless the recession has been an unfortunate occurrence he saidi hope weve been through the worst of it and that what we see in the stock market is a sign of a rebound because it has affected so many of us he saidnow is a good time for financially successful retailers to expand because the economy is beginning to get better said daniel butler vice president of retail operations for the washington dcbased national retail federationtypically retail has five very good years after a recession ends he saidhighend clothier seeks to make west coast connectionto see more of the connecticut post or to subscribe to the newspaper go to httpwwwconnpostcom copyright c  connecticut post bridgeport distributed by mcclatchytribune information services for reprints email tmsreprintspermissionsgroupcom call  or  send a fax to  or write to the permissions group inc  milwaukee ave suite  glenview il  usa \\ndistributed by mcclatchytribune business news\n",
      "Name: clean_text, dtype: object\n",
      "1\n",
      "Is it about recession\n",
      "2242    washington » the nations unemployment rate jumped to  percent in march the highest since late  as a wide swath of employers eliminated  jobs its fresh evidence of the toll the recession has inflicted on americas workers and economists say theres no relief in sightif parttime and discouraged workers are factored in the unemployment rate would have been  percent in march the highest on records dating to  according to labor department data released fridayutah unemployment figures for march will come out later this month but the rate in february was  percent up from  percent in decemberchief economist for the utah department of workforce services mark knold predicts unemployment in utah will peak in the  percent rangeabout  utahns were considered unemployed in february compared with  in the same month last yearonly twice since utah has been keeping employment data  both times during the downturn of   has the states unemployment rate jumped by  percentage point over a twomonth periodthe average workweek nationwide in march dropped to  hours a new record low since the recession began in december  the economy has lost a net total of  million jobs with almost twothirds of the losses in the last five monthsits an ugly report and april is going to be equally as bad said mark zandi chief economist at moodyseconomycomthe deterioration in the jobs market and a worsethanexpected reading of the strength of the services sector in march come despite a few hopeful signs recently that the recession  now matching the longest since world war ii  could be easingorders placed with us factories rose in february ending six straight months of declines the government reported thursday earlier in the week there was betterthanexpected reports on construction spending and pending home sales and last week a report showed that consumer spending  an engine of the economy  rose in february for the second month in a row  after a halfyear of declinesthe job market traditionally doesnt rebound until well after a recovery starts but the stock market generally bottoms out before the economy and stocks have been rising for three weekslast months tally of job losses was slightly higher than the  that economists expected the rise in the unemployment rate matched expectations employers cut  jobs in february when the jobless rate was  percent the same as initially estimated januarys job losses however were revised much higher to  from the number of unemployed people climbed to  million in march in addition the number of people forced to work part time for economic reasons rose by  to  millionlooking forward economists expect monthly job losses continuing for most  if not all  of this yearjob losses were widespread last month construction companies cut  jobs factories axed  retailers got rid of nearly  professional and business services eliminated  leisure and hospitality reduced employment by  even the government cut jobs   of themeducation and health care were the few industries showing any job gainstheres going to be quite a long haul before you see the jobless rate head down said bill cheney chief economist at john hancock financial servicessalt lake tribune staff contributed to this report\n",
      "Name: clean_text, dtype: object\n",
      "1\n",
      "Is it about recession\n",
      "853    with the help of more than  billion in federal stimulus funds minnesota faces a  billion deficit in the  fiscal year which is much lower than anticipated the state announced in an economic forecast released tuesdaythe shortfall is  million less than originally projected in november  which is due to the funds from the stimulus package the economy has worsened since the previous projection and without those funds the deficit would hit nearly  billionthe economy is in its worst recession since world war ii but could begin showing growth again by  state economist and university of minnesota professor tom stinson said at a tuesday press conferencethis recession is longer and is going to be deeper than was thought in november he said it will come to an end  it may take another stimulus package but it will come to an endstate revenues are forecasted to drop more than  billion in  more than  million of which comes from decreased income tax revenuestinson said the stimulus will add or save  jobs in minnesota alone the management and budget office projected jobs will come back to the state beginning in minnesota has already lost  jobs during the recession and is expected to lose an additional  before its done stinson said in a normal year minnesota would see  new jobs he saidtom hanson commissioner of the management and budget office said the stimulus funds were the positive side of a good news bad news scenariothe economy continues to deteriorate which has a negative impact on our state forecast and our state economy he saidwhile state and local governments are eligible for  billion in aid from the stimulus the budget projection only takes into account  billion in stimulus funds set aside for medical assistance money legally the state can only recognize the  billion in its forecastthe state legislature and the governor are required to balance the budget during the legislative session setting up an ideological battle expected to last to at least the sessions conclusion in maygov tim pawlenty said he would issue a revised budget proposal within the next couple of weeks in his original budget announced in january pawlenty had proposed a  million cut to the universitys budgeton tuesday pawlenty wouldnt offer specifics about his new budget except to reiterate that he would oppose any tax increasesit is very important from my standpoint that state government not add to the burdens of families and not add to the burdens of struggling businesses by raising their taxes he said at a press conferencein january pawlenty proposed a  billion biennium budget a more than  percent cut over the current budget if approved pawlenty said it would be the first time biennium budget spending was cut in minnesotas historythe stimulus money only helps relieve the budget problems for the upcoming biennium the management and budget office projected a  billion shortfall before inflation for when asked if the legislature would propose tax increases to solve the budget problems house speaker margaret anderson kelliher said the legislature would seek to balance the budget for the next four yearsit will be a balanced budget for four years which means that it has to have its inflows and outflows balance kelliher said when pressed whether that would include tax increases all options are on the table that includes revenuedespite the relief brought to the state pawlenty remained critical of the  billion federal stimulus package on tuesday calling it an oldfashioned democrat spending billkelliher said the stimulus has its purpose  a shortterm fix for an ailing economythe help that we have gotten from the federal government is like shortterm pain medication administered to the patient kelliher said we have a long way until were on our way to recovery and we are well againc  minnesota daily via uwire\n",
      "Name: clean_text, dtype: object\n"
     ]
    },
    {
     "name": "stdout",
     "output_type": "stream",
     "text": [
      "1\n",
      "Is it about recession\n",
      "509    sep even in a recession some businesses growin san diego and riverside counties farmers markets are blossoming as a growth enterprise propelled by expanding demand for fresh nutritious foods grown locallyfive years ago san diego county hosted  farmers markets now  operate and the number of stalls at most farmers markets also is growing at the oceanside certified farmers market amp faire the number of vendors has risen to  today triple the number when the market started  years agosoon the market will expand adding as many as  vendorspeople want to buy local said suzanne bendixen manager of the oceanside market and of markets in poway and la mesain riverside county just seven farmers markets served the county  which is almost the size of new jersey  a decade ago now that number has doubled and farmers markets in hemet and corona soon will open said don bray deputy riverside county agricultural commissioner farmers market operators all say they keep waiting lists of growers for their marketsin washington where symbolism is everything first lady michelle obama gets some credit for the growing demand for locally grown produce by planting a vegetable garden on the white house grounds praising farmers markets and encouraging americans to eat more nutritious foodsbalancing the offerings is key to a successful farmers market operators agree mark wall manager of the vista farmers market says he has plenty of orange and avocado vendors but would like to add sprouts chicken and turkey to the mix he hasnt found vendors for those products yetfor growers selling at a farmers market means they can earn more because they avoid selling their products to a wholesaler at every level though the marketplace grows more competitivein san diego county the average farm has shrunk to about four acres but the number has grown to  the most of any county in the nation and up  percent from  said dawn nielsen county agriculture commissioner many of those small farmers concentrate on higheryield crops such as strawberries and avocados which makes balancing the offerings at farmers markets a challenge for the operatorson a good day at a busy farmers market a grower can sell  worth of fruit and vegetablesalthough the recession has cut sales for much of the afternoon and evening this past tuesday priscilla kawano was bagging fruits and vegetables at the escondido certified farmers market the certified means the county agriculture commissioner has verified that farmers raised the fruits and vegetables sold at their stands and didnt buy them wholesale from another placethe kawano family farms in vista and like many other small farmers they travel an orbit of markets each of which typically operates one day per week kawano or relatives sell at four farmers markets in san diego county one in corona and one in long beachfor customers the attraction of the markets goes beyond the freshness variety and nutritional value of the fruits and vegetables its a mingling social experience not replicated in any grocery storefarmers enjoy it tooselling the fruit talking to people  i like that said miguel haros who works for a farmer in valley center and has been operating a booth at the escondido market for three yearsgrowers and cities like farmers markets said don dominghoni a supervising agriculture standards investigator with the riverside county agriculture commissioners officefarmers markets typically are operated by a nonprofit entity whose main objective is to boost business in the area by luring more people operators usually get  to  percent of the growers sales the operators take at a small farmers market may be just a few hundred dollarsin a recession merchants will take all the help they can get  and farmers markets draw peoplemark kingcade owner of the streetlife clothing store on grand avenue in escondido says of the farmers market love it his affection springs mostly because of a particular prepared food stand that is part of the market and not for the business boost he gets which he says is smallmost farmers markets also allow a few other vendors such as the one selling the prepared foods that kingcade likes and others selling soaps crafts clothing jewelry keychains picture frames etcdoes any room remain for growth in farmers markets the answer depends on who you ask to peer aheadriverside countys domenghoni says the marketplace still has room for more organics but some national reports suggest americans yen for organic foods is topping outwall the vista operator notes that farmers markets have evolved from serving lowincome people into trendy markets for middleand upperincome people prices sometimes have risen to new wallet sizessometimes prices are higher here sometimes lower said christy johnson manager of the carlsbad village and new encinitas farmers marketsat the carlsbad market on wednesday strawberries were selling for  for a small basket avocados for  to  and peaches for  a poundat stater brothers grocery in escondido strawberries were selling for about half the farmers market rate avocados were priced about the same and peaches were  cents a pound for yellow and  a pound for whiteat some point  soon he thinks  farmers markets will have expanded as far as the marketplace will supportthat time apparently has not come quite yetin visiting a new farmers market last week a few blocks from the white house michelle obama said she had never seen so many people so excited about fruits and vegetablesget to know the people who grow your food she suggestedthe associated press contributed to this reportto see more of the north county times or to subscribe to the newspaper go to httpwwwnctimescom copyright c  north county times escondido calif distributed by mcclatchytribune information services for reprints email tmsreprintspermissionsgroupcom call  or  send a fax to  or write to the permissions group inc  milwaukee ave suite  glenview il  usa \\ndistributed by mcclatchytribune business news\n",
      "Name: clean_text, dtype: object\n",
      "0\n",
      "Is it about recession\n",
      "106    associated press writers ben feller and jim kuhnhenn contributed to this story washington  sounding a friendly tone to the nations community bankers president barack obama yesterday said the white house would seek to cut bureaucratic restrictions so that local lenders could help businesses seize enormous opportunities for growth after bleak timeswe feel very optimistic that the worst is behind us the president declared after meeting with heads of a dozen small and community banksthe event among the final acts of business for mr obama before he leaves for a christmas vacation in hawaii follows a similar meeting the president held at the white house last week with some of the nations biggest bankers but the tone was different this timemr obama had implored those bankers to help keep the fragile recovery from faltering by increasing lending to small businesses and supporting a rewrite of financial regulations with the smaller lenders he rallied behind themmr obama said his administration does not have direct influence over independent regulators but would still seek to spotlight cases in which restrictions may have become too tight on community banks causing the pendulum to swing too far in the direction of not lendingthere remains enormous opportunities as we come out of this recession for businesses to start growing again and to start hiring again mr obama said he pledged that the white house would keep working in the months ahead to spur the lending needed to help businesses hireunemployment remains in the double digits as the year nears its end dragging down the mood of the country and the poll numbers of mr obama with itmr obama made a point to say the community lenders are largely not responsible for the risky behavior that helped imperil the us financial systemthere are about  small and community banks with assets of less than  billion most of them with assets of no more than  billion they are important to the obama administration because they make more than  percent of small business loans under mr obamas relationship with smaller bankers is friendly they have generally backed the administrations financial regulatory package and have received kinder treatment in the house version of the legislation for example banks with assets of less than  billion will not have to undergo a separate bank examination by a proposed consumer protection agency large banks would have to submit to such a reviewas a result a rift has developed between large financial institutions and community bank organizations the american bankers association last week sent an email to its members lamenting the position the independent community bankers association had taken by not fighting against the house financial regulation billat the same time these banks are especially vulnerable commercial real estate lending conditions got worse for these banks in the third quarter they have been hit by bank failures and banking experts fear it could get worsethat poses a dilemma for the white house which wants more lending from these banks and is ready to pump about  billion in tarp money for a small business lending program small bankers have told administration officials that they are reluctant to take the money because of the stigma associated with federal assistanceaccording to the federal reserve loans by the nations  banks fell  percent to  trillion in the past year and some analysts expect them to keep falling at least through next yearmr obama sees unlocking tight credit markets as one way to tackle a national unemployment rate clinging to double digitsnovembers unemployment rate was  percent down slightly from  percent in october mr obama argues that jobs will be created if small business owners  who employ the majority of us workers  get the money they need to expand their operations\\n\n",
      "Name: clean_text, dtype: object\n"
     ]
    },
    {
     "name": "stdout",
     "output_type": "stream",
     "text": [
      "1\n"
     ]
    }
   ],
   "source": [
    "# start the interactive active learning labeling session\n",
    "accuracy_scores_al = [learner.score(X_test, y_test)]\n",
    "X_pool_text = unlabelled['clean_text']\n",
    "\n",
    "for i in range(10):\n",
    "    query_idx, query_inst = learner.query(X_pool)\n",
    "    print(X_pool_text[query_idx])\n",
    "    y_new = np.array([int(input())], dtype=int)\n",
    "    learner.teach(query_inst, y_new)\n",
    "    X_pool = np.delete(X_pool, query_idx, axis=0)\n",
    "    accuracy_scores_al.append(learner.score(X_test, y_test))"
   ]
  },
  {
   "cell_type": "code",
   "execution_count": 35,
   "metadata": {},
   "outputs": [
    {
     "data": {
      "image/png": "[encoded data removed]",
      "text/plain": [
       "<Figure size 720x360 with 1 Axes>"
      ]
     },
     "metadata": {},
     "output_type": "display_data"
    }
   ],
   "source": [
    "# visualize the results \n",
    "with plt.style.context('seaborn-white'):\n",
    "    plt.figure(figsize=(10, 5))\n",
    "    plt.title('Accuracy of the classifier during the active learning')\n",
    "    plt.plot(range(10+1), accuracy_scores_al)\n",
    "    plt.scatter(range(10+1), accuracy_scores_al)\n",
    "    plt.xlabel('number of queries')\n",
    "    plt.ylabel('accuracy')\n",
    "    plt.show()"
   ]
  },
  {
   "cell_type": "markdown",
   "metadata": {},
   "source": [
    "# generate new sample"
   ]
  },
  {
   "cell_type": "code",
   "execution_count": 69,
   "metadata": {},
   "outputs": [],
   "source": [
    "# labelled data\n",
    "clas_dat1 = pd.read_csv(\"random_sample_CRK_YL-6-7-21.csv\")\n",
    "clas_dat2 = pd.read_csv(\"random_sample2.csv\")\n",
    "\n",
    "labelled_id = clas_dat1['id'].append(clas_dat2['id'])"
   ]
  },
  {
   "cell_type": "code",
   "execution_count": 74,
   "metadata": {},
   "outputs": [],
   "source": [
    "pool = dat[~dat['id'].isin(labelled_id)]\n",
    "sample3 = pool.sample(n = 300)"
   ]
  },
  {
   "cell_type": "code",
   "execution_count": 76,
   "metadata": {},
   "outputs": [],
   "source": [
    "sample3.to_csv(\"random_sample3.csv\")"
   ]
  },
  {
   "cell_type": "code",
   "execution_count": 77,
   "metadata": {},
   "outputs": [
    {
     "data": {
      "text/plain": [
       "214544"
      ]
     },
     "execution_count": 77,
     "metadata": {},
     "output_type": "execute_result"
    }
   ],
   "source": [
    "len(dat)"
   ]
  },
  {
   "cell_type": "code",
   "execution_count": 78,
   "metadata": {},
   "outputs": [
    {
     "data": {
      "text/plain": [
       "213944"
      ]
     },
     "execution_count": 78,
     "metadata": {},
     "output_type": "execute_result"
    }
   ],
   "source": [
    "len(pool)"
   ]
  },
  {
   "cell_type": "code",
   "execution_count": null,
   "metadata": {},
   "outputs": [],
   "source": []
  }
 ],
 "metadata": {
  "kernelspec": {
   "display_name": "Python 3",
   "language": "python",
   "name": "python3"
  },
  "language_info": {
   "codemirror_mode": {
    "name": "ipython",
    "version": 3
   },
   "file_extension": ".py",
   "mimetype": "text/x-python",
   "name": "python",
   "nbconvert_exporter": "python",
   "pygments_lexer": "ipython3",
   "version": "3.7.6"
  }
 },
 "nbformat": 4,
 "nbformat_minor": 4
}
