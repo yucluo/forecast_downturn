{
 "cells": [
  {
   "cell_type": "code",
   "execution_count": 18,
   "metadata": {},
   "outputs": [
    {
     "name": "stderr",
     "output_type": "stream",
     "text": [
      "[nltk_data] Downloading package stopwords to\n",
      "[nltk_data]     /Users/yuchenluo/nltk_data...\n",
      "[nltk_data]   Unzipping corpora/stopwords.zip.\n"
     ]
    }
   ],
   "source": [
    "from gensim.models.doc2vec import Doc2Vec, TaggedDocument\n",
    "from gensim.models.deprecated.doc2vec import LabeledSentence\n",
    "from gensim.models.word2vec import Word2Vec\n",
    "from gensim.models.phrases import Phraser, Phrases\n",
    "from gensim.parsing.porter import PorterStemmer\n",
    "from gensim.parsing.preprocessing import STOPWORDS\n",
    "from string import digits\n",
    "\n",
    "from nltk.corpus import stopwords\n",
    "from nltk.tokenize import word_tokenize\n",
    "import nltk\n",
    "nltk.download('stopwords')\n",
    "\n",
    "import pandas as pd\n",
    "import numpy as np\n",
    "import string\n",
    "import re\n",
    "import random \n",
    "import os\n",
    "import csv\n",
    "\n",
    "from sklearn.ensemble import GradientBoostingClassifier, RandomForestClassifier\n",
    "from sklearn.model_selection import train_test_split, KFold, cross_val_score, GridSearchCV\n",
    "from sklearn import metrics\n",
    "from sklearn.calibration import CalibratedClassifierCV\n",
    "from sklearn.metrics import confusion_matrix, precision_recall_curve\n",
    "from sklearn.metrics import plot_precision_recall_curve\n",
    "from sklearn.feature_extraction.text import CountVectorizer\n",
    "from sklearn.utils.multiclass import unique_labels\n",
    "from sklearn.metrics import auc\n",
    "from sklearn.metrics import accuracy_score\n",
    "from sklearn.model_selection import cross_val_score\n",
    "from sklearn.model_selection import cross_validate\n",
    "from sklearn.model_selection import RepeatedStratifiedKFold\n",
    "from sklearn.metrics import precision_score\n",
    "from sklearn.metrics import recall_score\n",
    "from sklearn.linear_model import LogisticRegression\n",
    "from sklearn.naive_bayes import GaussianNB\n",
    "\n",
    "from modAL.models import ActiveLearner\n",
    "from modAL.uncertainty import uncertainty_sampling\n",
    "from modAL.uncertainty import entropy_sampling\n",
    "from modAL.density import information_density\n",
    "\n",
    "from scipy.stats import entropy\n",
    "from matplotlib import pyplot as plt\n",
    "%matplotlib inline\n",
    "from sklearn import svm"
   ]
  },
  {
   "cell_type": "markdown",
   "metadata": {},
   "source": [
    "# Load Data and Clean"
   ]
  },
  {
   "cell_type": "code",
   "execution_count": 37,
   "metadata": {},
   "outputs": [],
   "source": [
    "dat = pd.read_csv(\"all_text.csv\")"
   ]
  },
  {
   "cell_type": "code",
   "execution_count": 31,
   "metadata": {},
   "outputs": [],
   "source": [
    "#### preprocessing -------------------------------\n",
    "punctuation_dictionary = {s:None for s in list(string.punctuation)}\n",
    "\n",
    "punctuation_translator = str.maketrans(punctuation_dictionary)\n",
    "\n",
    "stop_words = set(stopwords.words('english'))\n",
    "\n",
    "# (remove punctuation, numbers, lowercase, stop words)\n",
    "def text_cleaner_all(text, punctuation_translator):\n",
    "    text = text.replace('c(\"', '')\n",
    "    text = str(text).translate(punctuation_translator)\n",
    "    text = text.lower()\n",
    "    remove_digits = str.maketrans('', '', digits)\n",
    "    text = text.translate(remove_digits)\n",
    "    word_tokens = word_tokenize(text)\n",
    "    filtered_text = [w for w in word_tokens if not w.lower() in stop_words]\n",
    "    text = ' '.join(filtered_text)\n",
    "    return(text)\n",
    "\n",
    "# (remove punctuation, lowercase, stop words)\n",
    "def text_cleaner_mod(text, punctuation_translator):\n",
    "    text = text.replace('c(\"', '')\n",
    "    text = str(text).translate(punctuation_translator)\n",
    "    text = text.lower()\n",
    "    word_tokens = word_tokenize(text)\n",
    "    filtered_text = [w for w in word_tokens if not w.lower() in stop_words]\n",
    "    text = ' '.join(filtered_text)\n",
    "    return(text)\n",
    "\n",
    "# (remove punctuation, lowercase)\n",
    "def text_cleaner_min(text, punctuation_translator):\n",
    "    text = text.replace('c(\"', '')\n",
    "    text = str(text).translate(punctuation_translator)\n",
    "    text = text.lower()\n",
    "    return(text)\n",
    "# dat[\"clean_text\"] = dat[\"text\"].apply(lambda x: text_cleaner(x, punctuation_translator))"
   ]
  },
  {
   "cell_type": "code",
   "execution_count": 8,
   "metadata": {},
   "outputs": [],
   "source": [
    "# find phrases\n",
    "phrases1 = Phrases(map(lambda x: x.split(), dat[\"clean_text\"].tolist())) #bigram\n",
    "phrases2 = Phrases(phrases1[map(lambda x: x.split(), dat[\"clean_text\"].tolist())]) #trigram\n",
    "dat[\"phrased_text\"] = dat[\"clean_text\"].apply(lambda x: \" \".join(phrases2[phrases1[x.split()]]))"
   ]
  },
  {
   "cell_type": "code",
   "execution_count": 22,
   "metadata": {},
   "outputs": [
    {
     "data": {
      "text/html": [
       "<div>\n",
       "<style scoped>\n",
       "    .dataframe tbody tr th:only-of-type {\n",
       "        vertical-align: middle;\n",
       "    }\n",
       "\n",
       "    .dataframe tbody tr th {\n",
       "        vertical-align: top;\n",
       "    }\n",
       "\n",
       "    .dataframe thead th {\n",
       "        text-align: right;\n",
       "    }\n",
       "</style>\n",
       "<table border=\"1\" class=\"dataframe\">\n",
       "  <thead>\n",
       "    <tr style=\"text-align: right;\">\n",
       "      <th></th>\n",
       "      <th>id</th>\n",
       "      <th>text</th>\n",
       "      <th>final_code</th>\n",
       "      <th>clean_text</th>\n",
       "      <th>phrased_text</th>\n",
       "    </tr>\n",
       "  </thead>\n",
       "  <tbody>\n",
       "    <tr>\n",
       "      <th>0</th>\n",
       "      <td>7VS1-X791-2R2Y-70SK-00000-00.txt</td>\n",
       "      <td>c(\"May 23--Record demand for area food pantry ...</td>\n",
       "      <td>NaN</td>\n",
       "      <td>mayrecorddemandareafoodpantryprogramsoutpacing...</td>\n",
       "      <td>may 23record demand for area food_pantry progr...</td>\n",
       "    </tr>\n",
       "    <tr>\n",
       "      <th>1</th>\n",
       "      <td>4VGG-NH20-TX12-N12V-00000-00.txt</td>\n",
       "      <td>c(\"Jan. 28--STOCKTON -- All but six of the 189...</td>\n",
       "      <td>NaN</td>\n",
       "      <td>janstocktonsixunitsvintagesquareapartmentsrose...</td>\n",
       "      <td>jan 28stockton all but six of the 189 units in...</td>\n",
       "    </tr>\n",
       "    <tr>\n",
       "      <th>2</th>\n",
       "      <td>7VTR-NPY0-Y9J0-Y26V-00000-00.txt</td>\n",
       "      <td>c(\"May 31--It's a simple question: What are yo...</td>\n",
       "      <td>NaN</td>\n",
       "      <td>maysimplequestionchargedturnlightssitcomputert...</td>\n",
       "      <td>may 31its a simple_question what are you being...</td>\n",
       "    </tr>\n",
       "    <tr>\n",
       "      <th>3</th>\n",
       "      <td>4VG1-37N0-TX12-N0MF-00000-00.txt</td>\n",
       "      <td>c(\"Jan. 25--This is the best time for buying p...</td>\n",
       "      <td>NaN</td>\n",
       "      <td>janbesttimebuyingpropertiesabudhabisaysmdreale...</td>\n",
       "      <td>jan 25this is the best time for buying propert...</td>\n",
       "    </tr>\n",
       "    <tr>\n",
       "      <th>4</th>\n",
       "      <td>7WDR-PFY0-Y9J0-Y03G-00000-00.txt</td>\n",
       "      <td>c(\"Aug. 17--GLENS FALLS -- The Glens Falls Far...</td>\n",
       "      <td>NaN</td>\n",
       "      <td>augglensfallsglensfallsfarmersmarketbusyeverla...</td>\n",
       "      <td>aug 17glens falls the glens_falls farmers_mark...</td>\n",
       "    </tr>\n",
       "    <tr>\n",
       "      <th>...</th>\n",
       "      <td>...</td>\n",
       "      <td>...</td>\n",
       "      <td>...</td>\n",
       "      <td>...</td>\n",
       "      <td>...</td>\n",
       "    </tr>\n",
       "    <tr>\n",
       "      <th>214539</th>\n",
       "      <td>5P1D-JB81-DYY9-J17B-00000-00.txt</td>\n",
       "      <td>\"Change\" has been President-elect Barack Obama...</td>\n",
       "      <td>NaN</td>\n",
       "      <td>changepresidentelectbarackobamasmantramanysupp...</td>\n",
       "      <td>change has_been presidentelect_barack_obamas m...</td>\n",
       "    </tr>\n",
       "    <tr>\n",
       "      <th>214540</th>\n",
       "      <td>4V23-HR00-TXJ7-F169-00000-00.txt</td>\n",
       "      <td>As banks race to cover all of their payments b...</td>\n",
       "      <td>NaN</td>\n",
       "      <td>banksracecoverpaymentsbasesoneexcitingplayersw...</td>\n",
       "      <td>as banks race to cover all of their payments b...</td>\n",
       "    </tr>\n",
       "    <tr>\n",
       "      <th>214541</th>\n",
       "      <td>4TKS-1W10-TX2Y-F076-00000-00.txt</td>\n",
       "      <td>Media stocks might be depressed amid the curre...</td>\n",
       "      <td>NaN</td>\n",
       "      <td>mediastocksmightdepressedamidcurrentfinancialc...</td>\n",
       "      <td>media stocks might be depressed amid the curre...</td>\n",
       "    </tr>\n",
       "    <tr>\n",
       "      <th>214542</th>\n",
       "      <td>7WKK-W2D0-Y9S8-W524-00000-00.txt</td>\n",
       "      <td>Party leaders from both sides have condemned h...</td>\n",
       "      <td>NaN</td>\n",
       "      <td>partyleaderssidescondemnedoutburstimmigrationp...</td>\n",
       "      <td>party_leaders from both_sides have condemned h...</td>\n",
       "    </tr>\n",
       "    <tr>\n",
       "      <th>214543</th>\n",
       "      <td>4TW4-7600-TX7B-K0HM-00000-00.txt</td>\n",
       "      <td>Supporters of a major boost in federal transpo...</td>\n",
       "      <td>NaN</td>\n",
       "      <td>supportersmajorboostfederaltransportationspend...</td>\n",
       "      <td>supporters of a major boost in federal transpo...</td>\n",
       "    </tr>\n",
       "  </tbody>\n",
       "</table>\n",
       "<p>214544 rows × 5 columns</p>\n",
       "</div>"
      ],
      "text/plain": [
       "                                      id  \\\n",
       "0       7VS1-X791-2R2Y-70SK-00000-00.txt   \n",
       "1       4VGG-NH20-TX12-N12V-00000-00.txt   \n",
       "2       7VTR-NPY0-Y9J0-Y26V-00000-00.txt   \n",
       "3       4VG1-37N0-TX12-N0MF-00000-00.txt   \n",
       "4       7WDR-PFY0-Y9J0-Y03G-00000-00.txt   \n",
       "...                                  ...   \n",
       "214539  5P1D-JB81-DYY9-J17B-00000-00.txt   \n",
       "214540  4V23-HR00-TXJ7-F169-00000-00.txt   \n",
       "214541  4TKS-1W10-TX2Y-F076-00000-00.txt   \n",
       "214542  7WKK-W2D0-Y9S8-W524-00000-00.txt   \n",
       "214543  4TW4-7600-TX7B-K0HM-00000-00.txt   \n",
       "\n",
       "                                                     text  final_code  \\\n",
       "0       c(\"May 23--Record demand for area food pantry ...         NaN   \n",
       "1       c(\"Jan. 28--STOCKTON -- All but six of the 189...         NaN   \n",
       "2       c(\"May 31--It's a simple question: What are yo...         NaN   \n",
       "3       c(\"Jan. 25--This is the best time for buying p...         NaN   \n",
       "4       c(\"Aug. 17--GLENS FALLS -- The Glens Falls Far...         NaN   \n",
       "...                                                   ...         ...   \n",
       "214539  \"Change\" has been President-elect Barack Obama...         NaN   \n",
       "214540  As banks race to cover all of their payments b...         NaN   \n",
       "214541  Media stocks might be depressed amid the curre...         NaN   \n",
       "214542  Party leaders from both sides have condemned h...         NaN   \n",
       "214543  Supporters of a major boost in federal transpo...         NaN   \n",
       "\n",
       "                                               clean_text  \\\n",
       "0       mayrecorddemandareafoodpantryprogramsoutpacing...   \n",
       "1       janstocktonsixunitsvintagesquareapartmentsrose...   \n",
       "2       maysimplequestionchargedturnlightssitcomputert...   \n",
       "3       janbesttimebuyingpropertiesabudhabisaysmdreale...   \n",
       "4       augglensfallsglensfallsfarmersmarketbusyeverla...   \n",
       "...                                                   ...   \n",
       "214539  changepresidentelectbarackobamasmantramanysupp...   \n",
       "214540  banksracecoverpaymentsbasesoneexcitingplayersw...   \n",
       "214541  mediastocksmightdepressedamidcurrentfinancialc...   \n",
       "214542  partyleaderssidescondemnedoutburstimmigrationp...   \n",
       "214543  supportersmajorboostfederaltransportationspend...   \n",
       "\n",
       "                                             phrased_text  \n",
       "0       may 23record demand for area food_pantry progr...  \n",
       "1       jan 28stockton all but six of the 189 units in...  \n",
       "2       may 31its a simple_question what are you being...  \n",
       "3       jan 25this is the best time for buying propert...  \n",
       "4       aug 17glens falls the glens_falls farmers_mark...  \n",
       "...                                                   ...  \n",
       "214539  change has_been presidentelect_barack_obamas m...  \n",
       "214540  as banks race to cover all of their payments b...  \n",
       "214541  media stocks might be depressed amid the curre...  \n",
       "214542  party_leaders from both_sides have condemned h...  \n",
       "214543  supporters of a major boost in federal transpo...  \n",
       "\n",
       "[214544 rows x 5 columns]"
      ]
     },
     "execution_count": 22,
     "metadata": {},
     "output_type": "execute_result"
    }
   ],
   "source": [
    "dat"
   ]
  },
  {
   "cell_type": "markdown",
   "metadata": {},
   "source": [
    "# doc2vec"
   ]
  },
  {
   "cell_type": "code",
   "execution_count": 78,
   "metadata": {},
   "outputs": [],
   "source": [
    "# docs = list(zip(dat[\"phrased_text\"].tolist(), dat[\"id\"].tolist()))\n",
    "\n",
    "\n",
    "# ## Define an iterator to feed documents and tags to Doc2Vec\n",
    "# class Sentences(object):\n",
    "#     def __init__(self, docs):\n",
    "#         self.docs = docs\n",
    "#     def __iter__(self):\n",
    "#         for doc in self.docs:\n",
    "#             yield TaggedDocument(words=str(doc[0]).split(), tags=[doc[1]])\n",
    "\n",
    "# ## Train and save models\n",
    "# model = Doc2Vec(Sentences(docs), vector_size=100, window=10, min_count=100, negative=10, epochs=10, dm=0, dbow_words=1)"
   ]
  },
  {
   "cell_type": "code",
   "execution_count": 94,
   "metadata": {},
   "outputs": [
    {
     "name": "stdout",
     "output_type": "stream",
     "text": [
      "214544\n",
      "214544\n",
      "214544\n"
     ]
    }
   ],
   "source": [
    "print(len(model.docvecs))\n",
    "model.save(\"doc2vec_wordvecs.model\")\n",
    "print(len(docs))\n",
    "print(len(dat))\n",
    "\n"
   ]
  },
  {
   "cell_type": "code",
   "execution_count": 95,
   "metadata": {},
   "outputs": [
    {
     "data": {
      "text/plain": [
       "[('deep_recession', 0.8328547477722168),\n",
       " ('economic_slump', 0.823676347732544),\n",
       " ('severe_recession', 0.8173205852508545),\n",
       " ('recessionbut', 0.7941799163818359),\n",
       " ('current_downturn', 0.7936395406723022),\n",
       " ('recessionand', 0.7841596007347107),\n",
       " ('recessionary', 0.7790869474411011),\n",
       " ('prolonged_recession', 0.7782836556434631),\n",
       " ('downturn', 0.7760612964630127),\n",
       " ('recessionit', 0.7659202814102173)]"
      ]
     },
     "execution_count": 95,
     "metadata": {},
     "output_type": "execute_result"
    }
   ],
   "source": [
    "model.wv.most_similar('recession') #check the model"
   ]
  },
  {
   "cell_type": "code",
   "execution_count": 4,
   "metadata": {},
   "outputs": [],
   "source": [
    "# load model\n",
    "model = Word2Vec.load(\"doc2vec_wordvecs.model\") "
   ]
  },
  {
   "cell_type": "markdown",
   "metadata": {},
   "source": [
    "# Random Forest"
   ]
  },
  {
   "cell_type": "code",
   "execution_count": 38,
   "metadata": {},
   "outputs": [],
   "source": [
    "## load labelled data\n",
    "clas_dat1 = pd.read_csv(\"random_sample_CRK_YL-6-7-21.csv\")\n",
    "# keep relavant rows and columns\n",
    "clas_dat1 = clas_dat1[['id', 'text', 'final_code']]\n",
    "clas_dat2 = pd.read_csv(\"random_sample3_CRK.csv\")\n",
    "clas_dat2 = clas_dat2[['id', 'text',\"include\"]]\n",
    "clas_dat2.columns = clas_dat1.columns\n",
    "clas_dat3 = pd.read_csv(\"random_sample2_YL.csv\")\n",
    "clas_dat3 = clas_dat3[['id', 'text',\"match_yl\"]]\n",
    "clas_dat3.columns = clas_dat1.columns\n",
    "clas_dat = clas_dat1.append([clas_dat2, clas_dat3])\n",
    "# ## generate test and training set \n",
    "# clas_dat['test'] = np.random.choice([0, 1], size = len(clas_dat['id']), p = [0.8,0.2])\n",
    "# merge with the total dataframe\n",
    "dat = dat.merge(clas_dat[[\"id\", \"final_code\"]], how = \"left\", on = \"id\")\n",
    "X = np.asarray([model.docvecs[i] for i in dat[dat['id'].isin(clas_dat['id'])].index.tolist()])\n",
    "y = clas_dat['final_code']"
   ]
  },
  {
   "cell_type": "code",
   "execution_count": 142,
   "metadata": {},
   "outputs": [
    {
     "data": {
      "text/plain": [
       "array([1, 0])"
      ]
     },
     "execution_count": 142,
     "metadata": {},
     "output_type": "execute_result"
    }
   ],
   "source": [
    "y.unique()"
   ]
  },
  {
   "cell_type": "code",
   "execution_count": 9,
   "metadata": {},
   "outputs": [
    {
     "name": "stdout",
     "output_type": "stream",
     "text": [
      "Best: 0.522593 using {'C': 0.1, 'penalty': 'l2', 'solver': 'liblinear'}\n"
     ]
    }
   ],
   "source": [
    "# split into training and testing \n",
    "# from sklearn.model_selection import train_test_split\n",
    "# X_train, X_test, y_train, y_test = train_test_split(X, y, test_size=0.2)\n",
    "# # tuning for RFC\n",
    "# parameters = {'n_estimators':[500, 1000, 5000], 'max_depth':[3, 5, 10], \"max_features\": [\"sqrt\", 0.2, 0.5]}\n",
    "# rfc = RandomForestClassifier()\n",
    "# clf = GridSearchCV(rfc, parameters)\n",
    "# clf.fit(X_train, y_train)\n",
    "# print(clf.best_params_) \n",
    "\n",
    "# parameters = {'solver':[\"newton-cg\", \"ibfgs\", \"liblinear\", \"sag\", \"saga\"], 'penalty':[\"none\", \"l1\", \"l2\", \"elasticnet\"], \"C\": [100, 10, 1, 0.1, 0.01]}\n",
    "\n",
    "model = LogisticRegression()\n",
    "solvers = ['newton-cg', 'lbfgs', 'liblinear']\n",
    "penalty = ['l2']\n",
    "c_values = [100, 10, 1.0, 0.1, 0.01]\n",
    "# define grid search\n",
    "grid = dict(solver=solvers,penalty=penalty,C=c_values)\n",
    "cv = RepeatedStratifiedKFold(n_splits=10, n_repeats=3, random_state=1)\n",
    "grid_search = GridSearchCV(estimator=model, param_grid=grid, n_jobs=-1, cv=cv, scoring='accuracy',error_score=0)\n",
    "grid_result = grid_search.fit(X, y)\n",
    "# summarize results\n",
    "print(\"Best: %f using %s\" % (grid_result.best_score_, grid_result.best_params_))"
   ]
  },
  {
   "cell_type": "code",
   "execution_count": 22,
   "metadata": {},
   "outputs": [
    {
     "data": {
      "text/plain": [
       "180"
      ]
     },
     "execution_count": 22,
     "metadata": {},
     "output_type": "execute_result"
    }
   ],
   "source": [
    "len(y_test)"
   ]
  },
  {
   "cell_type": "code",
   "execution_count": 156,
   "metadata": {},
   "outputs": [
    {
     "name": "stdout",
     "output_type": "stream",
     "text": [
      "0.4640819202144156\n",
      "[[42 49]\n",
      " [44 45]]\n",
      "0.48333333333333334\n"
     ]
    }
   ],
   "source": [
    "# test RFC\n",
    "rfc = RandomForestClassifier(n_estimators=5000, max_depth = 3, max_features =\"sqrt\")\n",
    "## Fit the model to the training set\n",
    "rfc.fit(X_train, y_train)\n",
    "#PR AUC\n",
    "preds = rfc.predict_proba(X_test)\n",
    "lr_precision, lr_recall, _= precision_recall_curve(y_test.tolist(),  preds[:,1].tolist())\n",
    "lr_auc = auc(lr_recall, lr_precision)\n",
    "print(lr_auc)\n",
    "confusion = confusion_matrix(y_test, rfc.predict(X_test))\n",
    "print(confusion)\n",
    "print(metrics.accuracy_score(y_test, rfc.predict(X_test)))"
   ]
  },
  {
   "cell_type": "code",
   "execution_count": 146,
   "metadata": {},
   "outputs": [
    {
     "name": "stdout",
     "output_type": "stream",
     "text": [
      "[[49  9]\n",
      " [41 21]]\n",
      "Precision: 0.700000\n",
      "Recall: 0.338710\n",
      "[[40 23]\n",
      " [36 21]]\n",
      "Precision: 0.477273\n",
      "Recall: 0.368421\n",
      "[[43 16]\n",
      " [44 17]]\n",
      "Precision: 0.515152\n",
      "Recall: 0.278689\n",
      "[[45 22]\n",
      " [32 21]]\n",
      "Precision: 0.488372\n",
      "Recall: 0.396226\n",
      "[[48  5]\n",
      " [51 16]]\n",
      "Precision: 0.761905\n",
      "Recall: 0.238806\n",
      "[[50 19]\n",
      " [29 22]]\n",
      "Precision: 0.536585\n",
      "Recall: 0.431373\n",
      "[[48 10]\n",
      " [46 16]]\n",
      "Precision: 0.615385\n",
      "Recall: 0.258065\n",
      "[[49 14]\n",
      " [37 20]]\n",
      "Precision: 0.588235\n",
      "Recall: 0.350877\n",
      "[[37 28]\n",
      " [30 25]]\n",
      "Precision: 0.471698\n",
      "Recall: 0.454545\n",
      "[[48 10]\n",
      " [48 14]]\n",
      "Precision: 0.583333\n",
      "Recall: 0.225806\n",
      "Mean Accuracy: 0.5416666666666666\n",
      "Average precision: 0.5737937819249062\n",
      "Average recall: 0.3341517804174145\n"
     ]
    }
   ],
   "source": [
    "# for robust results, bootstrap the process\n",
    "accuracy_scores= []\n",
    "precision_scores = []\n",
    "recall_scores = []\n",
    "\n",
    "for i in range(0,10):\n",
    "    ## load the test set \n",
    "    X_train, X_test, y_train, y_test = train_test_split(X, y, test_size=0.2)\n",
    "    classifier = RandomForestClassifier(n_estimators=1000, random_state=0)\n",
    "    classifier.fit(X_train, y_train) \n",
    "    y_pred = classifier.predict(X_test)\n",
    "    print(confusion_matrix(y_test,y_pred))\n",
    "    ## Predict out-of-sample on the test set and compute accuracy\n",
    "    accuracy_scores= accuracy_scores+ [accuracy_score(y_test, y_pred)]\n",
    "    # precision tp / (tp + fp)\n",
    "    precision = precision_score(y_test, y_pred)\n",
    "    precision_scores= precision_scores+ [precision]\n",
    "    print('Precision: %f' % precision)\n",
    "    # recall: tp / (tp + fn)\n",
    "    recall = recall_score(y_test, y_pred)\n",
    "    recall_scores= recall_scores+ [recall]\n",
    "    print('Recall: %f' % recall)\n",
    "\n",
    "print(\"Mean Accuracy: \" + str(np.mean(accuracy_scores)))\n",
    "print(\"Average precision: \" + str(np.mean(precision_scores)))\n",
    "print(\"Average recall: \" + str(np.mean(recall_scores)))"
   ]
  },
  {
   "cell_type": "markdown",
   "metadata": {},
   "source": [
    "# bag of words + tfidf"
   ]
  },
  {
   "cell_type": "code",
   "execution_count": 52,
   "metadata": {},
   "outputs": [
    {
     "name": "stdout",
     "output_type": "stream",
     "text": [
      "Mean Accuracy: 0.7\n",
      "Average precision: 0.6930884976441068\n",
      "Average recall: 0.6920412161074508\n"
     ]
    }
   ],
   "source": [
    "### Max text cleaning (remove punctuation, numbers, lowercase, stop words) --------------------------\n",
    "clas_dat[\"clean_text\"] = clas_dat[\"text\"].apply(lambda x: text_cleaner_all(x, punctuation_translator))\n",
    "# phrases1 = Phrases(map(lambda x: x.split(), clas_dat[\"clean_text\"].tolist())) #bigram\n",
    "# phrases2 = Phrases(phrases1[map(lambda x: x.split(), clas_dat[\"clean_text\"].tolist())]) #trigram\n",
    "# clas_dat[\"clean_text\"] = clas_dat[\"clean_text\"].apply(lambda x: \" \".join(phrases2[phrases1[x.split()]]))\n",
    "\n",
    "from sklearn.feature_extraction.text import CountVectorizer\n",
    "vectorizer = CountVectorizer(max_features=500, min_df=5, max_df=0.7)\n",
    "X = vectorizer.fit_transform(clas_dat[\"clean_text\"]).toarray()\n",
    "\n",
    "from sklearn.feature_extraction.text import TfidfTransformer\n",
    "from sklearn.metrics import classification_report, confusion_matrix, accuracy_score\n",
    "tfidfconverter = TfidfTransformer()\n",
    "X = tfidfconverter.fit_transform(X).toarray()\n",
    "\n",
    "y = np.array(clas_dat['final_code'])\n",
    "\n",
    "# X_train, X_test, y_train, y_test = train_test_split(X, y, test_size=0.2)\n",
    "# classifier = RandomForestClassifier(n_estimators=1000,  max_depth = 3, max_features =0.5,random_state=0)\n",
    "# classifier.fit(X_train, y_train) \n",
    "# y_pred = classifier.predict(X_test)\n",
    "\n",
    "# print(\"Accuracy: \" + str(accuracy_score(y_test, y_pred)))\n",
    "\n",
    "# for robust results, bootstrap the process\n",
    "accuracy_scores= []\n",
    "precision_scores = []\n",
    "recall_scores = []\n",
    "\n",
    "for i in range(0,10):\n",
    "    ## load the test set \n",
    "    X_train, X_test, y_train, y_test = train_test_split(X, y, test_size=0.2)\n",
    "    classifier = RandomForestClassifier(n_estimators=1000, random_state=0)\n",
    "    classifier.fit(X_train, y_train) \n",
    "    y_pred = classifier.predict(X_test)\n",
    "#     print(confusion_matrix(y_test,y_pred))\n",
    "    ## Predict out-of-sample on the test set and compute accuracy\n",
    "    accuracy_scores= accuracy_scores+ [accuracy_score(y_test, y_pred)]\n",
    "    # precision tp / (tp + fp)\n",
    "    precision = precision_score(y_test, y_pred)\n",
    "    precision_scores= precision_scores+ [precision]\n",
    "#     print('Precision: %f' % precision)\n",
    "    # recall: tp / (tp + fn)\n",
    "    recall = recall_score(y_test, y_pred)\n",
    "    recall_scores= recall_scores+ [recall]\n",
    "#     print('Recall: %f' % recall)\n",
    "\n",
    "print(\"Mean Accuracy: \" + str(np.mean(accuracy_scores)))\n",
    "print(\"Average precision: \" + str(np.mean(precision_scores)))\n",
    "print(\"Average recall: \" + str(np.mean(recall_scores)))"
   ]
  },
  {
   "cell_type": "code",
   "execution_count": 33,
   "metadata": {},
   "outputs": [
    {
     "name": "stdout",
     "output_type": "stream",
     "text": [
      "Mean Accuracy: 0.6883333333333334\n",
      "Average precision: 0.6924507709947609\n",
      "Average recall: 0.6900327937486975\n"
     ]
    }
   ],
   "source": [
    "### Moderate text cleaning (remove punctuation, lowercase, stop words) --------------------------\n",
    "clas_dat[\"clean_text\"] = clas_dat[\"text\"].apply(lambda x: text_cleaner_mod(x, punctuation_translator))\n",
    "\n",
    "from sklearn.feature_extraction.text import CountVectorizer\n",
    "vectorizer = CountVectorizer(max_features=500, min_df=5, max_df=0.7)\n",
    "X = vectorizer.fit_transform(clas_dat[\"clean_text\"]).toarray()\n",
    "\n",
    "from sklearn.feature_extraction.text import TfidfTransformer\n",
    "from sklearn.metrics import classification_report, confusion_matrix, accuracy_score\n",
    "tfidfconverter = TfidfTransformer()\n",
    "X = tfidfconverter.fit_transform(X).toarray()\n",
    "\n",
    "y = np.array(clas_dat['final_code'])\n",
    "\n",
    "# for robust results, bootstrap the process\n",
    "accuracy_scores= []\n",
    "precision_scores = []\n",
    "recall_scores = []\n",
    "\n",
    "for i in range(0,10):\n",
    "    ## load the test set \n",
    "    X_train, X_test, y_train, y_test = train_test_split(X, y, test_size=0.2)\n",
    "    classifier = RandomForestClassifier(n_estimators=1000, random_state=0)\n",
    "    classifier.fit(X_train, y_train) \n",
    "    y_pred = classifier.predict(X_test)\n",
    "#     print(confusion_matrix(y_test,y_pred))\n",
    "    ## Predict out-of-sample on the test set and compute accuracy\n",
    "    accuracy_scores= accuracy_scores+ [accuracy_score(y_test, y_pred)]\n",
    "    # precision tp / (tp + fp)\n",
    "    precision = precision_score(y_test, y_pred)\n",
    "    precision_scores= precision_scores+ [precision]\n",
    "#     print('Precision: %f' % precision)\n",
    "    # recall: tp / (tp + fn)\n",
    "    recall = recall_score(y_test, y_pred)\n",
    "    recall_scores= recall_scores+ [recall]\n",
    "#     print('Recall: %f' % recall)\n",
    "\n",
    "print(\"Mean Accuracy: \" + str(np.mean(accuracy_scores)))\n",
    "print(\"Average precision: \" + str(np.mean(precision_scores)))\n",
    "print(\"Average recall: \" + str(np.mean(recall_scores)))"
   ]
  },
  {
   "cell_type": "code",
   "execution_count": 34,
   "metadata": {},
   "outputs": [
    {
     "name": "stdout",
     "output_type": "stream",
     "text": [
      "Mean Accuracy: 0.6983333333333335\n",
      "Average precision: 0.7212492088350276\n",
      "Average recall: 0.684795987393603\n"
     ]
    }
   ],
   "source": [
    "### Minimum text cleaning (remove punctuation,lowercase) --------------------------\n",
    "clas_dat[\"clean_text\"] = clas_dat[\"text\"].apply(lambda x: text_cleaner_min(x, punctuation_translator))\n",
    "\n",
    "from sklearn.feature_extraction.text import CountVectorizer\n",
    "vectorizer = CountVectorizer(max_features=500, min_df=5, max_df=0.7)\n",
    "X = vectorizer.fit_transform(clas_dat[\"clean_text\"]).toarray()\n",
    "\n",
    "from sklearn.feature_extraction.text import TfidfTransformer\n",
    "from sklearn.metrics import classification_report, confusion_matrix, accuracy_score\n",
    "tfidfconverter = TfidfTransformer()\n",
    "X = tfidfconverter.fit_transform(X).toarray()\n",
    "\n",
    "y = np.array(clas_dat['final_code'])\n",
    "\n",
    "# for robust results, bootstrap the process\n",
    "accuracy_scores= []\n",
    "precision_scores = []\n",
    "recall_scores = []\n",
    "\n",
    "for i in range(0,10):\n",
    "    ## load the test set \n",
    "    X_train, X_test, y_train, y_test = train_test_split(X, y, test_size=0.2)\n",
    "    classifier = RandomForestClassifier(n_estimators=1000, random_state=0)\n",
    "    classifier.fit(X_train, y_train) \n",
    "    y_pred = classifier.predict(X_test)\n",
    "#     print(confusion_matrix(y_test,y_pred))\n",
    "    ## Predict out-of-sample on the test set and compute accuracy\n",
    "    accuracy_scores= accuracy_scores+ [accuracy_score(y_test, y_pred)]\n",
    "    # precision tp / (tp + fp)\n",
    "    precision = precision_score(y_test, y_pred)\n",
    "    precision_scores= precision_scores+ [precision]\n",
    "#     print('Precision: %f' % precision)\n",
    "    # recall: tp / (tp + fn)\n",
    "    recall = recall_score(y_test, y_pred)\n",
    "    recall_scores= recall_scores+ [recall]\n",
    "#     print('Recall: %f' % recall)\n",
    "\n",
    "print(\"Mean Accuracy: \" + str(np.mean(accuracy_scores)))\n",
    "print(\"Average precision: \" + str(np.mean(precision_scores)))\n",
    "print(\"Average recall: \" + str(np.mean(recall_scores)))"
   ]
  },
  {
   "cell_type": "code",
   "execution_count": 35,
   "metadata": {},
   "outputs": [
    {
     "name": "stdout",
     "output_type": "stream",
     "text": [
      "Mean Accuracy: 0.6872222222222224\n",
      "Average precision: 0.6792422704667211\n",
      "Average recall: 0.702329471843471\n"
     ]
    }
   ],
   "source": [
    "### Minimum text cleaning (remove punctuation,lowercase) + Phrases --------------------------\n",
    "clas_dat[\"clean_text\"] = clas_dat[\"text\"].apply(lambda x: text_cleaner_min(x, punctuation_translator))\n",
    "phrases1 = Phrases(map(lambda x: x.split(), clas_dat[\"clean_text\"].tolist())) #bigram\n",
    "phrases2 = Phrases(phrases1[map(lambda x: x.split(), clas_dat[\"clean_text\"].tolist())]) #trigram\n",
    "clas_dat[\"clean_text\"] = clas_dat[\"clean_text\"].apply(lambda x: \" \".join(phrases2[phrases1[x.split()]]))\n",
    "\n",
    "from sklearn.feature_extraction.text import CountVectorizer\n",
    "vectorizer = CountVectorizer(max_features=500, min_df=5, max_df=0.7)\n",
    "X = vectorizer.fit_transform(clas_dat[\"clean_text\"]).toarray()\n",
    "\n",
    "from sklearn.feature_extraction.text import TfidfTransformer\n",
    "from sklearn.metrics import classification_report, confusion_matrix, accuracy_score\n",
    "tfidfconverter = TfidfTransformer()\n",
    "X = tfidfconverter.fit_transform(X).toarray()\n",
    "\n",
    "y = np.array(clas_dat['final_code'])\n",
    "\n",
    "# for robust results, bootstrap the process\n",
    "accuracy_scores= []\n",
    "precision_scores = []\n",
    "recall_scores = []\n",
    "\n",
    "for i in range(0,10):\n",
    "    ## load the test set \n",
    "    X_train, X_test, y_train, y_test = train_test_split(X, y, test_size=0.2)\n",
    "    classifier = RandomForestClassifier(n_estimators=1000, random_state=0)\n",
    "    classifier.fit(X_train, y_train) \n",
    "    y_pred = classifier.predict(X_test)\n",
    "#     print(confusion_matrix(y_test,y_pred))\n",
    "    ## Predict out-of-sample on the test set and compute accuracy\n",
    "    accuracy_scores= accuracy_scores+ [accuracy_score(y_test, y_pred)]\n",
    "    # precision tp / (tp + fp)\n",
    "    precision = precision_score(y_test, y_pred)\n",
    "    precision_scores= precision_scores+ [precision]\n",
    "#     print('Precision: %f' % precision)\n",
    "    # recall: tp / (tp + fn)\n",
    "    recall = recall_score(y_test, y_pred)\n",
    "    recall_scores= recall_scores+ [recall]\n",
    "#     print('Recall: %f' % recall)\n",
    "\n",
    "print(\"Mean Accuracy: \" + str(np.mean(accuracy_scores)))\n",
    "print(\"Average precision: \" + str(np.mean(precision_scores)))\n",
    "print(\"Average recall: \" + str(np.mean(recall_scores)))"
   ]
  },
  {
   "cell_type": "markdown",
   "metadata": {},
   "source": [
    "# Logistic Regression Classifier (BOW+ Tf-Idf)"
   ]
  },
  {
   "cell_type": "code",
   "execution_count": 36,
   "metadata": {},
   "outputs": [
    {
     "name": "stdout",
     "output_type": "stream",
     "text": [
      "Mean Accuracy: 0.6861111111111111\n",
      "Average precision: 0.6854323686252718\n",
      "Average recall: 0.6815629221432726\n"
     ]
    }
   ],
   "source": [
    "# for robust results, bootstrap the process\n",
    "accuracy_scores= []\n",
    "precision_scores = []\n",
    "recall_scores = []\n",
    "\n",
    "for i in range(0,10):\n",
    "    ## load the test set \n",
    "    X_train, X_test, y_train, y_test = train_test_split(X, y, test_size=0.2)\n",
    "    classifier = LogisticRegression(random_state=0, C= 1.0, penalty= 'l2', solver= 'liblinear').fit(X_train, y_train)\n",
    "    y_pred = classifier.predict(X_test)\n",
    "#     print(confusion_matrix(y_test,y_pred))\n",
    "    ## Predict out-of-sample on the test set and compute accuracy\n",
    "    accuracy_scores= accuracy_scores+ [accuracy_score(y_test, y_pred)]\n",
    "    # precision tp / (tp + fp)\n",
    "    precision = precision_score(y_test, y_pred)\n",
    "    precision_scores= precision_scores+ [precision]\n",
    "#     print('Precision: %f' % precision)\n",
    "    # recall: tp / (tp + fn)\n",
    "    recall = recall_score(y_test, y_pred)\n",
    "    recall_scores= recall_scores+ [recall]\n",
    "#     print('Recall: %f' % recall)\n",
    "\n",
    "print(\"Mean Accuracy: \" + str(np.mean(accuracy_scores)))\n",
    "print(\"Average precision: \" + str(np.mean(precision_scores)))\n",
    "print(\"Average recall: \" + str(np.mean(recall_scores)))"
   ]
  },
  {
   "cell_type": "code",
   "execution_count": 41,
   "metadata": {},
   "outputs": [
    {
     "name": "stdout",
     "output_type": "stream",
     "text": [
      "Best Accuracy: 0.709167 using {'C': 0.1, 'penalty': 'l2', 'solver': 'liblinear'}\n",
      "Precision: 0.678136 (Accuracy: 0.676944) with: {'C': 100, 'penalty': 'l2', 'solver': 'newton-cg'}\n",
      "Precision: 0.677745 (Accuracy: 0.676667) with: {'C': 100, 'penalty': 'l2', 'solver': 'lbfgs'}\n",
      "Precision: 0.678136 (Accuracy: 0.676944) with: {'C': 100, 'penalty': 'l2', 'solver': 'liblinear'}\n",
      "Precision: 0.698054 (Accuracy: 0.693333) with: {'C': 10, 'penalty': 'l2', 'solver': 'newton-cg'}\n",
      "Precision: 0.698205 (Accuracy: 0.693611) with: {'C': 10, 'penalty': 'l2', 'solver': 'lbfgs'}\n",
      "Precision: 0.697337 (Accuracy: 0.693056) with: {'C': 10, 'penalty': 'l2', 'solver': 'liblinear'}\n",
      "Precision: 0.726299 (Accuracy: 0.704722) with: {'C': 1.0, 'penalty': 'l2', 'solver': 'newton-cg'}\n",
      "Precision: 0.726299 (Accuracy: 0.704722) with: {'C': 1.0, 'penalty': 'l2', 'solver': 'lbfgs'}\n",
      "Precision: 0.722218 (Accuracy: 0.702778) with: {'C': 1.0, 'penalty': 'l2', 'solver': 'liblinear'}\n",
      "Precision: 0.744178 (Accuracy: 0.703611) with: {'C': 0.1, 'penalty': 'l2', 'solver': 'newton-cg'}\n",
      "Precision: 0.744178 (Accuracy: 0.703611) with: {'C': 0.1, 'penalty': 'l2', 'solver': 'lbfgs'}\n",
      "Precision: 0.743001 (Accuracy: 0.709167) with: {'C': 0.1, 'penalty': 'l2', 'solver': 'liblinear'}\n",
      "Precision: 0.813705 (Accuracy: 0.653889) with: {'C': 0.01, 'penalty': 'l2', 'solver': 'newton-cg'}\n",
      "Precision: 0.813705 (Accuracy: 0.653889) with: {'C': 0.01, 'penalty': 'l2', 'solver': 'lbfgs'}\n",
      "Precision: 0.753394 (Accuracy: 0.683611) with: {'C': 0.01, 'penalty': 'l2', 'solver': 'liblinear'}\n"
     ]
    }
   ],
   "source": [
    "#training set\n",
    "X_train, X_test, y_train, y_test = train_test_split(X, y, test_size=0.2)\n",
    "\n",
    "model = LogisticRegression()\n",
    "solvers = ['newton-cg', 'lbfgs', 'liblinear']\n",
    "penalty = ['l2']\n",
    "c_values = [100, 10, 1.0, 0.1, 0.01]\n",
    "\n",
    "# define grid search\n",
    "scoring = ['accuracy', 'precision']\n",
    "\n",
    "grid = dict(solver=solvers,penalty=penalty,C=c_values)\n",
    "cv = RepeatedStratifiedKFold(n_splits=10, n_repeats = 5, random_state=1)\n",
    "grid_search = GridSearchCV(estimator=model, param_grid=grid, n_jobs=-1, cv=cv, scoring= ['accuracy', 'precision'],refit = \"accuracy\")\n",
    "grid_result = grid_search.fit(X_train, y_train)\n",
    "\n",
    "# summarize results\n",
    "print(\"Best Accuracy: %f using %s\" % (grid_result.best_score_, grid_result.best_params_))\n",
    "precisions = grid_result.cv_results_['mean_test_precision']\n",
    "accuracys =  grid_result.cv_results_['mean_test_accuracy']\n",
    "std_prec = grid_result.cv_results_['std_test_precision']\n",
    "std_acc = grid_result.cv_results_['std_test_accuracy']\n",
    "params = grid_result.cv_results_['params']\n",
    "\n",
    "for prec, acc, param in zip(precisions, accuracys, params):\n",
    "    print(\"Precision: %f (Accuracy: %f) with: %r\" % (prec, acc, param)) "
   ]
  },
  {
   "cell_type": "code",
   "execution_count": 170,
   "metadata": {},
   "outputs": [
    {
     "name": "stdout",
     "output_type": "stream",
     "text": [
      "Best: 0.672939 using {'C': 1.0, 'penalty': 'l2', 'solver': 'newton-cg'}\n",
      "0.630882 (0.059695) with: {'C': 100, 'penalty': 'l2', 'solver': 'newton-cg'}\n",
      "0.630882 (0.059695) with: {'C': 100, 'penalty': 'l2', 'solver': 'lbfgs'}\n",
      "0.630895 (0.058816) with: {'C': 100, 'penalty': 'l2', 'solver': 'liblinear'}\n",
      "0.653695 (0.061467) with: {'C': 10, 'penalty': 'l2', 'solver': 'newton-cg'}\n",
      "0.653695 (0.061467) with: {'C': 10, 'penalty': 'l2', 'solver': 'lbfgs'}\n",
      "0.652456 (0.061647) with: {'C': 10, 'penalty': 'l2', 'solver': 'liblinear'}\n",
      "0.672939 (0.065714) with: {'C': 1.0, 'penalty': 'l2', 'solver': 'newton-cg'}\n",
      "0.672939 (0.065714) with: {'C': 1.0, 'penalty': 'l2', 'solver': 'lbfgs'}\n",
      "0.672235 (0.066668) with: {'C': 1.0, 'penalty': 'l2', 'solver': 'liblinear'}\n",
      "0.627845 (0.049367) with: {'C': 0.1, 'penalty': 'l2', 'solver': 'newton-cg'}\n",
      "0.627845 (0.049367) with: {'C': 0.1, 'penalty': 'l2', 'solver': 'lbfgs'}\n",
      "0.634827 (0.054298) with: {'C': 0.1, 'penalty': 'l2', 'solver': 'liblinear'}\n",
      "0.514613 (0.002171) with: {'C': 0.01, 'penalty': 'l2', 'solver': 'newton-cg'}\n",
      "0.514613 (0.002171) with: {'C': 0.01, 'penalty': 'l2', 'solver': 'lbfgs'}\n",
      "0.529839 (0.010102) with: {'C': 0.01, 'penalty': 'l2', 'solver': 'liblinear'}\n"
     ]
    }
   ],
   "source": [
    "X_train, X_test, y_train, y_test = train_test_split(X, y, test_size=0.2)\n",
    "\n",
    "model = LogisticRegression()\n",
    "solvers = ['newton-cg', 'lbfgs', 'liblinear']\n",
    "penalty = ['l2']\n",
    "c_values = [100, 10, 1.0, 0.1, 0.01]\n",
    "\n",
    "# define grid search\n",
    "grid = dict(solver=solvers,penalty=penalty,C=c_values)\n",
    "cv = RepeatedStratifiedKFold(n_splits=10, n_repeats=3, random_state=1)\n",
    "grid_search = GridSearchCV(estimator=model, param_grid=grid, n_jobs=-1, cv=cv, scoring='precision',error_score=0)\n",
    "grid_result = grid_search.fit(X_train, y_train)\n",
    "\n",
    "# summarize results\n",
    "print(\"Best: %f using %s\" % (grid_result.best_score_, grid_result.best_params_))\n",
    "means = grid_result.cv_results_['mean_test_score']\n",
    "stds = grid_result.cv_results_['std_test_score']\n",
    "params = grid_result.cv_results_['params']\n",
    "for mean, stdev, param in zip(means, stds, params):\n",
    "    print(\"%f (%f) with: %r\" % (mean, stdev, param))"
   ]
  },
  {
   "cell_type": "markdown",
   "metadata": {},
   "source": [
    "# SVM"
   ]
  },
  {
   "cell_type": "code",
   "execution_count": 77,
   "metadata": {},
   "outputs": [],
   "source": [
    "# X_train, X_test, y_train, y_test = train_test_split(X, y, test_size=0.2)\n",
    "\n",
    "# param_grid = {'C': [0.1, 1, 10, 100, 1000], \n",
    "#               'gamma': [1, 0.1, 0.01, 0.001, 0.0001],\n",
    "#               'kernel': ['rbf']} \n",
    "  \n",
    "# grid = GridSearchCV(svm.SVC(), param_grid, refit = True, verbose = 3)\n",
    "# grid_result = grid.fit(X_train, y_train)\n",
    "\n",
    "# # summarize results\n",
    "# print(\"Best: %f using %s\" % (grid_result.best_score_, grid_result.best_params_))\n",
    "# means = grid_result.cv_results_['mean_test_score']\n",
    "# stds = grid_result.cv_results_['std_test_score']\n",
    "# params = grid_result.cv_results_['params']\n",
    "# for mean, stdev, param in zip(means, stds, params):\n",
    "#     print(\"%f (%f) with: %r\" % (mean, stdev, param))"
   ]
  },
  {
   "cell_type": "code",
   "execution_count": 18,
   "metadata": {},
   "outputs": [
    {
     "name": "stdout",
     "output_type": "stream",
     "text": [
      "[[45 50]\n",
      " [34 51]]\n",
      "Precision: 0.504950\n",
      "Recall: 0.600000\n",
      "[[50 41]\n",
      " [50 39]]\n",
      "Precision: 0.487500\n",
      "Recall: 0.438202\n",
      "[[49 37]\n",
      " [45 49]]\n",
      "Precision: 0.569767\n",
      "Recall: 0.521277\n",
      "[[43 54]\n",
      " [36 47]]\n",
      "Precision: 0.465347\n",
      "Recall: 0.566265\n",
      "[[41 52]\n",
      " [38 49]]\n",
      "Precision: 0.485149\n",
      "Recall: 0.563218\n",
      "[[54 45]\n",
      " [31 50]]\n",
      "Precision: 0.526316\n",
      "Recall: 0.617284\n",
      "[[50 39]\n",
      " [34 57]]\n",
      "Precision: 0.593750\n",
      "Recall: 0.626374\n",
      "[[48 44]\n",
      " [50 38]]\n",
      "Precision: 0.463415\n",
      "Recall: 0.431818\n",
      "[[49 41]\n",
      " [52 38]]\n",
      "Precision: 0.481013\n",
      "Recall: 0.422222\n",
      "[[45 42]\n",
      " [47 46]]\n",
      "Precision: 0.522727\n",
      "Recall: 0.494624\n",
      "Mean Accuracy: 0.5211111111111111\n",
      "Average precision: 0.5099933340990066\n",
      "Average recall: 0.5281283930926547\n"
     ]
    }
   ],
   "source": [
    "# for robust results, bootstrap the process\n",
    "accuracy_scores= []\n",
    "precision_scores = []\n",
    "recall_scores = []\n",
    "\n",
    "for i in range(0,10):\n",
    "    ## load the test set \n",
    "    X_train, X_test, y_train, y_test = train_test_split(X, y, test_size=0.2)\n",
    "    classifier = svm.SVC(C = 1, gamma= 0.1, kernel = \"rbf\")\n",
    "    classifier.fit(X_train, y_train)\n",
    "    y_pred = classifier.predict(X_test)\n",
    "    print(confusion_matrix(y_test,y_pred))\n",
    "    ## Predict out-of-sample on the test set and compute accuracy\n",
    "    accuracy_scores= accuracy_scores+ [accuracy_score(y_test, y_pred)]\n",
    "    # precision tp / (tp + fp)\n",
    "    precision = precision_score(y_test, y_pred)\n",
    "    precision_scores= precision_scores+ [precision]\n",
    "    print('Precision: %f' % precision)\n",
    "    # recall: tp / (tp + fn)\n",
    "    recall = recall_score(y_test, y_pred)\n",
    "    recall_scores= recall_scores+ [recall]\n",
    "    print('Recall: %f' % recall)\n",
    "\n",
    "print(\"Mean Accuracy: \" + str(np.mean(accuracy_scores)))\n",
    "print(\"Average precision: \" + str(np.mean(precision_scores)))\n",
    "print(\"Average recall: \" + str(np.mean(recall_scores)))"
   ]
  },
  {
   "cell_type": "code",
   "execution_count": 21,
   "metadata": {},
   "outputs": [
    {
     "name": "stdout",
     "output_type": "stream",
     "text": [
      "[[42 42]\n",
      " [48 48]]\n",
      "Precision: 0.533333\n",
      "Recall: 0.500000\n",
      "[[34 44]\n",
      " [47 55]]\n",
      "Precision: 0.555556\n",
      "Recall: 0.539216\n",
      "[[47 36]\n",
      " [40 57]]\n",
      "Precision: 0.612903\n",
      "Recall: 0.587629\n",
      "[[39 47]\n",
      " [41 53]]\n",
      "Precision: 0.530000\n",
      "Recall: 0.563830\n",
      "[[36 54]\n",
      " [40 50]]\n",
      "Precision: 0.480769\n",
      "Recall: 0.555556\n",
      "[[45 37]\n",
      " [41 57]]\n",
      "Precision: 0.606383\n",
      "Recall: 0.581633\n",
      "[[36 46]\n",
      " [45 53]]\n",
      "Precision: 0.535354\n",
      "Recall: 0.540816\n",
      "[[46 34]\n",
      " [50 50]]\n",
      "Precision: 0.595238\n",
      "Recall: 0.500000\n",
      "[[52 33]\n",
      " [47 48]]\n",
      "Precision: 0.592593\n",
      "Recall: 0.505263\n",
      "[[52 34]\n",
      " [53 41]]\n",
      "Precision: 0.546667\n",
      "Recall: 0.436170\n",
      "Mean Accuracy: 0.5227777777777777\n",
      "Average precision: 0.5588795214038866\n",
      "Average recall: 0.531011224529602\n"
     ]
    }
   ],
   "source": [
    "# for robust results, bootstrap the process\n",
    "accuracy_scores= []\n",
    "precision_scores = []\n",
    "recall_scores = []\n",
    "\n",
    "for i in range(0,10):\n",
    "    ## load the test set \n",
    "    X_train, X_test, y_train, y_test = train_test_split(X, y, test_size=0.2)\n",
    "    gnb = GaussianNB()    \n",
    "    gnb.fit(X_train, y_train)\n",
    "    y_pred = gnb.predict(X_test)\n",
    "    print(confusion_matrix(y_test,y_pred))\n",
    "    ## Predict out-of-sample on the test set and compute accuracy\n",
    "    accuracy_scores= accuracy_scores+ [accuracy_score(y_test, y_pred)]\n",
    "    # precision tp / (tp + fp)\n",
    "    precision = precision_score(y_test, y_pred)\n",
    "    precision_scores= precision_scores+ [precision]\n",
    "    print('Precision: %f' % precision)\n",
    "    # recall: tp / (tp + fn)\n",
    "    recall = recall_score(y_test, y_pred)\n",
    "    recall_scores= recall_scores+ [recall]\n",
    "    print('Recall: %f' % recall)\n",
    "\n",
    "print(\"Mean Accuracy: \" + str(np.mean(accuracy_scores)))\n",
    "print(\"Average precision: \" + str(np.mean(precision_scores)))\n",
    "print(\"Average recall: \" + str(np.mean(recall_scores)))\n"
   ]
  },
  {
   "cell_type": "markdown",
   "metadata": {},
   "source": [
    "# separate training set by coder"
   ]
  },
  {
   "cell_type": "code",
   "execution_count": 72,
   "metadata": {},
   "outputs": [
    {
     "name": "stdout",
     "output_type": "stream",
     "text": [
      "Best Accuracy: 0.729583 using {'C': 1.0, 'penalty': 'l2', 'solver': 'newton-cg'}\n",
      "Precision: 0.659427 (Accuracy: 0.677500) with: {'C': 100, 'penalty': 'l2', 'solver': 'newton-cg'}\n",
      "Precision: 0.659427 (Accuracy: 0.677500) with: {'C': 100, 'penalty': 'l2', 'solver': 'lbfgs'}\n",
      "Precision: 0.659144 (Accuracy: 0.677500) with: {'C': 100, 'penalty': 'l2', 'solver': 'liblinear'}\n",
      "Precision: 0.702105 (Accuracy: 0.709583) with: {'C': 10, 'penalty': 'l2', 'solver': 'newton-cg'}\n",
      "Precision: 0.702105 (Accuracy: 0.709583) with: {'C': 10, 'penalty': 'l2', 'solver': 'lbfgs'}\n",
      "Precision: 0.702114 (Accuracy: 0.710417) with: {'C': 10, 'penalty': 'l2', 'solver': 'liblinear'}\n",
      "Precision: 0.748412 (Accuracy: 0.729583) with: {'C': 1.0, 'penalty': 'l2', 'solver': 'newton-cg'}\n",
      "Precision: 0.748412 (Accuracy: 0.729583) with: {'C': 1.0, 'penalty': 'l2', 'solver': 'lbfgs'}\n",
      "Precision: 0.746675 (Accuracy: 0.729167) with: {'C': 1.0, 'penalty': 'l2', 'solver': 'liblinear'}\n",
      "Precision: 0.816216 (Accuracy: 0.695833) with: {'C': 0.1, 'penalty': 'l2', 'solver': 'newton-cg'}\n",
      "Precision: 0.816216 (Accuracy: 0.695833) with: {'C': 0.1, 'penalty': 'l2', 'solver': 'lbfgs'}\n",
      "Precision: 0.798491 (Accuracy: 0.701250) with: {'C': 0.1, 'penalty': 'l2', 'solver': 'liblinear'}\n",
      "Precision: 0.000000 (Accuracy: 0.527083) with: {'C': 0.01, 'penalty': 'l2', 'solver': 'newton-cg'}\n",
      "Precision: 0.000000 (Accuracy: 0.527083) with: {'C': 0.01, 'penalty': 'l2', 'solver': 'lbfgs'}\n",
      "Precision: 0.100000 (Accuracy: 0.529167) with: {'C': 0.01, 'penalty': 'l2', 'solver': 'liblinear'}\n"
     ]
    }
   ],
   "source": [
    "###### CARLY'S PORTION\n",
    "## load labelled data\n",
    "clas_dat1 = pd.read_csv(\"random_sample_CRK_YL-6-7-21.csv\")\n",
    "# keep relavant rows and columns\n",
    "clas_dat1 = clas_dat1[['id', 'text', 'final_code']]\n",
    "clas_dat2 = pd.read_csv(\"random_sample3_CRK.csv\")\n",
    "clas_dat2 = clas_dat2[['id', 'text',\"include\"]]\n",
    "clas_dat2.columns = clas_dat1.columns\n",
    "# clas_dat3 = pd.read_csv(\"random_sample2_YL.csv\")\n",
    "# clas_dat3 = clas_dat3[['id', 'text',\"match_yl\"]]\n",
    "# clas_dat3.columns = clas_dat1.columns\n",
    "# clas_dat4 = pd.read_csv('random_sample4.csv')\n",
    "clas_dat = clas_dat1.append(clas_dat2)\n",
    "\n",
    "### Max text cleaning (remove punctuation, numbers, lowercase, stop words) --------------------------\n",
    "clas_dat[\"clean_text\"] = clas_dat[\"text\"].apply(lambda x: text_cleaner_all(x, punctuation_translator))\n",
    "\n",
    "from sklearn.feature_extraction.text import CountVectorizer\n",
    "vectorizer = CountVectorizer(max_features=500, min_df=5, max_df=0.7)\n",
    "X = vectorizer.fit_transform(clas_dat[\"clean_text\"]).toarray()\n",
    "\n",
    "from sklearn.feature_extraction.text import TfidfTransformer\n",
    "from sklearn.metrics import classification_report, confusion_matrix, accuracy_score\n",
    "tfidfconverter = TfidfTransformer()\n",
    "X = tfidfconverter.fit_transform(X).toarray()\n",
    "\n",
    "y = np.array(clas_dat['final_code'])\n",
    "\n",
    "\n",
    "#training set\n",
    "X_train, X_test, y_train, y_test = train_test_split(X, y, test_size=0.2)\n",
    "\n",
    "model = LogisticRegression()\n",
    "solvers = ['newton-cg', 'lbfgs', 'liblinear']\n",
    "penalty = ['l2']\n",
    "c_values = [100, 10, 1.0, 0.1, 0.01]\n",
    "\n",
    "# define grid search\n",
    "scoring = ['accuracy', 'precision']\n",
    "\n",
    "grid = dict(solver=solvers,penalty=penalty,C=c_values)\n",
    "cv = RepeatedStratifiedKFold(n_splits=10, n_repeats = 5, random_state=1)\n",
    "grid_search = GridSearchCV(estimator=model, param_grid=grid, n_jobs=-1, cv=cv, scoring= ['accuracy', 'precision'],refit = \"accuracy\")\n",
    "grid_result = grid_search.fit(X_train, y_train)\n",
    "\n",
    "# summarize results\n",
    "print(\"Best Accuracy: %f using %s\" % (grid_result.best_score_, grid_result.best_params_))\n",
    "precisions = grid_result.cv_results_['mean_test_precision']\n",
    "accuracys =  grid_result.cv_results_['mean_test_accuracy']\n",
    "std_prec = grid_result.cv_results_['std_test_precision']\n",
    "std_acc = grid_result.cv_results_['std_test_accuracy']\n",
    "params = grid_result.cv_results_['params']\n",
    "\n",
    "for prec, acc, param in zip(precisions, accuracys, params):\n",
    "    print(\"Precision: %f (Accuracy: %f) with: %r\" % (prec, acc, param)) "
   ]
  },
  {
   "cell_type": "code",
   "execution_count": 75,
   "metadata": {},
   "outputs": [
    {
     "name": "stdout",
     "output_type": "stream",
     "text": [
      "Best Accuracy: 0.703117 using {'C': 1.0, 'penalty': 'l2', 'solver': 'liblinear'}\n",
      "Precision: 0.680315 (Accuracy: 0.641519) with: {'C': 100, 'penalty': 'l2', 'solver': 'newton-cg'}\n",
      "Precision: 0.680315 (Accuracy: 0.641519) with: {'C': 100, 'penalty': 'l2', 'solver': 'lbfgs'}\n",
      "Precision: 0.680107 (Accuracy: 0.641519) with: {'C': 100, 'penalty': 'l2', 'solver': 'liblinear'}\n",
      "Precision: 0.707138 (Accuracy: 0.674071) with: {'C': 10, 'penalty': 'l2', 'solver': 'newton-cg'}\n",
      "Precision: 0.707138 (Accuracy: 0.674071) with: {'C': 10, 'penalty': 'l2', 'solver': 'lbfgs'}\n",
      "Precision: 0.707172 (Accuracy: 0.674435) with: {'C': 10, 'penalty': 'l2', 'solver': 'liblinear'}\n",
      "Precision: 0.712705 (Accuracy: 0.703117) with: {'C': 1.0, 'penalty': 'l2', 'solver': 'newton-cg'}\n",
      "Precision: 0.712705 (Accuracy: 0.703117) with: {'C': 1.0, 'penalty': 'l2', 'solver': 'lbfgs'}\n",
      "Precision: 0.712490 (Accuracy: 0.703117) with: {'C': 1.0, 'penalty': 'l2', 'solver': 'liblinear'}\n",
      "Precision: 0.579393 (Accuracy: 0.583890) with: {'C': 0.1, 'penalty': 'l2', 'solver': 'newton-cg'}\n",
      "Precision: 0.579393 (Accuracy: 0.583890) with: {'C': 0.1, 'penalty': 'l2', 'solver': 'lbfgs'}\n",
      "Precision: 0.580883 (Accuracy: 0.585688) with: {'C': 0.1, 'penalty': 'l2', 'solver': 'liblinear'}\n",
      "Precision: 0.570649 (Accuracy: 0.570649) with: {'C': 0.01, 'penalty': 'l2', 'solver': 'newton-cg'}\n",
      "Precision: 0.570649 (Accuracy: 0.570649) with: {'C': 0.01, 'penalty': 'l2', 'solver': 'lbfgs'}\n",
      "Precision: 0.570649 (Accuracy: 0.570649) with: {'C': 0.01, 'penalty': 'l2', 'solver': 'liblinear'}\n"
     ]
    }
   ],
   "source": [
    "###### YUCHEN'S PORTION\n",
    "## load labelled data\n",
    "clas_dat1 = pd.read_csv(\"random_sample_CRK_YL-6-7-21.csv\")\n",
    "# keep relavant rows and columns\n",
    "clas_dat1 = clas_dat1[['id', 'text', 'final_code']]\n",
    "# clas_dat2 = pd.read_csv(\"random_sample3_CRK.csv\")\n",
    "# clas_dat2 = clas_dat2[['id', 'text',\"include\"]]\n",
    "# clas_dat2.columns = clas_dat1.columns\n",
    "clas_dat3 = pd.read_csv(\"random_sample2_YL.csv\")\n",
    "clas_dat3 = clas_dat3[['id', 'text',\"match_yl\"]]\n",
    "clas_dat3.columns = clas_dat1.columns\n",
    "clas_dat4 = pd.read_csv('random_sample4.csv')\n",
    "clas_dat = clas_dat1.append([clas_dat3, clas_dat4[0:99]])\n",
    "\n",
    "### Max text cleaning (remove punctuation, numbers, lowercase, stop words) --------------------------\n",
    "clas_dat[\"clean_text\"] = clas_dat[\"text\"].apply(lambda x: text_cleaner_all(x, punctuation_translator))\n",
    "\n",
    "from sklearn.feature_extraction.text import CountVectorizer\n",
    "vectorizer = CountVectorizer(max_features=500, min_df=5, max_df=0.7)\n",
    "X = vectorizer.fit_transform(clas_dat[\"clean_text\"]).toarray()\n",
    "\n",
    "from sklearn.feature_extraction.text import TfidfTransformer\n",
    "from sklearn.metrics import classification_report, confusion_matrix, accuracy_score\n",
    "tfidfconverter = TfidfTransformer()\n",
    "X = tfidfconverter.fit_transform(X).toarray()\n",
    "\n",
    "y = np.array(clas_dat['final_code'])\n",
    "\n",
    "\n",
    "#training set\n",
    "X_train, X_test, y_train, y_test = train_test_split(X, y, test_size=0.2)\n",
    "\n",
    "model = LogisticRegression()\n",
    "solvers = ['newton-cg', 'lbfgs', 'liblinear']\n",
    "penalty = ['l2']\n",
    "c_values = [100, 10, 1.0, 0.1, 0.01]\n",
    "\n",
    "# define grid search\n",
    "scoring = ['accuracy', 'precision']\n",
    "\n",
    "grid = dict(solver=solvers,penalty=penalty,C=c_values)\n",
    "cv = RepeatedStratifiedKFold(n_splits=10, n_repeats = 5, random_state=1)\n",
    "grid_search = GridSearchCV(estimator=model, param_grid=grid, n_jobs=-1, cv=cv, scoring= ['accuracy', 'precision'],refit = \"accuracy\")\n",
    "grid_result = grid_search.fit(X_train, y_train)\n",
    "\n",
    "# summarize results\n",
    "print(\"Best Accuracy: %f using %s\" % (grid_result.best_score_, grid_result.best_params_))\n",
    "precisions = grid_result.cv_results_['mean_test_precision']\n",
    "accuracys =  grid_result.cv_results_['mean_test_accuracy']\n",
    "std_prec = grid_result.cv_results_['std_test_precision']\n",
    "std_acc = grid_result.cv_results_['std_test_accuracy']\n",
    "params = grid_result.cv_results_['params']\n",
    "\n",
    "for prec, acc, param in zip(precisions, accuracys, params):\n",
    "    print(\"Precision: %f (Accuracy: %f) with: %r\" % (prec, acc, param)) "
   ]
  },
  {
   "cell_type": "markdown",
   "metadata": {},
   "source": [
    "# add in new training data"
   ]
  },
  {
   "cell_type": "code",
   "execution_count": 74,
   "metadata": {},
   "outputs": [
    {
     "name": "stdout",
     "output_type": "stream",
     "text": [
      "Best Accuracy: 0.680968 using {'C': 1.0, 'penalty': 'l2', 'solver': 'liblinear'}\n",
      "Precision: 0.681717 (Accuracy: 0.628851) with: {'C': 100, 'penalty': 'l2', 'solver': 'newton-cg'}\n",
      "Precision: 0.681717 (Accuracy: 0.628851) with: {'C': 100, 'penalty': 'l2', 'solver': 'lbfgs'}\n",
      "Precision: 0.681322 (Accuracy: 0.628226) with: {'C': 100, 'penalty': 'l2', 'solver': 'liblinear'}\n",
      "Precision: 0.686114 (Accuracy: 0.642036) with: {'C': 10, 'penalty': 'l2', 'solver': 'newton-cg'}\n",
      "Precision: 0.686114 (Accuracy: 0.642036) with: {'C': 10, 'penalty': 'l2', 'solver': 'lbfgs'}\n",
      "Precision: 0.685685 (Accuracy: 0.642036) with: {'C': 10, 'penalty': 'l2', 'solver': 'liblinear'}\n",
      "Precision: 0.684558 (Accuracy: 0.680343) with: {'C': 1.0, 'penalty': 'l2', 'solver': 'newton-cg'}\n",
      "Precision: 0.684558 (Accuracy: 0.680343) with: {'C': 1.0, 'penalty': 'l2', 'solver': 'lbfgs'}\n",
      "Precision: 0.684754 (Accuracy: 0.680968) with: {'C': 1.0, 'penalty': 'l2', 'solver': 'liblinear'}\n",
      "Precision: 0.586190 (Accuracy: 0.586190) with: {'C': 0.1, 'penalty': 'l2', 'solver': 'newton-cg'}\n",
      "Precision: 0.586190 (Accuracy: 0.586190) with: {'C': 0.1, 'penalty': 'l2', 'solver': 'lbfgs'}\n",
      "Precision: 0.586190 (Accuracy: 0.586190) with: {'C': 0.1, 'penalty': 'l2', 'solver': 'liblinear'}\n",
      "Precision: 0.586190 (Accuracy: 0.586190) with: {'C': 0.01, 'penalty': 'l2', 'solver': 'newton-cg'}\n",
      "Precision: 0.586190 (Accuracy: 0.586190) with: {'C': 0.01, 'penalty': 'l2', 'solver': 'lbfgs'}\n",
      "Precision: 0.586190 (Accuracy: 0.586190) with: {'C': 0.01, 'penalty': 'l2', 'solver': 'liblinear'}\n"
     ]
    }
   ],
   "source": [
    "## load labelled data\n",
    "clas_dat1 = pd.read_csv(\"random_sample_CRK_YL-6-7-21.csv\")\n",
    "# keep relavant rows and columns\n",
    "clas_dat1 = clas_dat1[['id', 'text', 'final_code']]\n",
    "# clas_dat2 = pd.read_csv(\"random_sample3_CRK.csv\")\n",
    "# clas_dat2 = clas_dat2[['id', 'text',\"include\"]]\n",
    "# clas_dat2.columns = clas_dat1.columns\n",
    "clas_dat3 = pd.read_csv(\"random_sample2_YL.csv\")\n",
    "clas_dat3 = clas_dat3[['id', 'text',\"match_yl\"]]\n",
    "clas_dat3.columns = clas_dat1.columns\n",
    "clas_dat4 = pd.read_csv('random_sample4.csv')\n",
    "clas_dat = clas_dat1.append([clas_dat3, clas_dat4[0:99]])\n",
    "\n",
    "### Max text cleaning (remove punctuation, numbers, lowercase, stop words) --------------------------\n",
    "clas_dat[\"clean_text\"] = clas_dat[\"text\"].apply(lambda x: text_cleaner_all(x, punctuation_translator))\n",
    "\n",
    "from sklearn.feature_extraction.text import CountVectorizer\n",
    "vectorizer = CountVectorizer(max_features=500, min_df=5, max_df=0.7)\n",
    "X = vectorizer.fit_transform(clas_dat[\"clean_text\"]).toarray()\n",
    "\n",
    "from sklearn.feature_extraction.text import TfidfTransformer\n",
    "from sklearn.metrics import classification_report, confusion_matrix, accuracy_score\n",
    "tfidfconverter = TfidfTransformer()\n",
    "X = tfidfconverter.fit_transform(X).toarray()\n",
    "\n",
    "y = np.array(clas_dat['final_code'])\n",
    "\n",
    "\n",
    "#training set\n",
    "X_train, X_test, y_train, y_test = train_test_split(X, y, test_size=0.2)\n",
    "\n",
    "model = LogisticRegression()\n",
    "solvers = ['newton-cg', 'lbfgs', 'liblinear']\n",
    "penalty = ['l2']\n",
    "c_values = [100, 10, 1.0, 0.1, 0.01]\n",
    "\n",
    "# define grid search\n",
    "scoring = ['accuracy', 'precision']\n",
    "\n",
    "grid = dict(solver=solvers,penalty=penalty,C=c_values)\n",
    "cv = RepeatedStratifiedKFold(n_splits=10, n_repeats = 5, random_state=1)\n",
    "grid_search = GridSearchCV(estimator=model, param_grid=grid, n_jobs=-1, cv=cv, scoring= ['accuracy', 'precision'],refit = \"accuracy\")\n",
    "grid_result = grid_search.fit(X_train, y_train)\n",
    "\n",
    "# summarize results\n",
    "print(\"Best Accuracy: %f using %s\" % (grid_result.best_score_, grid_result.best_params_))\n",
    "precisions = grid_result.cv_results_['mean_test_precision']\n",
    "accuracys =  grid_result.cv_results_['mean_test_accuracy']\n",
    "std_prec = grid_result.cv_results_['std_test_precision']\n",
    "std_acc = grid_result.cv_results_['std_test_accuracy']\n",
    "params = grid_result.cv_results_['params']\n",
    "\n",
    "for prec, acc, param in zip(precisions, accuracys, params):\n",
    "    print(\"Precision: %f (Accuracy: %f) with: %r\" % (prec, acc, param)) "
   ]
  },
  {
   "cell_type": "markdown",
   "metadata": {},
   "source": [
    "# Remove Outliers"
   ]
  },
  {
   "cell_type": "code",
   "execution_count": 46,
   "metadata": {},
   "outputs": [
    {
     "name": "stdout",
     "output_type": "stream",
     "text": [
      "(720, 500) (720,)\n",
      "(716, 500) (716,)\n",
      "Best Accuracy: 0.688877 using {'C': 0.1, 'penalty': 'l2', 'solver': 'newton-cg'}\n",
      "Precision: 0.656850 (Accuracy: 0.646142) with: {'C': 100, 'penalty': 'l2', 'solver': 'newton-cg'}\n",
      "Precision: 0.657013 (Accuracy: 0.646424) with: {'C': 100, 'penalty': 'l2', 'solver': 'lbfgs'}\n",
      "Precision: 0.657414 (Accuracy: 0.646980) with: {'C': 100, 'penalty': 'l2', 'solver': 'liblinear'}\n",
      "Precision: 0.685411 (Accuracy: 0.670192) with: {'C': 10, 'penalty': 'l2', 'solver': 'newton-cg'}\n",
      "Precision: 0.685809 (Accuracy: 0.670469) with: {'C': 10, 'penalty': 'l2', 'solver': 'lbfgs'}\n",
      "Precision: 0.686289 (Accuracy: 0.670743) with: {'C': 10, 'penalty': 'l2', 'solver': 'liblinear'}\n",
      "Precision: 0.706328 (Accuracy: 0.686385) with: {'C': 1.0, 'penalty': 'l2', 'solver': 'newton-cg'}\n",
      "Precision: 0.706328 (Accuracy: 0.686385) with: {'C': 1.0, 'penalty': 'l2', 'solver': 'lbfgs'}\n",
      "Precision: 0.704371 (Accuracy: 0.684984) with: {'C': 1.0, 'penalty': 'l2', 'solver': 'liblinear'}\n",
      "Precision: 0.679901 (Accuracy: 0.688877) with: {'C': 0.1, 'penalty': 'l2', 'solver': 'newton-cg'}\n",
      "Precision: 0.679901 (Accuracy: 0.688877) with: {'C': 0.1, 'penalty': 'l2', 'solver': 'lbfgs'}\n",
      "Precision: 0.676373 (Accuracy: 0.686917) with: {'C': 0.1, 'penalty': 'l2', 'solver': 'liblinear'}\n",
      "Precision: 0.515376 (Accuracy: 0.515376) with: {'C': 0.01, 'penalty': 'l2', 'solver': 'newton-cg'}\n",
      "Precision: 0.515376 (Accuracy: 0.515376) with: {'C': 0.01, 'penalty': 'l2', 'solver': 'lbfgs'}\n",
      "Precision: 0.517142 (Accuracy: 0.518732) with: {'C': 0.01, 'penalty': 'l2', 'solver': 'liblinear'}\n"
     ]
    },
    {
     "name": "stderr",
     "output_type": "stream",
     "text": [
      "/opt/anaconda3/lib/python3.7/site-packages/sklearn/covariance/_robust_covariance.py:647: UserWarning: The covariance matrix associated to your dataset is not full rank\n",
      "  warnings.warn(\"The covariance matrix associated to your dataset \"\n",
      "/opt/anaconda3/lib/python3.7/site-packages/sklearn/covariance/_robust_covariance.py:171: RuntimeWarning: Determinant has increased; this should not happen: log(det) > log(previous_det) (-10299.888678109849934 > -10303.358346807313865). You may want to try with a higher value of support_fraction (current value: 0.852).\n",
      "  RuntimeWarning)\n",
      "/opt/anaconda3/lib/python3.7/site-packages/sklearn/covariance/_robust_covariance.py:171: RuntimeWarning: Determinant has increased; this should not happen: log(det) > log(previous_det) (-10293.254919369232084 > -10293.868925075987136). You may want to try with a higher value of support_fraction (current value: 0.852).\n",
      "  RuntimeWarning)\n",
      "/opt/anaconda3/lib/python3.7/site-packages/sklearn/covariance/_robust_covariance.py:171: RuntimeWarning: Determinant has increased; this should not happen: log(det) > log(previous_det) (-10263.449101634279941 > -10293.461392975052149). You may want to try with a higher value of support_fraction (current value: 0.852).\n",
      "  RuntimeWarning)\n",
      "/opt/anaconda3/lib/python3.7/site-packages/sklearn/covariance/_robust_covariance.py:171: RuntimeWarning: Determinant has increased; this should not happen: log(det) > log(previous_det) (-10325.611687765896932 > -10327.205467276582567). You may want to try with a higher value of support_fraction (current value: 0.852).\n",
      "  RuntimeWarning)\n",
      "/opt/anaconda3/lib/python3.7/site-packages/sklearn/covariance/_robust_covariance.py:171: RuntimeWarning: Determinant has increased; this should not happen: log(det) > log(previous_det) (-10297.879724535308924 > -10303.275453385576839). You may want to try with a higher value of support_fraction (current value: 0.852).\n",
      "  RuntimeWarning)\n"
     ]
    },
    {
     "name": "stdout",
     "output_type": "stream",
     "text": [
      "(708, 500) (708,)\n",
      "Best Accuracy: 0.685348 using {'C': 1.0, 'penalty': 'l2', 'solver': 'newton-cg'}\n",
      "Precision: 0.648900 (Accuracy: 0.637320) with: {'C': 100, 'penalty': 'l2', 'solver': 'newton-cg'}\n",
      "Precision: 0.649191 (Accuracy: 0.637320) with: {'C': 100, 'penalty': 'l2', 'solver': 'lbfgs'}\n",
      "Precision: 0.648931 (Accuracy: 0.637324) with: {'C': 100, 'penalty': 'l2', 'solver': 'liblinear'}\n",
      "Precision: 0.682980 (Accuracy: 0.668157) with: {'C': 10, 'penalty': 'l2', 'solver': 'newton-cg'}\n",
      "Precision: 0.683175 (Accuracy: 0.668439) with: {'C': 10, 'penalty': 'l2', 'solver': 'lbfgs'}\n",
      "Precision: 0.683361 (Accuracy: 0.668720) with: {'C': 10, 'penalty': 'l2', 'solver': 'liblinear'}\n",
      "Precision: 0.704723 (Accuracy: 0.685348) with: {'C': 1.0, 'penalty': 'l2', 'solver': 'newton-cg'}\n",
      "Precision: 0.704723 (Accuracy: 0.685348) with: {'C': 1.0, 'penalty': 'l2', 'solver': 'lbfgs'}\n",
      "Precision: 0.703465 (Accuracy: 0.684503) with: {'C': 1.0, 'penalty': 'l2', 'solver': 'liblinear'}\n",
      "Precision: 0.674927 (Accuracy: 0.685344) with: {'C': 0.1, 'penalty': 'l2', 'solver': 'newton-cg'}\n",
      "Precision: 0.674927 (Accuracy: 0.685344) with: {'C': 0.1, 'penalty': 'l2', 'solver': 'lbfgs'}\n",
      "Precision: 0.671290 (Accuracy: 0.683380) with: {'C': 0.1, 'penalty': 'l2', 'solver': 'liblinear'}\n",
      "Precision: 0.515533 (Accuracy: 0.515533) with: {'C': 0.01, 'penalty': 'l2', 'solver': 'newton-cg'}\n",
      "Precision: 0.515533 (Accuracy: 0.515533) with: {'C': 0.01, 'penalty': 'l2', 'solver': 'lbfgs'}\n",
      "Precision: 0.517768 (Accuracy: 0.519771) with: {'C': 0.01, 'penalty': 'l2', 'solver': 'liblinear'}\n"
     ]
    }
   ],
   "source": [
    "###### Isolation Forest ---------------------------\n",
    "\n",
    "from sklearn.ensemble import IsolationForest\n",
    "\n",
    "# split into train and test sets\n",
    "X_train, X_test, y_train, y_test = train_test_split(X, y, test_size=0.2, random_state=1)\n",
    "# summarize the shape of the training dataset\n",
    "print(X_train.shape, y_train.shape)\n",
    "\n",
    "# identify outliers in the training dataset\n",
    "iso = IsolationForest(contamination=0.005)\n",
    "yhat = iso.fit_predict(X_train)\n",
    "# select all rows that are not outliers\n",
    "mask = yhat != -1\n",
    "X_train, y_train = X_train[mask, :], y_train[mask]\n",
    "# summarize the shape of the updated training dataset\n",
    "print(X_train.shape, y_train.shape)\n",
    "\n",
    "model = LogisticRegression()\n",
    "solvers = ['newton-cg', 'lbfgs', 'liblinear']\n",
    "penalty = ['l2']\n",
    "c_values = [100, 10, 1.0, 0.1, 0.01]\n",
    "\n",
    "# define grid search\n",
    "scoring = ['accuracy', 'precision']\n",
    "\n",
    "grid = dict(solver=solvers,penalty=penalty,C=c_values)\n",
    "cv = RepeatedStratifiedKFold(n_splits=10, n_repeats = 5, random_state=1)\n",
    "grid_search = GridSearchCV(estimator=model, param_grid=grid, n_jobs=-1, cv=cv, scoring= ['accuracy', 'precision'],refit = \"accuracy\")\n",
    "grid_result = grid_search.fit(X_train, y_train)\n",
    "\n",
    "# summarize results\n",
    "print(\"Best Accuracy: %f using %s\" % (grid_result.best_score_, grid_result.best_params_))\n",
    "precisions = grid_result.cv_results_['mean_test_precision']\n",
    "accuracys =  grid_result.cv_results_['mean_test_accuracy']\n",
    "std_prec = grid_result.cv_results_['std_test_precision']\n",
    "std_acc = grid_result.cv_results_['std_test_accuracy']\n",
    "params = grid_result.cv_results_['params']\n",
    "\n",
    "for prec, acc, param in zip(precisions, accuracys, params):\n",
    "    print(\"Precision: %f (Accuracy: %f) with: %r\" % (prec, acc, param)) \n",
    "    \n",
    "    \n",
    "    \n",
    "    \n",
    "    \n",
    "## -------------------- minimum covariance determinant \n",
    "# identify outliers in the training dataset\n",
    "from sklearn.covariance import EllipticEnvelope\n",
    "\n",
    "ee = EllipticEnvelope(contamination=0.01)\n",
    "yhat = ee.fit_predict(X_train)\n",
    "# select all rows that are not outliers\n",
    "mask = yhat != -1\n",
    "X_train, y_train = X_train[mask, :], y_train[mask]\n",
    "# summarize the shape of the updated training dataset\n",
    "print(X_train.shape, y_train.shape)\n",
    "\n",
    "# define grid search\n",
    "scoring = ['accuracy', 'precision']\n",
    "\n",
    "grid = dict(solver=solvers,penalty=penalty,C=c_values)\n",
    "cv = RepeatedStratifiedKFold(n_splits=10, n_repeats = 5, random_state=1)\n",
    "grid_search = GridSearchCV(estimator=model, param_grid=grid, n_jobs=-1, cv=cv, scoring= ['accuracy', 'precision'],refit = \"accuracy\")\n",
    "grid_result = grid_search.fit(X_train, y_train)\n",
    "\n",
    "# summarize results\n",
    "print(\"Best Accuracy: %f using %s\" % (grid_result.best_score_, grid_result.best_params_))\n",
    "precisions = grid_result.cv_results_['mean_test_precision']\n",
    "accuracys =  grid_result.cv_results_['mean_test_accuracy']\n",
    "std_prec = grid_result.cv_results_['std_test_precision']\n",
    "std_acc = grid_result.cv_results_['std_test_accuracy']\n",
    "params = grid_result.cv_results_['params']\n",
    "\n",
    "for prec, acc, param in zip(precisions, accuracys, params):\n",
    "    print(\"Precision: %f (Accuracy: %f) with: %r\" % (prec, acc, param)) \n",
    "    \n",
    "    \n"
   ]
  },
  {
   "cell_type": "code",
   "execution_count": 51,
   "metadata": {},
   "outputs": [
    {
     "name": "stdout",
     "output_type": "stream",
     "text": [
      "(596, 500) (596,)\n",
      "Best Accuracy: 0.705695 using {'C': 1.0, 'penalty': 'l2', 'solver': 'liblinear'}\n",
      "Precision: 0.702944 (Accuracy: 0.681418) with: {'C': 100, 'penalty': 'l2', 'solver': 'newton-cg'}\n",
      "Precision: 0.702944 (Accuracy: 0.681418) with: {'C': 100, 'penalty': 'l2', 'solver': 'lbfgs'}\n",
      "Precision: 0.702341 (Accuracy: 0.680757) with: {'C': 100, 'penalty': 'l2', 'solver': 'liblinear'}\n",
      "Precision: 0.721465 (Accuracy: 0.697593) with: {'C': 10, 'penalty': 'l2', 'solver': 'newton-cg'}\n",
      "Precision: 0.721465 (Accuracy: 0.697593) with: {'C': 10, 'penalty': 'l2', 'solver': 'lbfgs'}\n",
      "Precision: 0.720520 (Accuracy: 0.696927) with: {'C': 10, 'penalty': 'l2', 'solver': 'liblinear'}\n",
      "Precision: 0.726092 (Accuracy: 0.704350) with: {'C': 1.0, 'penalty': 'l2', 'solver': 'newton-cg'}\n",
      "Precision: 0.726092 (Accuracy: 0.704350) with: {'C': 1.0, 'penalty': 'l2', 'solver': 'lbfgs'}\n",
      "Precision: 0.726173 (Accuracy: 0.705695) with: {'C': 1.0, 'penalty': 'l2', 'solver': 'liblinear'}\n",
      "Precision: 0.617405 (Accuracy: 0.648395) with: {'C': 0.1, 'penalty': 'l2', 'solver': 'newton-cg'}\n",
      "Precision: 0.617405 (Accuracy: 0.648395) with: {'C': 0.1, 'penalty': 'l2', 'solver': 'lbfgs'}\n",
      "Precision: 0.620111 (Accuracy: 0.650424) with: {'C': 0.1, 'penalty': 'l2', 'solver': 'liblinear'}\n",
      "Precision: 0.533559 (Accuracy: 0.533559) with: {'C': 0.01, 'penalty': 'l2', 'solver': 'newton-cg'}\n",
      "Precision: 0.533559 (Accuracy: 0.533559) with: {'C': 0.01, 'penalty': 'l2', 'solver': 'lbfgs'}\n",
      "Precision: 0.533559 (Accuracy: 0.533559) with: {'C': 0.01, 'penalty': 'l2', 'solver': 'liblinear'}\n"
     ]
    }
   ],
   "source": [
    "## -------------------- LOCAL OUTLIER FACTOR\n",
    "# identify outliers in the training dataset\n",
    "from sklearn.neighbors import LocalOutlierFactor\n",
    "\n",
    "lof = LocalOutlierFactor()\n",
    "yhat = lof.fit_predict(X_train)\n",
    "# select all rows that are not outliers\n",
    "mask = yhat != -1\n",
    "X_train, y_train = X_train[mask, :], y_train[mask]\n",
    "# summarize the shape of the updated training dataset\n",
    "print(X_train.shape, y_train.shape)\n",
    "\n",
    "# define grid search\n",
    "scoring = ['accuracy', 'precision']\n",
    "\n",
    "grid = dict(solver=solvers,penalty=penalty,C=c_values)\n",
    "cv = RepeatedStratifiedKFold(n_splits=10, n_repeats = 5, random_state=1)\n",
    "grid_search = GridSearchCV(estimator=model, param_grid=grid, n_jobs=-1, cv=cv, scoring= ['accuracy', 'precision'],refit = \"accuracy\")\n",
    "grid_result = grid_search.fit(X_train, y_train)\n",
    "\n",
    "# summarize results\n",
    "print(\"Best Accuracy: %f using %s\" % (grid_result.best_score_, grid_result.best_params_))\n",
    "precisions = grid_result.cv_results_['mean_test_precision']\n",
    "accuracys =  grid_result.cv_results_['mean_test_accuracy']\n",
    "std_prec = grid_result.cv_results_['std_test_precision']\n",
    "std_acc = grid_result.cv_results_['std_test_accuracy']\n",
    "params = grid_result.cv_results_['params']\n",
    "\n",
    "for prec, acc, param in zip(precisions, accuracys, params):\n",
    "    print(\"Precision: %f (Accuracy: %f) with: %r\" % (prec, acc, param)) \n",
    "    "
   ]
  },
  {
   "cell_type": "code",
   "execution_count": 59,
   "metadata": {},
   "outputs": [
    {
     "name": "stdout",
     "output_type": "stream",
     "text": [
      "(598, 500) (598,)\n",
      "Best Accuracy: 0.703068 using {'C': 1.0, 'penalty': 'l2', 'solver': 'liblinear'}\n",
      "Precision: 0.668877 (Accuracy: 0.652164) with: {'C': 100, 'penalty': 'l2', 'solver': 'newton-cg'}\n",
      "Precision: 0.668877 (Accuracy: 0.652164) with: {'C': 100, 'penalty': 'l2', 'solver': 'lbfgs'}\n",
      "Precision: 0.668877 (Accuracy: 0.652164) with: {'C': 100, 'penalty': 'l2', 'solver': 'liblinear'}\n",
      "Precision: 0.710149 (Accuracy: 0.688305) with: {'C': 10, 'penalty': 'l2', 'solver': 'newton-cg'}\n",
      "Precision: 0.710149 (Accuracy: 0.688305) with: {'C': 10, 'penalty': 'l2', 'solver': 'lbfgs'}\n",
      "Precision: 0.710149 (Accuracy: 0.688305) with: {'C': 10, 'penalty': 'l2', 'solver': 'liblinear'}\n",
      "Precision: 0.719766 (Accuracy: 0.702068) with: {'C': 1.0, 'penalty': 'l2', 'solver': 'newton-cg'}\n",
      "Precision: 0.719766 (Accuracy: 0.702068) with: {'C': 1.0, 'penalty': 'l2', 'solver': 'lbfgs'}\n",
      "Precision: 0.720326 (Accuracy: 0.703068) with: {'C': 1.0, 'penalty': 'l2', 'solver': 'liblinear'}\n",
      "Precision: 0.632597 (Accuracy: 0.666548) with: {'C': 0.1, 'penalty': 'l2', 'solver': 'newton-cg'}\n",
      "Precision: 0.632597 (Accuracy: 0.666548) with: {'C': 0.1, 'penalty': 'l2', 'solver': 'lbfgs'}\n",
      "Precision: 0.633583 (Accuracy: 0.667220) with: {'C': 0.1, 'penalty': 'l2', 'solver': 'liblinear'}\n",
      "Precision: 0.528418 (Accuracy: 0.528418) with: {'C': 0.01, 'penalty': 'l2', 'solver': 'newton-cg'}\n",
      "Precision: 0.528418 (Accuracy: 0.528418) with: {'C': 0.01, 'penalty': 'l2', 'solver': 'lbfgs'}\n",
      "Precision: 0.528418 (Accuracy: 0.528418) with: {'C': 0.01, 'penalty': 'l2', 'solver': 'liblinear'}\n"
     ]
    }
   ],
   "source": [
    "## -------------------- ONE CLASS SVM\n",
    "# identify outliers in the training dataset\n",
    "from sklearn.svm import OneClassSVM\n",
    "\n",
    "X_train, X_test, y_train, y_test = train_test_split(X, y, test_size=0.2, random_state=1)\n",
    "\n",
    "# identify outliers in the training dataset\n",
    "ee = OneClassSVM(nu=0.1)\n",
    "yhat = ee.fit_predict(X_train)\n",
    "# select all rows that are not outliers\n",
    "mask = yhat != -1\n",
    "X_train, y_train = X_train[mask, :], y_train[mask]\n",
    "# summarize the shape of the updated training dataset\n",
    "print(X_train.shape, y_train.shape)\n",
    "\n",
    "# define grid search\n",
    "scoring = ['accuracy', 'precision']\n",
    "\n",
    "grid = dict(solver=solvers,penalty=penalty,C=c_values)\n",
    "cv = RepeatedStratifiedKFold(n_splits=10, n_repeats = 5, random_state=1)\n",
    "grid_search = GridSearchCV(estimator=model, param_grid=grid, n_jobs=-1, cv=cv, scoring= ['accuracy', 'precision'],refit = \"accuracy\")\n",
    "grid_result = grid_search.fit(X_train, y_train)\n",
    "\n",
    "# summarize results\n",
    "print(\"Best Accuracy: %f using %s\" % (grid_result.best_score_, grid_result.best_params_))\n",
    "precisions = grid_result.cv_results_['mean_test_precision']\n",
    "accuracys =  grid_result.cv_results_['mean_test_accuracy']\n",
    "std_prec = grid_result.cv_results_['std_test_precision']\n",
    "std_acc = grid_result.cv_results_['std_test_accuracy']\n",
    "params = grid_result.cv_results_['params']\n",
    "\n",
    "for prec, acc, param in zip(precisions, accuracys, params):\n",
    "    print(\"Precision: %f (Accuracy: %f) with: %r\" % (prec, acc, param)) \n",
    "    "
   ]
  },
  {
   "cell_type": "markdown",
   "metadata": {},
   "source": [
    "# Active Learning"
   ]
  },
  {
   "cell_type": "code",
   "execution_count": 32,
   "metadata": {},
   "outputs": [
    {
     "name": "stdout",
     "output_type": "stream",
     "text": [
      "[115166 115198  41270  41234 114807  41141   1099 114682 115213  15511]\n"
     ]
    }
   ],
   "source": [
    "from modAL.models import ActiveLearner\n",
    "from modAL.uncertainty import uncertainty_sampling\n",
    "from modAL.uncertainty import entropy_sampling\n",
    "from modAL.density import information_density\n",
    "\n",
    "# split into training and testing (can't bootstrap here)\n",
    "from sklearn.model_selection import train_test_split\n",
    "X_train, X_test, y_train, y_test = train_test_split(X, y, test_size=0.2)\n",
    "\n",
    "learner = ActiveLearner(\n",
    "    estimator= RandomForestClassifier(n_estimators=1000, random_state=0),\n",
    "    query_strategy=uncertainty_sampling,\n",
    "    X_training=X_train, y_training=y_train\n",
    ")\n",
    "\n",
    "# generate the unlabelled pool\n",
    "unlabelled = dat[((~dat['id'].isin(clas_dat.id)).tolist())]\n",
    "X_pool = vectorizer.fit_transform(unlabelled[\"phrased_text\"]).toarray()\n",
    "\n",
    "tfidfconverter = TfidfTransformer()\n",
    "X_pool = tfidfconverter.fit_transform(X_pool).toarray()\n"
   ]
  },
  {
   "cell_type": "code",
   "execution_count": 76,
   "metadata": {},
   "outputs": [],
   "source": [
    "# # start the interactive active learning labeling session\n",
    "# accuracy_scores_al = [learner.score(X_test, y_test)]\n",
    "# X_pool_text = unlabelled['clean_text']\n",
    "\n",
    "# for i in range(10):\n",
    "#     query_idx, query_inst = learner.query(X_pool)\n",
    "#     print(X_pool_text[query_idx])\n",
    "#     y_new = np.array([int(input())], dtype=int)\n",
    "#     learner.teach(query_inst, y_new)\n",
    "#     X_pool = np.delete(X_pool, query_idx, axis=0)\n",
    "#     accuracy_scores_al.append(learner.score(X_test, y_test))"
   ]
  },
  {
   "cell_type": "code",
   "execution_count": 35,
   "metadata": {},
   "outputs": [
    {
     "data": {
      "image/png": "[encoded data removed]",
      "text/plain": [
       "<Figure size 720x360 with 1 Axes>"
      ]
     },
     "metadata": {},
     "output_type": "display_data"
    }
   ],
   "source": [
    "# visualize the results \n",
    "with plt.style.context('seaborn-white'):\n",
    "    plt.figure(figsize=(10, 5))\n",
    "    plt.title('Accuracy of the classifier during the active learning')\n",
    "    plt.plot(range(10+1), accuracy_scores_al)\n",
    "    plt.scatter(range(10+1), accuracy_scores_al)\n",
    "    plt.xlabel('number of queries')\n",
    "    plt.ylabel('accuracy')\n",
    "    plt.show()"
   ]
  },
  {
   "cell_type": "markdown",
   "metadata": {},
   "source": [
    "# generate new sample"
   ]
  },
  {
   "cell_type": "code",
   "execution_count": 60,
   "metadata": {},
   "outputs": [],
   "source": [
    "# labelled data\n",
    "clas_dat1 = pd.read_csv(\"random_sample_CRK_YL-6-7-21.csv\")\n",
    "clas_dat2 = pd.read_csv(\"random_sample2.csv\")\n",
    "clas_dat3 = pd.read_csv(\"random_sample3.csv\")\n",
    "\n",
    "labelled_id = clas_dat1['id'].append(clas_dat2['id'])\n",
    "labelled_id = labelled_id.append(clas_dat3['id'])"
   ]
  },
  {
   "cell_type": "code",
   "execution_count": 61,
   "metadata": {},
   "outputs": [],
   "source": [
    "pool = dat[~dat['id'].isin(labelled_id)]\n",
    "#sample3 = pool.sample(n = 300)\n",
    "sample4 = pool.sample(n = 300)"
   ]
  },
  {
   "cell_type": "code",
   "execution_count": 63,
   "metadata": {},
   "outputs": [],
   "source": [
    "sample4.to_csv(\"random_sample4.csv\")"
   ]
  },
  {
   "cell_type": "code",
   "execution_count": 77,
   "metadata": {},
   "outputs": [
    {
     "data": {
      "text/plain": [
       "214544"
      ]
     },
     "execution_count": 77,
     "metadata": {},
     "output_type": "execute_result"
    }
   ],
   "source": [
    "len(dat)"
   ]
  },
  {
   "cell_type": "code",
   "execution_count": 62,
   "metadata": {},
   "outputs": [
    {
     "data": {
      "text/plain": [
       "213644"
      ]
     },
     "execution_count": 62,
     "metadata": {},
     "output_type": "execute_result"
    }
   ],
   "source": [
    "len(pool)"
   ]
  },
  {
   "cell_type": "markdown",
   "metadata": {},
   "source": [
    "sample classification (balanced) \n",
    "active learning \n",
    "(not removing numbers) \n"
   ]
  }
 ],
 "metadata": {
  "kernelspec": {
   "display_name": "Python 3",
   "language": "python",
   "name": "python3"
  },
  "language_info": {
   "codemirror_mode": {
    "name": "ipython",
    "version": 3
   },
   "file_extension": ".py",
   "mimetype": "text/x-python",
   "name": "python",
   "nbconvert_exporter": "python",
   "pygments_lexer": "ipython3",
   "version": "3.7.6"
  }
 },
 "nbformat": 4,
 "nbformat_minor": 4
}
