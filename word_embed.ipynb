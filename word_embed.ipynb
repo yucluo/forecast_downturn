{
 "cells": [
  {
   "cell_type": "code",
   "execution_count": 29,
   "metadata": {},
   "outputs": [],
   "source": [
    "import os\n",
    "import re\n",
    "import gensim\n",
    "from gensim.models import Word2Vec\n",
    "from gensim.models.phrases import Phrases, Phraser"
   ]
  },
  {
   "cell_type": "code",
   "execution_count": 2,
   "metadata": {},
   "outputs": [],
   "source": [
    "texts = []\n",
    "separator = \",\"\n",
    "os.chdir(\"/Users/yuchenluo/Desktop/forecast_downturn/txt\")\n",
    "\n",
    "for filename in os.listdir(\"/Users/yuchenluo/Desktop/forecast_downturn/txt\"):\n",
    "    if filename.endswith(\"txt\"):\n",
    "        f = open(filename)\n",
    "        lines = f.read()\n",
    "        lst = re.findall(r'<bodyText>(.*?)</bodyText>', lines)\n",
    "        string = separator.join(lst)\n",
    "        text = re.sub('<.*?>', '', string)\n",
    "        texts.append(text)\n",
    "    else:\n",
    "        continue\n"
   ]
  },
  {
   "cell_type": "code",
   "execution_count": 3,
   "metadata": {},
   "outputs": [],
   "source": [
    "text = separator.join(texts)\n",
    "sentences = text.split(\".\")\n"
   ]
  },
  {
   "cell_type": "code",
   "execution_count": 7,
   "metadata": {},
   "outputs": [
    {
     "data": {
      "text/plain": [
       "list"
      ]
     },
     "execution_count": 7,
     "metadata": {},
     "output_type": "execute_result"
    }
   ],
   "source": [
    "type(sentence_token)"
   ]
  },
  {
   "cell_type": "code",
   "execution_count": null,
   "metadata": {},
   "outputs": [],
   "source": [
    "sentence_token=[]\n",
    "from gensim.utils import tokenize\n",
    "for sentence in sentences:\n",
    "    tok = list(tokenize(sentence, deacc=True, to_lower=True))\n",
    "    sentence_token.append(tok)\n"
   ]
  },
  {
   "cell_type": "code",
   "execution_count": 51,
   "metadata": {},
   "outputs": [],
   "source": [
    "#bigrams = phrases.Phrases(sentence_token)\n",
    "\n",
    "phrases = Phrases(sentence_token, min_count=50, threshold=10)"
   ]
  },
  {
   "cell_type": "code",
   "execution_count": 52,
   "metadata": {},
   "outputs": [],
   "source": [
    "bigram = Phraser(phrases)"
   ]
  },
  {
   "cell_type": "code",
   "execution_count": 53,
   "metadata": {},
   "outputs": [],
   "source": [
    "bigram.save('bigram_model.txt')\n"
   ]
  },
  {
   "cell_type": "code",
   "execution_count": 54,
   "metadata": {},
   "outputs": [],
   "source": [
    "model_bi = Word2Vec(bigram[sentence_token], min_count=1000)\n"
   ]
  },
  {
   "cell_type": "code",
   "execution_count": 15,
   "metadata": {},
   "outputs": [
    {
     "name": "stdout",
     "output_type": "stream",
     "text": [
      "[-1.9124075   0.74283487  2.4741256  -0.02132998 -1.0268543   3.7654061\n",
      " -0.4949196  -1.6288228   5.0098896  -4.418519    6.7391205  -3.757579\n",
      " -2.89023    -0.5127705  -1.5093733  -0.83613     0.833179    6.7474875\n",
      " -0.16075453  0.9068694   5.2267985   1.1823912  -0.48258582  1.4808604\n",
      "  0.53814626 -2.796647   -0.0641953   0.68699515  0.10398033 -1.8322368\n",
      "  0.5618592   3.5194108  -3.4946826  -4.3908863  -0.7778187   1.7499169\n",
      "  3.3189027   5.89012     0.6242813   2.1123888   0.18827371 -2.5343359\n",
      "  3.7643745   2.5302622   2.1277099  -1.1594055   0.66373     3.8295124\n",
      "  0.65033484  2.690833   -6.865141    1.5220798   4.4603715   3.2391565\n",
      " -0.7366628   1.7336596  -7.3883233   2.4684055  -0.2655163  -1.7100306\n",
      " -1.7754742   0.30365267  3.356492   -2.7501602  -0.6745846   2.8896701\n",
      " -3.1449745   0.47167102 -4.115027    0.9368437   2.362576   -1.2592437\n",
      " -1.1324984  -3.1961489  -2.0983572  -3.603874    1.6517658   4.226885\n",
      "  1.8367882  -2.3970597  -3.9923651  -1.458812    1.2988133  -4.4561296\n",
      " -4.6953506  -2.430789    2.2781487   2.5002148   3.2022233  -2.8202708\n",
      "  0.6692287   1.1117617  -4.5261855   3.4047687  -0.9340817  -1.9459956\n",
      "  1.6789801  -0.5391818   1.8088195  -1.6539606 ]\n"
     ]
    },
    {
     "name": "stderr",
     "output_type": "stream",
     "text": [
      "/opt/anaconda3/lib/python3.7/site-packages/ipykernel_launcher.py:1: DeprecationWarning: Call to deprecated `__getitem__` (Method will be removed in 4.0.0, use self.wv.__getitem__() instead).\n",
      "  \"\"\"Entry point for launching an IPython kernel.\n"
     ]
    }
   ],
   "source": []
  },
  {
   "cell_type": "code",
   "execution_count": 16,
   "metadata": {},
   "outputs": [
    {
     "name": "stderr",
     "output_type": "stream",
     "text": [
      "/opt/anaconda3/lib/python3.7/site-packages/ipykernel_launcher.py:1: DeprecationWarning: Call to deprecated `most_similar` (Method will be removed in 4.0.0, use self.wv.most_similar() instead).\n",
      "  \"\"\"Entry point for launching an IPython kernel.\n"
     ]
    },
    {
     "name": "stdout",
     "output_type": "stream",
     "text": [
      "[('downturn', 0.8561673760414124), ('slump', 0.7807730436325073), ('slowdown', 0.758199155330658), ('crisis', 0.7086883783340454), ('malaise', 0.6903278231620789), ('turmoil', 0.6563324928283691), ('meltdown', 0.6424022316932678), ('recessions', 0.6297659873962402), ('doldrums', 0.6175464391708374), ('crunch', 0.6148030161857605)]\n"
     ]
    }
   ],
   "source": [
    "result = model.most_similar(positive=['recession'], topn=10)\n",
    "print(result)"
   ]
  },
  {
   "cell_type": "code",
   "execution_count": 17,
   "metadata": {},
   "outputs": [],
   "source": [
    "model.save('news_model')"
   ]
  },
  {
   "cell_type": "code",
   "execution_count": 18,
   "metadata": {},
   "outputs": [],
   "source": [
    "new_model = Word2Vec.load('news_model')"
   ]
  },
  {
   "cell_type": "code",
   "execution_count": 55,
   "metadata": {},
   "outputs": [
    {
     "name": "stderr",
     "output_type": "stream",
     "text": [
      "/opt/anaconda3/lib/python3.7/site-packages/ipykernel_launcher.py:1: DeprecationWarning: Call to deprecated `most_similar` (Method will be removed in 4.0.0, use self.wv.most_similar() instead).\n",
      "  \"\"\"Entry point for launching an IPython kernel.\n"
     ]
    },
    {
     "data": {
      "text/plain": [
       "[('downturn', 0.8743812441825867),\n",
       " ('deep_recession', 0.8639299273490906),\n",
       " ('economic_downturn', 0.8291537761688232),\n",
       " ('deepening_recession', 0.7954056262969971),\n",
       " ('slump', 0.7747033834457397),\n",
       " ('financial_crisis', 0.7601980566978455),\n",
       " ('credit_crunch', 0.7469515800476074),\n",
       " ('economic_slowdown', 0.738577127456665),\n",
       " ('housing_slump', 0.7320672273635864),\n",
       " ('slowdown', 0.721569299697876)]"
      ]
     },
     "execution_count": 55,
     "metadata": {},
     "output_type": "execute_result"
    }
   ],
   "source": [
    "model_bi.most_similar(positive=['recession'], topn=10)"
   ]
  },
  {
   "cell_type": "markdown",
   "metadata": {},
   "source": [
    "# Get trigrams "
   ]
  },
  {
   "cell_type": "code",
   "execution_count": null,
   "metadata": {},
   "outputs": [],
   "source": []
  },
  {
   "cell_type": "code",
   "execution_count": 103,
   "metadata": {},
   "outputs": [],
   "source": [
    "# apply the trained bigram model to a sentence\n",
    "# train a trigram model with lower threshold\n",
    "trigram = Phrases(bigram[sentence_token],min_count=50, threshold=3)"
   ]
  },
  {
   "cell_type": "code",
   "execution_count": 108,
   "metadata": {},
   "outputs": [],
   "source": [
    "model_tri = Word2Vec(trigram[bigram[sentence_token]], min_count = 3000, size = 50)\n"
   ]
  },
  {
   "cell_type": "code",
   "execution_count": 109,
   "metadata": {},
   "outputs": [
    {
     "name": "stderr",
     "output_type": "stream",
     "text": [
      "/opt/anaconda3/lib/python3.7/site-packages/ipykernel_launcher.py:1: DeprecationWarning: Call to deprecated `most_similar` (Method will be removed in 4.0.0, use self.wv.most_similar() instead).\n",
      "  \"\"\"Entry point for launching an IPython kernel.\n"
     ]
    },
    {
     "data": {
      "text/plain": [
       "[('downturn', 0.8875588178634644),\n",
       " ('global_recession', 0.8280379772186279),\n",
       " ('economic_downturn', 0.8133569955825806),\n",
       " ('credit_crunch', 0.7884618043899536),\n",
       " ('slump', 0.7563219666481018),\n",
       " ('economic_crisis', 0.7557041645050049),\n",
       " ('financial_crisis', 0.7480322122573853),\n",
       " ('credit_crisis', 0.7410745620727539),\n",
       " ('crisis', 0.729243278503418),\n",
       " ('slowdown', 0.7166724801063538),\n",
       " ('depression', 0.6592746376991272),\n",
       " ('boom', 0.6521457433700562),\n",
       " ('economy', 0.6511626243591309),\n",
       " ('great_depression', 0.6381833553314209),\n",
       " ('decades', 0.6322263479232788),\n",
       " ('housing_market', 0.6306992769241333),\n",
       " ('global_economy', 0.6214168071746826),\n",
       " ('job_market', 0.6144375801086426),\n",
       " ('situation', 0.6119779348373413),\n",
       " ('recessions', 0.6017506718635559),\n",
       " ('recovery', 0.5978338122367859),\n",
       " ('severe', 0.5750150680541992),\n",
       " ('cycle', 0.565274715423584),\n",
       " ('nation', 0.5631290078163147),\n",
       " ('pain', 0.5624801516532898),\n",
       " ('rebound', 0.5603594183921814),\n",
       " ('slowing', 0.5498514175415039),\n",
       " ('collapse', 0.5497232675552368),\n",
       " ('contraction', 0.547741174697876),\n",
       " ('consumer_spending', 0.5372649431228638),\n",
       " ('job_losses', 0.5312614440917969),\n",
       " ('uncertainty', 0.528062105178833),\n",
       " ('deep', 0.52667236328125),\n",
       " ('feeling', 0.525336503982544),\n",
       " ('bad_news', 0.525198757648468),\n",
       " ('auto_industry', 0.5228707194328308),\n",
       " ('trend', 0.5218425989151001),\n",
       " ('decade', 0.5211827158927917),\n",
       " ('weakening', 0.5084176063537598),\n",
       " ('picture', 0.5082907676696777),\n",
       " ('trouble', 0.5073652267456055),\n",
       " ('reality', 0.50532466173172),\n",
       " ('country', 0.5024133324623108),\n",
       " ('falling', 0.5017142295837402),\n",
       " ('wave', 0.4993835687637329),\n",
       " ('financial_markets', 0.49729394912719727),\n",
       " ('threat', 0.49652913212776184),\n",
       " ('economic_activity', 0.49483394622802734),\n",
       " ('shrinking', 0.49357348680496216),\n",
       " ('fear', 0.4792943298816681),\n",
       " ('weak', 0.47671520709991455),\n",
       " ('weakness', 0.4749037027359009),\n",
       " ('problem', 0.4744672477245331),\n",
       " ('labor_market', 0.47352614998817444),\n",
       " ('worst', 0.4717022776603699),\n",
       " ('concern', 0.47147414088249207),\n",
       " ('slow', 0.4714542031288147),\n",
       " ('credit_markets', 0.45906874537467957),\n",
       " ('summer', 0.458974152803421),\n",
       " ('damage', 0.458127498626709),\n",
       " ('slide', 0.4575539231300354),\n",
       " ('decline', 0.4541833996772766),\n",
       " ('economic_growth', 0.45260852575302124),\n",
       " ('plunge', 0.45071765780448914),\n",
       " ('easing', 0.44915249943733215),\n",
       " ('sharp', 0.448533296585083),\n",
       " ('winter', 0.4483795762062073),\n",
       " ('fall', 0.4476360082626343),\n",
       " ('worse', 0.44649583101272583),\n",
       " ('surge', 0.4398125410079956),\n",
       " ('consumer_confidence', 0.43863439559936523),\n",
       " ('region', 0.4348217844963074),\n",
       " ('spread', 0.43438273668289185),\n",
       " ('unemployment', 0.4324740767478943),\n",
       " ('problems', 0.43091997504234314),\n",
       " ('rising', 0.4291827082633972),\n",
       " ('declining', 0.4261752963066101),\n",
       " ('coming_months', 0.42481130361557007),\n",
       " ('home_prices', 0.420419842004776),\n",
       " ('struggle', 0.4173768162727356),\n",
       " ('fears', 0.41585302352905273),\n",
       " ('financial_sector', 0.41584306955337524),\n",
       " ('foreclosures', 0.41442352533340454),\n",
       " ('war', 0.41203728318214417),\n",
       " ('inflation', 0.41023483872413635),\n",
       " ('growing', 0.4089820384979248),\n",
       " ('recent_months', 0.40865975618362427),\n",
       " ('midst', 0.4075509309768677),\n",
       " ('season', 0.40636807680130005),\n",
       " ('dramatic', 0.4060671925544739),\n",
       " ('worries', 0.40558916330337524),\n",
       " ('unemployment_rate', 0.40549740195274353),\n",
       " ('financial_system', 0.4054561257362366),\n",
       " ('rise', 0.4040548801422119),\n",
       " ('weather', 0.4040406346321106),\n",
       " ('weaker', 0.4039282202720642),\n",
       " ('economic_conditions', 0.4021419882774353),\n",
       " ('optimism', 0.39588838815689087),\n",
       " ('factor', 0.39536961913108826),\n",
       " ('drop', 0.39481574296951294)]"
      ]
     },
     "execution_count": 109,
     "metadata": {},
     "output_type": "execute_result"
    }
   ],
   "source": [
    "model_tri.most_similar(positive=['recession'], topn=100)"
   ]
  },
  {
   "cell_type": "code",
   "execution_count": 110,
   "metadata": {},
   "outputs": [
    {
     "name": "stdout",
     "output_type": "stream",
     "text": [
      "['the', 'university', 'of', 'nevada', 'issued', 'the', 'following_news_release', 'this', 'is_shaping_up', 'to', 'be', 'a', 'real', 'great', 'holiday_season', 'isn_t', 'it', 'for_starters', 'a_lot', 'of', 'people', 'lost_their', 'jobs', 'this', 'year', 'and', 'those_who', 'found', 'another', 'one', 'often', 'had', 'to', 'settle', 'for', 'less', 'pay']\n"
     ]
    }
   ],
   "source": [
    "#print(trigram[bigram[sentence_token[500582]]])"
   ]
  },
  {
   "cell_type": "code",
   "execution_count": 102,
   "metadata": {},
   "outputs": [
    {
     "name": "stdout",
     "output_type": "stream",
     "text": [
      "['the', 'university', 'of', 'nevada', 'issued', 'the', 'following_news', 'release', 'this', 'is', 'shaping_up', 'to', 'be', 'a', 'real', 'great', 'holiday_season', 'isn_t', 'it', 'for', 'starters', 'a', 'lot', 'of', 'people', 'lost', 'their', 'jobs', 'this', 'year', 'and', 'those', 'who', 'found', 'another', 'one', 'often', 'had', 'to', 'settle', 'for', 'less', 'pay']\n"
     ]
    }
   ],
   "source": []
  },
  {
   "cell_type": "code",
   "execution_count": null,
   "metadata": {},
   "outputs": [],
   "source": []
  }
 ],
 "metadata": {
  "kernelspec": {
   "display_name": "Python 3",
   "language": "python",
   "name": "python3"
  },
  "language_info": {
   "codemirror_mode": {
    "name": "ipython",
    "version": 3
   },
   "file_extension": ".py",
   "mimetype": "text/x-python",
   "name": "python",
   "nbconvert_exporter": "python",
   "pygments_lexer": "ipython3",
   "version": "3.7.6"
  }
 },
 "nbformat": 4,
 "nbformat_minor": 4
}
